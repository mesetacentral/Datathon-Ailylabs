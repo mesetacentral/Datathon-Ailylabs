{
  "nbformat": 4,
  "nbformat_minor": 0,
  "metadata": {
    "colab": {
      "name": "Datathon Aily Labs.ipynb",
      "provenance": [],
      "collapsed_sections": [
        "HIHPeqEcbtAb",
        "qhTwF6cQcVvX",
        "-4Rl1KHcdVYJ",
        "NVE5Btiug32x",
        "blz6D6iig6dt"
      ]
    },
    "kernelspec": {
      "name": "python3",
      "display_name": "Python 3"
    },
    "language_info": {
      "name": "python"
    }
  },
  "cells": [
    {
      "cell_type": "markdown",
      "source": [
        "#Important\n",
        "This notebook has only reading permissions and you won't be able to edit it. You can make a copy of it by going to file -> save a copy in drive. Then, you will get an exact notebook that you'll be able to edit and work with.\n",
        "\n",
        "To participate, send the notebook (and any other relevant material) and the submission csv (with the columns appointment_id, prediction ) to bernat.gordo@ailylabs.com before 23:59 of Sunday, May 1. Remember that the prediction columns must be the continious score given by the model, and not the predictions cut in 0s and 1s.\n",
        "\n",
        "#0. About Aily\n",
        "At AILY LABS we are on a mission to re-think the “way of working” and driving business performance. Our vision is to develop beautiful digital AI products that are easy to integrate. We believe in challenging the status quo and empowering business with meaningful AI.\n",
        "\n",
        "https://www.linkedin.com/company/ailylabs\n",
        "\n",
        "https://ailylabs.com/\n",
        "\n",
        "\n",
        "If you'd like to join us, send your CV to bestjobs@ailylabs.com\n",
        "\n",
        "![aily_logo.svg](data:image/svg+xml;base64,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)\n",
        "\n",
        "\n",
        "# 1. Introduction\n",
        "##  1.1 The problem statement: no-shows in health appointments\n",
        "\n",
        "A no-show occurs when a patient does not attend a doctor's appointment that he/she had scheduled. For every missed appointment, there is a need to reschedule the patient. In addition, the doctor misses an opportunity to see another patient who could have taken the original time slot and benefitted by being seen.\n",
        "\n",
        "Missed appointments not only have an impact on patients' health, but they also have significant monetary costs. A study [1] found that missed appointments in the U.S. cost the industry an astounding \\$150 billion dollars every year. On average, each physician loses \\$200 per unused time slot.\n",
        "\n",
        "\n",
        "Our most precious resource in health care is the scarcely available time and expertise of the people who care for patients. So it’s essential that we ensure that patients are seen when they need to be.\n",
        "\n",
        "\n",
        "\n",
        "## 1.2 A Machine Learning approach for tackling patient no-show\n",
        "The most common approach to curb no-shows is reaching out to the patients in advance. However, every contact has a cost that must be covered by the health system. Therefore, the contact strategy must be somehow optimized. \n",
        "\n",
        "In this context, leveraging machine learning methods can help us to define a personalized reachability action, by only targeting those patients that have a higher risk of being a no-show, thus significantly reducing the overall contact costs.\n",
        "\n",
        "\n",
        "# 2 The challenge\n",
        "## 2.1 The data\n",
        "We have been given a doctor's appointment dataset. Each row is a specific appointment in the past and we have available the following features:\n",
        " *  **appointment_id**: Numerical identifier of each appointment\n",
        " *  **gender**: Gender of the patient\n",
        " *  **scheduled_day**: Date and hour when the appointment was scheduled\n",
        " *  **appointment_day**: Date and hour of the appointment\n",
        " *  **age**: age of the patient\n",
        " *  **neighborhood**: neighborhood of the patient \n",
        " *  **has_insurance**: indicates whether the patient has health insurance or not (1 =Yes and 0 =No)\n",
        " *  **hypertension**: indicates whether the patient suffers from hypertension or not (1 =Yes and 0 =No)               \n",
        " *  **diabetes**: indicates whether the patient suffers from diabetes or not (1 =Yes and 0 =No)                      \n",
        " *  **alcoholism**: indicates whether the patient suffers from alcoholism or not (1 =Yes and 0 =No)    \n",
        " *  **non_specialized_visit**: indicates whether the visit is a general visit (0) or not some specialization (>0)\n",
        " *  **sms_received**: indicates whether the patient received an SMS as a reminder of the appointment  (1=Yes and 0=No)    \n",
        " *  **num_prior_appointments**: number of prior appointments the patient attended during the last year    \n",
        " *  **total_cost_public_health**:   estimated cost of the patient to the public health system in €\n",
        " *  **has_health_app**:  indicates whether the patient has the national health system app installed (0=No 1=Yes)\n",
        "\n",
        "On top of that, we have a column (**no_show**) that indicates whether a no-sow occurred (0 if the patient showed up and 1 if not). Our goal is to predict this variable using the appointment's features. \n",
        "\n",
        "\n",
        "## 2.2 Building a model that predicts no-show\n",
        "Using the data described above, our main goal is to build a machine learning model able to predict those medical appointments that have a high risk of not-show. \n",
        "\n",
        "The winner of the challenge will be the team that achieves the better model in terms of predictive performance: that is to say, the model that predicts the best no-show appointments.\n",
        "\n",
        "The data has been split into two datasets:\n",
        "\n",
        "\n",
        "*   **Train dataset:** this dataset contains data for 83k appointments and all the variables, including the target variable no_show. It will be used to train our machine learning solution.\n",
        "*   **Test dataset:** this dataset contains data for 28k appointments and  all the variables, except the target variable (although we do know it, we kept it for ourselves). You will have to use your machine learning model (built using the train data) to predict the likelihood of a show over the test set. \n",
        "\n",
        "We will then compare your predictions over the test set with the real values. The team that scores the highest match between predictions and real values will be the winner. The performance metric that we will use to compare predictions with targets is the Area Under the ROC curve (aka AUC) (https://en.wikipedia.org/wiki/Receiver_operating_characteristic).\n",
        "\n",
        "\n",
        "To make things easier, in this notebook you'll find a proposal for the problem resolution, so you have something to begin with. But, we dare you to improve our solution!\n",
        "\n",
        "We used Python to approach this challenge, but if you feel more comfortable with R, feel free to use it."
      ],
      "metadata": {
        "id": "HIHPeqEcbtAb"
      }
    },
    {
      "cell_type": "markdown",
      "source": [
        ""
      ],
      "metadata": {
        "id": "6ClbPl2x5wMD"
      }
    },
    {
      "cell_type": "markdown",
      "source": [
        "# 3. Solution\n",
        "\n",
        "We have prepared a proposal of a solution of the problem. However, this is nor the only one nor the best one, thus, we encourage you to try it by yourself and improve our result!"
      ],
      "metadata": {
        "id": "BTR4Zj4Ebyg-"
      }
    },
    {
      "cell_type": "markdown",
      "source": [
        "## 3.1 Enviorment Setup & Data Loading\n",
        "\n",
        "Let's import the required libraries and load the data"
      ],
      "metadata": {
        "id": "JRDFB8gzb2q9"
      }
    },
    {
      "cell_type": "code",
      "source": [
        "# Data handling\n",
        "import pandas as pd\n",
        "import numpy as np\n",
        "import datetime\n",
        "import missingno as msno\n",
        "from tabulate import tabulate\n",
        "# Counter\n",
        "from collections import Counter\n",
        "\n",
        "# Visualization\n",
        "import matplotlib.pyplot as plt\n",
        "import seaborn as sns\n",
        "\n",
        "# Preprocessing & Machine learning\n",
        "import sklearn\n",
        "from sklearn.experimental import enable_iterative_imputer\n",
        "from sklearn.impute import IterativeImputer, SimpleImputer, KNNImputer\n",
        "\n",
        "from sklearn.neural_network import MLPClassifier\n",
        "from sklearn.neighbors import KNeighborsClassifier\n",
        "from sklearn.svm import SVC\n",
        "from sklearn.gaussian_process import GaussianProcessClassifier\n",
        "from sklearn.gaussian_process.kernels import RBF\n",
        "from sklearn.tree import DecisionTreeClassifier\n",
        "from sklearn.ensemble import RandomForestClassifier, AdaBoostClassifier\n",
        "from sklearn.naive_bayes import GaussianNB\n",
        "from sklearn.discriminant_analysis import QuadraticDiscriminantAnalysis\n",
        "\n",
        "from sklearn.metrics import roc_auc_score, precision_recall_curve, auc, roc_curve\n",
        "# Modelling\n",
        "import xgboost as xgb\n",
        "from xgboost import plot_importance\n",
        "\n",
        "# Shapely values\n",
        "!pip install shap\n",
        "import shap"
      ],
      "metadata": {
        "id": "DprDw9MGb5HT",
        "colab": {
          "base_uri": "https://localhost:8080/"
        },
        "outputId": "86b17055-f25e-42ce-89cc-a73c0f981610"
      },
      "execution_count": 1,
      "outputs": [
        {
          "output_type": "stream",
          "name": "stdout",
          "text": [
            "Requirement already satisfied: shap in /usr/local/lib/python3.7/dist-packages (0.40.0)\n",
            "Requirement already satisfied: tqdm>4.25.0 in /usr/local/lib/python3.7/dist-packages (from shap) (4.64.0)\n",
            "Requirement already satisfied: numpy in /usr/local/lib/python3.7/dist-packages (from shap) (1.21.6)\n",
            "Requirement already satisfied: cloudpickle in /usr/local/lib/python3.7/dist-packages (from shap) (1.3.0)\n",
            "Requirement already satisfied: slicer==0.0.7 in /usr/local/lib/python3.7/dist-packages (from shap) (0.0.7)\n",
            "Requirement already satisfied: numba in /usr/local/lib/python3.7/dist-packages (from shap) (0.51.2)\n",
            "Requirement already satisfied: packaging>20.9 in /usr/local/lib/python3.7/dist-packages (from shap) (21.3)\n",
            "Requirement already satisfied: pandas in /usr/local/lib/python3.7/dist-packages (from shap) (1.3.5)\n",
            "Requirement already satisfied: scipy in /usr/local/lib/python3.7/dist-packages (from shap) (1.4.1)\n",
            "Requirement already satisfied: scikit-learn in /usr/local/lib/python3.7/dist-packages (from shap) (1.0.2)\n",
            "Requirement already satisfied: pyparsing!=3.0.5,>=2.0.2 in /usr/local/lib/python3.7/dist-packages (from packaging>20.9->shap) (3.0.8)\n",
            "Requirement already satisfied: llvmlite<0.35,>=0.34.0.dev0 in /usr/local/lib/python3.7/dist-packages (from numba->shap) (0.34.0)\n",
            "Requirement already satisfied: setuptools in /usr/local/lib/python3.7/dist-packages (from numba->shap) (57.4.0)\n",
            "Requirement already satisfied: pytz>=2017.3 in /usr/local/lib/python3.7/dist-packages (from pandas->shap) (2022.1)\n",
            "Requirement already satisfied: python-dateutil>=2.7.3 in /usr/local/lib/python3.7/dist-packages (from pandas->shap) (2.8.2)\n",
            "Requirement already satisfied: six>=1.5 in /usr/local/lib/python3.7/dist-packages (from python-dateutil>=2.7.3->pandas->shap) (1.15.0)\n",
            "Requirement already satisfied: joblib>=0.11 in /usr/local/lib/python3.7/dist-packages (from scikit-learn->shap) (1.1.0)\n",
            "Requirement already satisfied: threadpoolctl>=2.0.0 in /usr/local/lib/python3.7/dist-packages (from scikit-learn->shap) (3.1.0)\n"
          ]
        }
      ]
    },
    {
      "cell_type": "markdown",
      "source": [
        "\n",
        "## 3.2 Exploratory Data Analysis (EDA)\n",
        "\n",
        "Exploratory Data Analysis refers to the critical process of performing initial investigations on data so as to discover patterns,to spot anomalies,to test hypothesis and to check assumptions with the help of summary statistics and graphical representations.\n",
        "\n",
        "Our target is the variable *no_show*, hence, we will focus our efforts on this variable and it's relation to the rest of variables."
      ],
      "metadata": {
        "id": "WJ2-n_SEcEkc"
      }
    },
    {
      "cell_type": "code",
      "source": [
        "# Let's read the data\n",
        "df_train = pd.read_csv('train.csv')\n",
        "# Let's do some basic exploration\n",
        "s = df_train.shape\n",
        "print(f\"Training data has {s[0]} rows and {s[1]} columns.\")\n",
        "df_train.head()"
      ],
      "metadata": {
        "colab": {
          "base_uri": "https://localhost:8080/",
          "height": 306
        },
        "id": "LnGkD29scGy-",
        "outputId": "e03a2263-ecd6-4871-d1e7-b90d5e9eb270"
      },
      "execution_count": 2,
      "outputs": [
        {
          "output_type": "stream",
          "name": "stdout",
          "text": [
            "Training data has 82895 rows and 16 columns.\n"
          ]
        },
        {
          "output_type": "execute_result",
          "data": {
            "text/plain": [
              "   appointment_id gender         scheduled_day       appointment_day   age  \\\n",
              "0         5767698      F  2016-06-03T06:44:55Z  2016-06-08T00:00:00Z  49.0   \n",
              "1         5663873      F  2016-05-05T10:41:35Z  2016-05-18T00:00:00Z  45.0   \n",
              "2         5663052      M  2016-05-05T09:25:43Z  2016-05-20T00:00:00Z  36.0   \n",
              "3         5671513      F  2016-05-06T17:39:08Z  2016-05-10T00:00:00Z  51.0   \n",
              "4         5693146      F  2016-05-12T17:57:58Z  2016-05-16T00:00:00Z  53.0   \n",
              "\n",
              "       neighbourhood  has_insurance  hipertension  diabetes  alcoholism  \\\n",
              "0              OTHER            0.0           1.0       0.0         0.0   \n",
              "1              OTHER            1.0           0.0       0.0         0.0   \n",
              "2              OTHER            0.0           0.0       0.0         0.0   \n",
              "3              OTHER            0.0           0.0       0.0         0.0   \n",
              "4  JESUS DE NAZARETH            1.0           1.0       0.0         0.0   \n",
              "\n",
              "   non_specialized_visit  sms_received  no_show  num_prior_appointments  \\\n",
              "0                    0.0           0.0        0                     3.0   \n",
              "1                    0.0           0.0        1                     2.0   \n",
              "2                    0.0           0.0        0                     6.0   \n",
              "3                    0.0           0.0        1                     0.0   \n",
              "4                    0.0           1.0        0                     2.0   \n",
              "\n",
              "   total_cost_public_health  has_health_app  \n",
              "0              13380.729360             1.0  \n",
              "1              12862.064714             0.0  \n",
              "2              20813.096845             1.0  \n",
              "3                       NaN             0.0  \n",
              "4              11031.959590             0.0  "
            ],
            "text/html": [
              "\n",
              "  <div id=\"df-0a95c90a-1ac4-4087-9f9d-3254e77b7f91\">\n",
              "    <div class=\"colab-df-container\">\n",
              "      <div>\n",
              "<style scoped>\n",
              "    .dataframe tbody tr th:only-of-type {\n",
              "        vertical-align: middle;\n",
              "    }\n",
              "\n",
              "    .dataframe tbody tr th {\n",
              "        vertical-align: top;\n",
              "    }\n",
              "\n",
              "    .dataframe thead th {\n",
              "        text-align: right;\n",
              "    }\n",
              "</style>\n",
              "<table border=\"1\" class=\"dataframe\">\n",
              "  <thead>\n",
              "    <tr style=\"text-align: right;\">\n",
              "      <th></th>\n",
              "      <th>appointment_id</th>\n",
              "      <th>gender</th>\n",
              "      <th>scheduled_day</th>\n",
              "      <th>appointment_day</th>\n",
              "      <th>age</th>\n",
              "      <th>neighbourhood</th>\n",
              "      <th>has_insurance</th>\n",
              "      <th>hipertension</th>\n",
              "      <th>diabetes</th>\n",
              "      <th>alcoholism</th>\n",
              "      <th>non_specialized_visit</th>\n",
              "      <th>sms_received</th>\n",
              "      <th>no_show</th>\n",
              "      <th>num_prior_appointments</th>\n",
              "      <th>total_cost_public_health</th>\n",
              "      <th>has_health_app</th>\n",
              "    </tr>\n",
              "  </thead>\n",
              "  <tbody>\n",
              "    <tr>\n",
              "      <th>0</th>\n",
              "      <td>5767698</td>\n",
              "      <td>F</td>\n",
              "      <td>2016-06-03T06:44:55Z</td>\n",
              "      <td>2016-06-08T00:00:00Z</td>\n",
              "      <td>49.0</td>\n",
              "      <td>OTHER</td>\n",
              "      <td>0.0</td>\n",
              "      <td>1.0</td>\n",
              "      <td>0.0</td>\n",
              "      <td>0.0</td>\n",
              "      <td>0.0</td>\n",
              "      <td>0.0</td>\n",
              "      <td>0</td>\n",
              "      <td>3.0</td>\n",
              "      <td>13380.729360</td>\n",
              "      <td>1.0</td>\n",
              "    </tr>\n",
              "    <tr>\n",
              "      <th>1</th>\n",
              "      <td>5663873</td>\n",
              "      <td>F</td>\n",
              "      <td>2016-05-05T10:41:35Z</td>\n",
              "      <td>2016-05-18T00:00:00Z</td>\n",
              "      <td>45.0</td>\n",
              "      <td>OTHER</td>\n",
              "      <td>1.0</td>\n",
              "      <td>0.0</td>\n",
              "      <td>0.0</td>\n",
              "      <td>0.0</td>\n",
              "      <td>0.0</td>\n",
              "      <td>0.0</td>\n",
              "      <td>1</td>\n",
              "      <td>2.0</td>\n",
              "      <td>12862.064714</td>\n",
              "      <td>0.0</td>\n",
              "    </tr>\n",
              "    <tr>\n",
              "      <th>2</th>\n",
              "      <td>5663052</td>\n",
              "      <td>M</td>\n",
              "      <td>2016-05-05T09:25:43Z</td>\n",
              "      <td>2016-05-20T00:00:00Z</td>\n",
              "      <td>36.0</td>\n",
              "      <td>OTHER</td>\n",
              "      <td>0.0</td>\n",
              "      <td>0.0</td>\n",
              "      <td>0.0</td>\n",
              "      <td>0.0</td>\n",
              "      <td>0.0</td>\n",
              "      <td>0.0</td>\n",
              "      <td>0</td>\n",
              "      <td>6.0</td>\n",
              "      <td>20813.096845</td>\n",
              "      <td>1.0</td>\n",
              "    </tr>\n",
              "    <tr>\n",
              "      <th>3</th>\n",
              "      <td>5671513</td>\n",
              "      <td>F</td>\n",
              "      <td>2016-05-06T17:39:08Z</td>\n",
              "      <td>2016-05-10T00:00:00Z</td>\n",
              "      <td>51.0</td>\n",
              "      <td>OTHER</td>\n",
              "      <td>0.0</td>\n",
              "      <td>0.0</td>\n",
              "      <td>0.0</td>\n",
              "      <td>0.0</td>\n",
              "      <td>0.0</td>\n",
              "      <td>0.0</td>\n",
              "      <td>1</td>\n",
              "      <td>0.0</td>\n",
              "      <td>NaN</td>\n",
              "      <td>0.0</td>\n",
              "    </tr>\n",
              "    <tr>\n",
              "      <th>4</th>\n",
              "      <td>5693146</td>\n",
              "      <td>F</td>\n",
              "      <td>2016-05-12T17:57:58Z</td>\n",
              "      <td>2016-05-16T00:00:00Z</td>\n",
              "      <td>53.0</td>\n",
              "      <td>JESUS DE NAZARETH</td>\n",
              "      <td>1.0</td>\n",
              "      <td>1.0</td>\n",
              "      <td>0.0</td>\n",
              "      <td>0.0</td>\n",
              "      <td>0.0</td>\n",
              "      <td>1.0</td>\n",
              "      <td>0</td>\n",
              "      <td>2.0</td>\n",
              "      <td>11031.959590</td>\n",
              "      <td>0.0</td>\n",
              "    </tr>\n",
              "  </tbody>\n",
              "</table>\n",
              "</div>\n",
              "      <button class=\"colab-df-convert\" onclick=\"convertToInteractive('df-0a95c90a-1ac4-4087-9f9d-3254e77b7f91')\"\n",
              "              title=\"Convert this dataframe to an interactive table.\"\n",
              "              style=\"display:none;\">\n",
              "        \n",
              "  <svg xmlns=\"http://www.w3.org/2000/svg\" height=\"24px\"viewBox=\"0 0 24 24\"\n",
              "       width=\"24px\">\n",
              "    <path d=\"M0 0h24v24H0V0z\" fill=\"none\"/>\n",
              "    <path d=\"M18.56 5.44l.94 2.06.94-2.06 2.06-.94-2.06-.94-.94-2.06-.94 2.06-2.06.94zm-11 1L8.5 8.5l.94-2.06 2.06-.94-2.06-.94L8.5 2.5l-.94 2.06-2.06.94zm10 10l.94 2.06.94-2.06 2.06-.94-2.06-.94-.94-2.06-.94 2.06-2.06.94z\"/><path d=\"M17.41 7.96l-1.37-1.37c-.4-.4-.92-.59-1.43-.59-.52 0-1.04.2-1.43.59L10.3 9.45l-7.72 7.72c-.78.78-.78 2.05 0 2.83L4 21.41c.39.39.9.59 1.41.59.51 0 1.02-.2 1.41-.59l7.78-7.78 2.81-2.81c.8-.78.8-2.07 0-2.86zM5.41 20L4 18.59l7.72-7.72 1.47 1.35L5.41 20z\"/>\n",
              "  </svg>\n",
              "      </button>\n",
              "      \n",
              "  <style>\n",
              "    .colab-df-container {\n",
              "      display:flex;\n",
              "      flex-wrap:wrap;\n",
              "      gap: 12px;\n",
              "    }\n",
              "\n",
              "    .colab-df-convert {\n",
              "      background-color: #E8F0FE;\n",
              "      border: none;\n",
              "      border-radius: 50%;\n",
              "      cursor: pointer;\n",
              "      display: none;\n",
              "      fill: #1967D2;\n",
              "      height: 32px;\n",
              "      padding: 0 0 0 0;\n",
              "      width: 32px;\n",
              "    }\n",
              "\n",
              "    .colab-df-convert:hover {\n",
              "      background-color: #E2EBFA;\n",
              "      box-shadow: 0px 1px 2px rgba(60, 64, 67, 0.3), 0px 1px 3px 1px rgba(60, 64, 67, 0.15);\n",
              "      fill: #174EA6;\n",
              "    }\n",
              "\n",
              "    [theme=dark] .colab-df-convert {\n",
              "      background-color: #3B4455;\n",
              "      fill: #D2E3FC;\n",
              "    }\n",
              "\n",
              "    [theme=dark] .colab-df-convert:hover {\n",
              "      background-color: #434B5C;\n",
              "      box-shadow: 0px 1px 3px 1px rgba(0, 0, 0, 0.15);\n",
              "      filter: drop-shadow(0px 1px 2px rgba(0, 0, 0, 0.3));\n",
              "      fill: #FFFFFF;\n",
              "    }\n",
              "  </style>\n",
              "\n",
              "      <script>\n",
              "        const buttonEl =\n",
              "          document.querySelector('#df-0a95c90a-1ac4-4087-9f9d-3254e77b7f91 button.colab-df-convert');\n",
              "        buttonEl.style.display =\n",
              "          google.colab.kernel.accessAllowed ? 'block' : 'none';\n",
              "\n",
              "        async function convertToInteractive(key) {\n",
              "          const element = document.querySelector('#df-0a95c90a-1ac4-4087-9f9d-3254e77b7f91');\n",
              "          const dataTable =\n",
              "            await google.colab.kernel.invokeFunction('convertToInteractive',\n",
              "                                                     [key], {});\n",
              "          if (!dataTable) return;\n",
              "\n",
              "          const docLinkHtml = 'Like what you see? Visit the ' +\n",
              "            '<a target=\"_blank\" href=https://colab.research.google.com/notebooks/data_table.ipynb>data table notebook</a>'\n",
              "            + ' to learn more about interactive tables.';\n",
              "          element.innerHTML = '';\n",
              "          dataTable['output_type'] = 'display_data';\n",
              "          await google.colab.output.renderOutput(dataTable, element);\n",
              "          const docLink = document.createElement('div');\n",
              "          docLink.innerHTML = docLinkHtml;\n",
              "          element.appendChild(docLink);\n",
              "        }\n",
              "      </script>\n",
              "    </div>\n",
              "  </div>\n",
              "  "
            ]
          },
          "metadata": {},
          "execution_count": 2
        }
      ]
    },
    {
      "cell_type": "markdown",
      "source": [
        "## Basic Data Analysis\n",
        "A general summary of all the variables will give us an idea of their distribution."
      ],
      "metadata": {
        "id": "Zv7XOELvcOXO"
      }
    },
    {
      "cell_type": "code",
      "source": [
        "df_train.describe()"
      ],
      "metadata": {
        "colab": {
          "base_uri": "https://localhost:8080/",
          "height": 364
        },
        "id": "INL3tkXlcR2X",
        "outputId": "b842fade-816c-46ec-a2d4-bcec864ec14a"
      },
      "execution_count": 3,
      "outputs": [
        {
          "output_type": "execute_result",
          "data": {
            "text/plain": [
              "       appointment_id           age  has_insurance  hipertension  \\\n",
              "count    8.289500e+04  76922.000000   76623.000000  76874.000000   \n",
              "mean     5.675099e+06     37.139713       0.097986      0.197245   \n",
              "std      7.136604e+04     23.131048       0.297298      0.397921   \n",
              "min      5.030230e+06     -1.000000       0.000000      0.000000   \n",
              "25%      5.640120e+06     18.000000       0.000000      0.000000   \n",
              "50%      5.680401e+06     37.000000       0.000000      0.000000   \n",
              "75%      5.725336e+06     56.000000       0.000000      0.000000   \n",
              "max      5.790484e+06    115.000000       1.000000      1.000000   \n",
              "\n",
              "           diabetes    alcoholism  non_specialized_visit  sms_received  \\\n",
              "count  75533.000000  76883.000000           75986.000000  77745.000000   \n",
              "mean       0.072909      0.030111               0.022215      0.319686   \n",
              "std        0.259988      0.170893               0.161608      0.466358   \n",
              "min        0.000000      0.000000               0.000000      0.000000   \n",
              "25%        0.000000      0.000000               0.000000      0.000000   \n",
              "50%        0.000000      0.000000               0.000000      0.000000   \n",
              "75%        0.000000      0.000000               0.000000      1.000000   \n",
              "max        1.000000      1.000000               4.000000      1.000000   \n",
              "\n",
              "            no_show  num_prior_appointments  total_cost_public_health  \\\n",
              "count  82895.000000            76609.000000              77738.000000   \n",
              "mean       0.202859                2.217155              11973.117387   \n",
              "std        0.402131                1.530059               3368.191290   \n",
              "min        0.000000                0.000000                  0.000000   \n",
              "25%        0.000000                1.000000               9706.814238   \n",
              "50%        0.000000                2.000000              11965.005869   \n",
              "75%        0.000000                3.000000              14248.922925   \n",
              "max        1.000000               11.000000              26247.363173   \n",
              "\n",
              "       has_health_app  \n",
              "count    78662.000000  \n",
              "mean         0.266240  \n",
              "std          0.441994  \n",
              "min          0.000000  \n",
              "25%          0.000000  \n",
              "50%          0.000000  \n",
              "75%          1.000000  \n",
              "max          1.000000  "
            ],
            "text/html": [
              "\n",
              "  <div id=\"df-f89be502-bdfe-40fc-ba60-0e691e774209\">\n",
              "    <div class=\"colab-df-container\">\n",
              "      <div>\n",
              "<style scoped>\n",
              "    .dataframe tbody tr th:only-of-type {\n",
              "        vertical-align: middle;\n",
              "    }\n",
              "\n",
              "    .dataframe tbody tr th {\n",
              "        vertical-align: top;\n",
              "    }\n",
              "\n",
              "    .dataframe thead th {\n",
              "        text-align: right;\n",
              "    }\n",
              "</style>\n",
              "<table border=\"1\" class=\"dataframe\">\n",
              "  <thead>\n",
              "    <tr style=\"text-align: right;\">\n",
              "      <th></th>\n",
              "      <th>appointment_id</th>\n",
              "      <th>age</th>\n",
              "      <th>has_insurance</th>\n",
              "      <th>hipertension</th>\n",
              "      <th>diabetes</th>\n",
              "      <th>alcoholism</th>\n",
              "      <th>non_specialized_visit</th>\n",
              "      <th>sms_received</th>\n",
              "      <th>no_show</th>\n",
              "      <th>num_prior_appointments</th>\n",
              "      <th>total_cost_public_health</th>\n",
              "      <th>has_health_app</th>\n",
              "    </tr>\n",
              "  </thead>\n",
              "  <tbody>\n",
              "    <tr>\n",
              "      <th>count</th>\n",
              "      <td>8.289500e+04</td>\n",
              "      <td>76922.000000</td>\n",
              "      <td>76623.000000</td>\n",
              "      <td>76874.000000</td>\n",
              "      <td>75533.000000</td>\n",
              "      <td>76883.000000</td>\n",
              "      <td>75986.000000</td>\n",
              "      <td>77745.000000</td>\n",
              "      <td>82895.000000</td>\n",
              "      <td>76609.000000</td>\n",
              "      <td>77738.000000</td>\n",
              "      <td>78662.000000</td>\n",
              "    </tr>\n",
              "    <tr>\n",
              "      <th>mean</th>\n",
              "      <td>5.675099e+06</td>\n",
              "      <td>37.139713</td>\n",
              "      <td>0.097986</td>\n",
              "      <td>0.197245</td>\n",
              "      <td>0.072909</td>\n",
              "      <td>0.030111</td>\n",
              "      <td>0.022215</td>\n",
              "      <td>0.319686</td>\n",
              "      <td>0.202859</td>\n",
              "      <td>2.217155</td>\n",
              "      <td>11973.117387</td>\n",
              "      <td>0.266240</td>\n",
              "    </tr>\n",
              "    <tr>\n",
              "      <th>std</th>\n",
              "      <td>7.136604e+04</td>\n",
              "      <td>23.131048</td>\n",
              "      <td>0.297298</td>\n",
              "      <td>0.397921</td>\n",
              "      <td>0.259988</td>\n",
              "      <td>0.170893</td>\n",
              "      <td>0.161608</td>\n",
              "      <td>0.466358</td>\n",
              "      <td>0.402131</td>\n",
              "      <td>1.530059</td>\n",
              "      <td>3368.191290</td>\n",
              "      <td>0.441994</td>\n",
              "    </tr>\n",
              "    <tr>\n",
              "      <th>min</th>\n",
              "      <td>5.030230e+06</td>\n",
              "      <td>-1.000000</td>\n",
              "      <td>0.000000</td>\n",
              "      <td>0.000000</td>\n",
              "      <td>0.000000</td>\n",
              "      <td>0.000000</td>\n",
              "      <td>0.000000</td>\n",
              "      <td>0.000000</td>\n",
              "      <td>0.000000</td>\n",
              "      <td>0.000000</td>\n",
              "      <td>0.000000</td>\n",
              "      <td>0.000000</td>\n",
              "    </tr>\n",
              "    <tr>\n",
              "      <th>25%</th>\n",
              "      <td>5.640120e+06</td>\n",
              "      <td>18.000000</td>\n",
              "      <td>0.000000</td>\n",
              "      <td>0.000000</td>\n",
              "      <td>0.000000</td>\n",
              "      <td>0.000000</td>\n",
              "      <td>0.000000</td>\n",
              "      <td>0.000000</td>\n",
              "      <td>0.000000</td>\n",
              "      <td>1.000000</td>\n",
              "      <td>9706.814238</td>\n",
              "      <td>0.000000</td>\n",
              "    </tr>\n",
              "    <tr>\n",
              "      <th>50%</th>\n",
              "      <td>5.680401e+06</td>\n",
              "      <td>37.000000</td>\n",
              "      <td>0.000000</td>\n",
              "      <td>0.000000</td>\n",
              "      <td>0.000000</td>\n",
              "      <td>0.000000</td>\n",
              "      <td>0.000000</td>\n",
              "      <td>0.000000</td>\n",
              "      <td>0.000000</td>\n",
              "      <td>2.000000</td>\n",
              "      <td>11965.005869</td>\n",
              "      <td>0.000000</td>\n",
              "    </tr>\n",
              "    <tr>\n",
              "      <th>75%</th>\n",
              "      <td>5.725336e+06</td>\n",
              "      <td>56.000000</td>\n",
              "      <td>0.000000</td>\n",
              "      <td>0.000000</td>\n",
              "      <td>0.000000</td>\n",
              "      <td>0.000000</td>\n",
              "      <td>0.000000</td>\n",
              "      <td>1.000000</td>\n",
              "      <td>0.000000</td>\n",
              "      <td>3.000000</td>\n",
              "      <td>14248.922925</td>\n",
              "      <td>1.000000</td>\n",
              "    </tr>\n",
              "    <tr>\n",
              "      <th>max</th>\n",
              "      <td>5.790484e+06</td>\n",
              "      <td>115.000000</td>\n",
              "      <td>1.000000</td>\n",
              "      <td>1.000000</td>\n",
              "      <td>1.000000</td>\n",
              "      <td>1.000000</td>\n",
              "      <td>4.000000</td>\n",
              "      <td>1.000000</td>\n",
              "      <td>1.000000</td>\n",
              "      <td>11.000000</td>\n",
              "      <td>26247.363173</td>\n",
              "      <td>1.000000</td>\n",
              "    </tr>\n",
              "  </tbody>\n",
              "</table>\n",
              "</div>\n",
              "      <button class=\"colab-df-convert\" onclick=\"convertToInteractive('df-f89be502-bdfe-40fc-ba60-0e691e774209')\"\n",
              "              title=\"Convert this dataframe to an interactive table.\"\n",
              "              style=\"display:none;\">\n",
              "        \n",
              "  <svg xmlns=\"http://www.w3.org/2000/svg\" height=\"24px\"viewBox=\"0 0 24 24\"\n",
              "       width=\"24px\">\n",
              "    <path d=\"M0 0h24v24H0V0z\" fill=\"none\"/>\n",
              "    <path d=\"M18.56 5.44l.94 2.06.94-2.06 2.06-.94-2.06-.94-.94-2.06-.94 2.06-2.06.94zm-11 1L8.5 8.5l.94-2.06 2.06-.94-2.06-.94L8.5 2.5l-.94 2.06-2.06.94zm10 10l.94 2.06.94-2.06 2.06-.94-2.06-.94-.94-2.06-.94 2.06-2.06.94z\"/><path d=\"M17.41 7.96l-1.37-1.37c-.4-.4-.92-.59-1.43-.59-.52 0-1.04.2-1.43.59L10.3 9.45l-7.72 7.72c-.78.78-.78 2.05 0 2.83L4 21.41c.39.39.9.59 1.41.59.51 0 1.02-.2 1.41-.59l7.78-7.78 2.81-2.81c.8-.78.8-2.07 0-2.86zM5.41 20L4 18.59l7.72-7.72 1.47 1.35L5.41 20z\"/>\n",
              "  </svg>\n",
              "      </button>\n",
              "      \n",
              "  <style>\n",
              "    .colab-df-container {\n",
              "      display:flex;\n",
              "      flex-wrap:wrap;\n",
              "      gap: 12px;\n",
              "    }\n",
              "\n",
              "    .colab-df-convert {\n",
              "      background-color: #E8F0FE;\n",
              "      border: none;\n",
              "      border-radius: 50%;\n",
              "      cursor: pointer;\n",
              "      display: none;\n",
              "      fill: #1967D2;\n",
              "      height: 32px;\n",
              "      padding: 0 0 0 0;\n",
              "      width: 32px;\n",
              "    }\n",
              "\n",
              "    .colab-df-convert:hover {\n",
              "      background-color: #E2EBFA;\n",
              "      box-shadow: 0px 1px 2px rgba(60, 64, 67, 0.3), 0px 1px 3px 1px rgba(60, 64, 67, 0.15);\n",
              "      fill: #174EA6;\n",
              "    }\n",
              "\n",
              "    [theme=dark] .colab-df-convert {\n",
              "      background-color: #3B4455;\n",
              "      fill: #D2E3FC;\n",
              "    }\n",
              "\n",
              "    [theme=dark] .colab-df-convert:hover {\n",
              "      background-color: #434B5C;\n",
              "      box-shadow: 0px 1px 3px 1px rgba(0, 0, 0, 0.15);\n",
              "      filter: drop-shadow(0px 1px 2px rgba(0, 0, 0, 0.3));\n",
              "      fill: #FFFFFF;\n",
              "    }\n",
              "  </style>\n",
              "\n",
              "      <script>\n",
              "        const buttonEl =\n",
              "          document.querySelector('#df-f89be502-bdfe-40fc-ba60-0e691e774209 button.colab-df-convert');\n",
              "        buttonEl.style.display =\n",
              "          google.colab.kernel.accessAllowed ? 'block' : 'none';\n",
              "\n",
              "        async function convertToInteractive(key) {\n",
              "          const element = document.querySelector('#df-f89be502-bdfe-40fc-ba60-0e691e774209');\n",
              "          const dataTable =\n",
              "            await google.colab.kernel.invokeFunction('convertToInteractive',\n",
              "                                                     [key], {});\n",
              "          if (!dataTable) return;\n",
              "\n",
              "          const docLinkHtml = 'Like what you see? Visit the ' +\n",
              "            '<a target=\"_blank\" href=https://colab.research.google.com/notebooks/data_table.ipynb>data table notebook</a>'\n",
              "            + ' to learn more about interactive tables.';\n",
              "          element.innerHTML = '';\n",
              "          dataTable['output_type'] = 'display_data';\n",
              "          await google.colab.output.renderOutput(dataTable, element);\n",
              "          const docLink = document.createElement('div');\n",
              "          docLink.innerHTML = docLinkHtml;\n",
              "          element.appendChild(docLink);\n",
              "        }\n",
              "      </script>\n",
              "    </div>\n",
              "  </div>\n",
              "  "
            ]
          },
          "metadata": {},
          "execution_count": 3
        }
      ]
    },
    {
      "cell_type": "markdown",
      "source": [
        "### 3.1.1 Univariate Analysis\n",
        "When exploring the data, it's interesting to see the distribution of the variables we are studying. Here we see the distribution of the categorical variables."
      ],
      "metadata": {
        "id": "qhTwF6cQcVvX"
      }
    },
    {
      "cell_type": "code",
      "source": [
        "def bar_plot(variable, data):\n",
        "  var = data[variable]\n",
        "  varValue = var.value_counts(normalize=True)\n",
        "\n",
        "  # visualize\n",
        "  plt.figure(figsize = (9,3))\n",
        "  plt.bar(varValue.index, varValue)\n",
        "  if variable == 'neighbourhood':\n",
        "    plt.xticks(varValue.index, varValue.index.values, rotation=45)\n",
        "  else:\n",
        "    plt.xticks(varValue.index, varValue.index.values)\n",
        "  plt.ylabel(\"Frequency\")\n",
        "  plt.title(variable)\n",
        "  plt.show()\n",
        "\n",
        "category1 = ['no_show', 'gender','neighbourhood', 'has_insurance',\n",
        "             'hipertension', 'diabetes','alcoholism', 'non_specialized_visit', 'sms_received', 'has_health_app']\n",
        "for c in category1:\n",
        "    bar_plot(variable=c, data=df_train)"
      ],
      "metadata": {
        "colab": {
          "base_uri": "https://localhost:8080/",
          "height": 211
        },
        "id": "5VeCuiSkcVZv",
        "outputId": "e57ff623-1fa2-46c2-9c16-0816e0362fb3"
      },
      "execution_count": 4,
      "outputs": [
        {
          "output_type": "display_data",
          "data": {
            "text/plain": [
              "<Figure size 648x216 with 1 Axes>"
            ],
            "image/png": "[encoded data removed]"
          },
          "metadata": {
            "needs_background": "light"
          }
        },
        {
          "output_type": "display_data",
          "data": {
            "text/plain": [
              "<Figure size 648x216 with 1 Axes>"
            ],
            "image/png": "[encoded data removed]"
          },
          "metadata": {
            "needs_background": "light"
          }
        },
        {
          "output_type": "display_data",
          "data": {
            "text/plain": [
              "<Figure size 648x216 with 1 Axes>"
            ],
            "image/png": "[encoded data removed]"
          },
          "metadata": {
            "needs_background": "light"
          }
        },
        {
          "output_type": "display_data",
          "data": {
            "text/plain": [
              "<Figure size 648x216 with 1 Axes>"
            ],
            "image/png": "[encoded data removed]"
          },
          "metadata": {
            "needs_background": "light"
          }
        },
        {
          "output_type": "display_data",
          "data": {
            "text/plain": [
              "<Figure size 648x216 with 1 Axes>"
            ],
            "image/png": "[encoded data removed]"
          },
          "metadata": {
            "needs_background": "light"
          }
        },
        {
          "output_type": "display_data",
          "data": {
            "text/plain": [
              "<Figure size 648x216 with 1 Axes>"
            ],
            "image/png": "[encoded data removed]"
          },
          "metadata": {
            "needs_background": "light"
          }
        },
        {
          "output_type": "display_data",
          "data": {
            "text/plain": [
              "<Figure size 648x216 with 1 Axes>"
            ],
            "image/png": "[encoded data removed]"
          },
          "metadata": {
            "needs_background": "light"
          }
        },
        {
          "output_type": "display_data",
          "data": {
            "text/plain": [
              "<Figure size 648x216 with 1 Axes>"
            ],
            "image/png": "[encoded data removed]"
          },
          "metadata": {
            "needs_background": "light"
          }
        },
        {
          "output_type": "display_data",
          "data": {
            "text/plain": [
              "<Figure size 648x216 with 1 Axes>"
            ],
            "image/png": "[encoded data removed]"
          },
          "metadata": {
            "needs_background": "light"
          }
        },
        {
          "output_type": "display_data",
          "data": {
            "text/plain": [
              "<Figure size 648x216 with 1 Axes>"
            ],
            "image/png": "[encoded data removed]"
          },
          "metadata": {
            "needs_background": "light"
          }
        }
      ]
    },
    {
      "cell_type": "markdown",
      "source": [
        "Distribution of numerical variables should be also observed, in this case using histograms."
      ],
      "metadata": {
        "id": "2wvkRkSBcgrk"
      }
    },
    {
      "cell_type": "code",
      "source": [
        "def plot_hist(variable):\n",
        "  plt.figure(figsize = (9,3))\n",
        "  plt.hist(df_train[variable], bins = 30)\n",
        "  plt.xlabel(variable)\n",
        "  plt.ylabel(\"Frequency\")\n",
        "  plt.title(\"{} distribution with hist\".format(variable))\n",
        "  plt.show()\n",
        "  \n",
        "numericVar = [\"num_prior_appointments\", \"total_cost_public_health\", \"age\"]\n",
        "for n in numericVar:\n",
        "    plot_hist(n)"
      ],
      "metadata": {
        "colab": {
          "base_uri": "https://localhost:8080/",
          "height": 89
        },
        "id": "W1j5GuVicjAe",
        "outputId": "4aca44b3-3c21-4f6b-ccd8-ea15db7909e9"
      },
      "execution_count": 5,
      "outputs": [
        {
          "output_type": "display_data",
          "data": {
            "text/plain": [
              "<Figure size 648x216 with 1 Axes>"
            ],
            "image/png": "[encoded data removed]"
          },
          "metadata": {
            "needs_background": "light"
          }
        },
        {
          "output_type": "display_data",
          "data": {
            "text/plain": [
              "<Figure size 648x216 with 1 Axes>"
            ],
            "image/png": "[encoded data removed]"
          },
          "metadata": {
            "needs_background": "light"
          }
        },
        {
          "output_type": "display_data",
          "data": {
            "text/plain": [
              "<Figure size 648x216 with 1 Axes>"
            ],
            "image/png": "[encoded data removed]"
          },
          "metadata": {
            "needs_background": "light"
          }
        }
      ]
    },
    {
      "cell_type": "markdown",
      "source": [
        "### 3.1.2 Bivariate Analysis\n",
        "Correlations between the variables are interesting to observe during EDA, as it can provide a first view of which variables could be important for explaining our response variable (no_show)."
      ],
      "metadata": {
        "id": "jObk8FXVcoA2"
      }
    },
    {
      "cell_type": "code",
      "source": [
        "variables = ['appointment_id', 'gender', 'scheduled_day', 'appointment_day', 'age',\n",
        "       'neighbourhood', 'has_insurance', 'hipertension', 'diabetes',\n",
        "       'alcoholism', 'non_specialized_visit', 'sms_received', 'no_show',\n",
        "       'num_prior_appointments', 'total_cost_public_health', 'has_health_app']\n",
        "sns.heatmap(df_train[variables].corr(), annot = True, fmt = \".2f\")\n",
        "plt.show()"
      ],
      "metadata": {
        "colab": {
          "base_uri": "https://localhost:8080/",
          "height": 384
        },
        "id": "TPmGaGeScrHw",
        "outputId": "55fbe006-51f7-4d4a-d5fa-461efd550cfb"
      },
      "execution_count": 6,
      "outputs": [
        {
          "output_type": "display_data",
          "data": {
            "text/plain": [
              "<Figure size 432x288 with 2 Axes>"
            ],
            "image/png": "[encoded data removed]"
          },
          "metadata": {
            "needs_background": "light"
          }
        }
      ]
    },
    {
      "cell_type": "markdown",
      "source": [
        "It seems like the variable no_show is negatively correlated with the number of prior appointments and the total cost in public health. Other notorious correlations could be between hipertension or diabetes, and age, which is expected, or the total cost in public health with the number of previous appointments, which is also understandable. Another interesting one could having received a sms or having the health app downloaded.\n",
        "\n",
        "\n",
        "Given that we are interested in studying these variables in relation with no_show, it could be interesting to compare how this variable is distributed in each level of the categorical variables. This could give us a hint of important variables."
      ],
      "metadata": {
        "id": "qMF9Vh9pcuHg"
      }
    },
    {
      "cell_type": "code",
      "source": [
        "def bar_plot(variable, data, respvar):\n",
        "  \"\"\"\n",
        "  Distribution of the variables depending on the value of a binomial variable\n",
        "  \"\"\"\n",
        "  var = data[[variable, respvar]]\n",
        "\n",
        "  var0 = var.loc[var[respvar] == 0].value_counts(normalize=True)\n",
        "  var1 = var.loc[var[respvar] == 1].value_counts(normalize=True)\n",
        "\n",
        "  # visualize\n",
        "  plt.figure(figsize = (9,3))\n",
        "  barWidth = 0.20\n",
        "  r1 = np.arange(len(var0))\n",
        "  r2 = [x + barWidth for x in r1]\n",
        "  plt.bar(r1, var0, width=barWidth, edgecolor='white', label=\"{} = 0\".format(respvar))\n",
        "  plt.bar(r2, var1, width=barWidth, edgecolor='white', label=\"{} = 1\".format(respvar))\n",
        "  plt.xticks([r + 0.10 for r in range(len(var0))], np.unique(list(df_train[variable])), rotation=30)\n",
        "  plt.legend()\n",
        "  plt.ylabel(\"Frequency\")\n",
        "  plt.title(variable)\n",
        "  plt.show()\n",
        "  print(pd.crosstab(data[variable], data.no_show, normalize='columns'))\n",
        "\n",
        "\n",
        "category1 = ['gender','neighbourhood', 'has_insurance', 'hipertension', 'diabetes','alcoholism', 'sms_received', 'has_health_app']\n",
        "respvar = \"no_show\"\n",
        "for c in category1:\n",
        "    bar_plot(variable=c, data=df_train, respvar=respvar)"
      ],
      "metadata": {
        "colab": {
          "base_uri": "https://localhost:8080/",
          "height": 1000
        },
        "id": "XhNvuRm6cxGp",
        "outputId": "e9b53f42-a61c-4f30-b356-66a86cbbabc5"
      },
      "execution_count": 7,
      "outputs": [
        {
          "output_type": "display_data",
          "data": {
            "text/plain": [
              "<Figure size 648x216 with 1 Axes>"
            ],
            "image/png": "[encoded data removed]"
          },
          "metadata": {
            "needs_background": "light"
          }
        },
        {
          "output_type": "stream",
          "name": "stdout",
          "text": [
            "no_show         0         1\n",
            "gender                     \n",
            "F        0.648594  0.660195\n",
            "M        0.351406  0.339805\n"
          ]
        },
        {
          "output_type": "display_data",
          "data": {
            "text/plain": [
              "<Figure size 648x216 with 1 Axes>"
            ],
            "image/png": "[encoded data removed]"
          },
          "metadata": {
            "needs_background": "light"
          }
        },
        {
          "output_type": "stream",
          "name": "stdout",
          "text": [
            "no_show                   0         1\n",
            "neighbourhood                        \n",
            "BONFIM             0.025518  0.024493\n",
            "CENTRO             0.030516  0.030443\n",
            "ITARARÉ            0.029330  0.039840\n",
            "JARDIM DA PENHA    0.036827  0.029191\n",
            "JESUS DE NAZARETH  0.024156  0.031947\n",
            "MARIA ORTIZ        0.051580  0.055876\n",
            "OTHER              0.703510  0.699386\n",
            "RESISTÊNCIA        0.039839  0.041468\n",
            "SANTA MARTHA       0.029731  0.022551\n",
            "TABUAZEIRO         0.028994  0.024806\n"
          ]
        },
        {
          "output_type": "display_data",
          "data": {
            "text/plain": [
              "<Figure size 648x216 with 1 Axes>"
            ],
            "image/png": "[encoded data removed]"
          },
          "metadata": {
            "needs_background": "light"
          }
        },
        {
          "output_type": "stream",
          "name": "stdout",
          "text": [
            "no_show               0         1\n",
            "has_insurance                    \n",
            "0.0            0.906861  0.882914\n",
            "1.0            0.093139  0.117086\n"
          ]
        },
        {
          "output_type": "display_data",
          "data": {
            "text/plain": [
              "<Figure size 648x216 with 1 Axes>"
            ],
            "image/png": "[encoded data removed]"
          },
          "metadata": {
            "needs_background": "light"
          }
        },
        {
          "output_type": "stream",
          "name": "stdout",
          "text": [
            "no_show              0         1\n",
            "hipertension                    \n",
            "0.0           0.796327  0.828067\n",
            "1.0           0.203673  0.171933\n"
          ]
        },
        {
          "output_type": "display_data",
          "data": {
            "text/plain": [
              "<Figure size 648x216 with 1 Axes>"
            ],
            "image/png": "[encoded data removed]"
          },
          "metadata": {
            "needs_background": "light"
          }
        },
        {
          "output_type": "stream",
          "name": "stdout",
          "text": [
            "no_show         0         1\n",
            "diabetes                   \n",
            "0.0       0.92518  0.934579\n",
            "1.0       0.07482  0.065421\n"
          ]
        },
        {
          "output_type": "display_data",
          "data": {
            "text/plain": [
              "<Figure size 648x216 with 1 Axes>"
            ],
            "image/png": "[encoded data removed]"
          },
          "metadata": {
            "needs_background": "light"
          }
        },
        {
          "output_type": "stream",
          "name": "stdout",
          "text": [
            "no_show            0         1\n",
            "alcoholism                    \n",
            "0.0         0.970164  0.968808\n",
            "1.0         0.029836  0.031192\n"
          ]
        },
        {
          "output_type": "display_data",
          "data": {
            "text/plain": [
              "<Figure size 648x216 with 1 Axes>"
            ],
            "image/png": "[encoded data removed]"
          },
          "metadata": {
            "needs_background": "light"
          }
        },
        {
          "output_type": "stream",
          "name": "stdout",
          "text": [
            "no_show              0         1\n",
            "sms_received                    \n",
            "0.0           0.636239  0.853332\n",
            "1.0           0.363761  0.146668\n"
          ]
        },
        {
          "output_type": "display_data",
          "data": {
            "text/plain": [
              "<Figure size 648x216 with 1 Axes>"
            ],
            "image/png": "[encoded data removed]"
          },
          "metadata": {
            "needs_background": "light"
          }
        },
        {
          "output_type": "stream",
          "name": "stdout",
          "text": [
            "no_show                0         1\n",
            "has_health_app                    \n",
            "0.0             0.705757  0.843404\n",
            "1.0             0.294243  0.156596\n"
          ]
        }
      ]
    },
    {
      "cell_type": "markdown",
      "source": [
        "For numeric variables we generate 4 different buckets to categorize and see how is the no show distribution in the different buckets."
      ],
      "metadata": {
        "id": "UEI5H_MydCV8"
      }
    },
    {
      "cell_type": "code",
      "source": [
        "#total_cost_public_health - no_show\n",
        "total_cost_public_health= df_train[['total_cost_public_health','no_show']]\n",
        "total_cost_public_health['total_cost_public_health'] = pd.qcut(total_cost_public_health['total_cost_public_health'], q=4)\n",
        "\n",
        "total_cost_public_health[[\"total_cost_public_health\",\"no_show\"]].groupby([\"total_cost_public_health\"], as_index = False).mean().sort_values(by=\"no_show\",ascending = False)"
      ],
      "metadata": {
        "colab": {
          "base_uri": "https://localhost:8080/",
          "height": 265
        },
        "id": "T0Pul25XdB9H",
        "outputId": "5acbc425-4a45-436d-fd6d-701a27129bb8"
      },
      "execution_count": 8,
      "outputs": [
        {
          "output_type": "stream",
          "name": "stderr",
          "text": [
            "\n",
            "A value is trying to be set on a copy of a slice from a DataFrame.\n",
            "Try using .loc[row_indexer,col_indexer] = value instead\n",
            "\n",
            "See the caveats in the documentation: https://pandas.pydata.org/pandas-docs/stable/user_guide/indexing.html#returning-a-view-versus-a-copy\n"
          ]
        },
        {
          "output_type": "execute_result",
          "data": {
            "text/plain": [
              "  total_cost_public_health   no_show\n",
              "0       (-0.001, 9706.814]  0.285053\n",
              "1    (9706.814, 11965.006]  0.217145\n",
              "2   (11965.006, 14248.923]  0.177524\n",
              "3   (14248.923, 26247.363]  0.132081"
            ],
            "text/html": [
              "\n",
              "  <div id=\"df-b9ceb1fd-91a6-47d5-902e-f452eab496f8\">\n",
              "    <div class=\"colab-df-container\">\n",
              "      <div>\n",
              "<style scoped>\n",
              "    .dataframe tbody tr th:only-of-type {\n",
              "        vertical-align: middle;\n",
              "    }\n",
              "\n",
              "    .dataframe tbody tr th {\n",
              "        vertical-align: top;\n",
              "    }\n",
              "\n",
              "    .dataframe thead th {\n",
              "        text-align: right;\n",
              "    }\n",
              "</style>\n",
              "<table border=\"1\" class=\"dataframe\">\n",
              "  <thead>\n",
              "    <tr style=\"text-align: right;\">\n",
              "      <th></th>\n",
              "      <th>total_cost_public_health</th>\n",
              "      <th>no_show</th>\n",
              "    </tr>\n",
              "  </thead>\n",
              "  <tbody>\n",
              "    <tr>\n",
              "      <th>0</th>\n",
              "      <td>(-0.001, 9706.814]</td>\n",
              "      <td>0.285053</td>\n",
              "    </tr>\n",
              "    <tr>\n",
              "      <th>1</th>\n",
              "      <td>(9706.814, 11965.006]</td>\n",
              "      <td>0.217145</td>\n",
              "    </tr>\n",
              "    <tr>\n",
              "      <th>2</th>\n",
              "      <td>(11965.006, 14248.923]</td>\n",
              "      <td>0.177524</td>\n",
              "    </tr>\n",
              "    <tr>\n",
              "      <th>3</th>\n",
              "      <td>(14248.923, 26247.363]</td>\n",
              "      <td>0.132081</td>\n",
              "    </tr>\n",
              "  </tbody>\n",
              "</table>\n",
              "</div>\n",
              "      <button class=\"colab-df-convert\" onclick=\"convertToInteractive('df-b9ceb1fd-91a6-47d5-902e-f452eab496f8')\"\n",
              "              title=\"Convert this dataframe to an interactive table.\"\n",
              "              style=\"display:none;\">\n",
              "        \n",
              "  <svg xmlns=\"http://www.w3.org/2000/svg\" height=\"24px\"viewBox=\"0 0 24 24\"\n",
              "       width=\"24px\">\n",
              "    <path d=\"M0 0h24v24H0V0z\" fill=\"none\"/>\n",
              "    <path d=\"M18.56 5.44l.94 2.06.94-2.06 2.06-.94-2.06-.94-.94-2.06-.94 2.06-2.06.94zm-11 1L8.5 8.5l.94-2.06 2.06-.94-2.06-.94L8.5 2.5l-.94 2.06-2.06.94zm10 10l.94 2.06.94-2.06 2.06-.94-2.06-.94-.94-2.06-.94 2.06-2.06.94z\"/><path d=\"M17.41 7.96l-1.37-1.37c-.4-.4-.92-.59-1.43-.59-.52 0-1.04.2-1.43.59L10.3 9.45l-7.72 7.72c-.78.78-.78 2.05 0 2.83L4 21.41c.39.39.9.59 1.41.59.51 0 1.02-.2 1.41-.59l7.78-7.78 2.81-2.81c.8-.78.8-2.07 0-2.86zM5.41 20L4 18.59l7.72-7.72 1.47 1.35L5.41 20z\"/>\n",
              "  </svg>\n",
              "      </button>\n",
              "      \n",
              "  <style>\n",
              "    .colab-df-container {\n",
              "      display:flex;\n",
              "      flex-wrap:wrap;\n",
              "      gap: 12px;\n",
              "    }\n",
              "\n",
              "    .colab-df-convert {\n",
              "      background-color: #E8F0FE;\n",
              "      border: none;\n",
              "      border-radius: 50%;\n",
              "      cursor: pointer;\n",
              "      display: none;\n",
              "      fill: #1967D2;\n",
              "      height: 32px;\n",
              "      padding: 0 0 0 0;\n",
              "      width: 32px;\n",
              "    }\n",
              "\n",
              "    .colab-df-convert:hover {\n",
              "      background-color: #E2EBFA;\n",
              "      box-shadow: 0px 1px 2px rgba(60, 64, 67, 0.3), 0px 1px 3px 1px rgba(60, 64, 67, 0.15);\n",
              "      fill: #174EA6;\n",
              "    }\n",
              "\n",
              "    [theme=dark] .colab-df-convert {\n",
              "      background-color: #3B4455;\n",
              "      fill: #D2E3FC;\n",
              "    }\n",
              "\n",
              "    [theme=dark] .colab-df-convert:hover {\n",
              "      background-color: #434B5C;\n",
              "      box-shadow: 0px 1px 3px 1px rgba(0, 0, 0, 0.15);\n",
              "      filter: drop-shadow(0px 1px 2px rgba(0, 0, 0, 0.3));\n",
              "      fill: #FFFFFF;\n",
              "    }\n",
              "  </style>\n",
              "\n",
              "      <script>\n",
              "        const buttonEl =\n",
              "          document.querySelector('#df-b9ceb1fd-91a6-47d5-902e-f452eab496f8 button.colab-df-convert');\n",
              "        buttonEl.style.display =\n",
              "          google.colab.kernel.accessAllowed ? 'block' : 'none';\n",
              "\n",
              "        async function convertToInteractive(key) {\n",
              "          const element = document.querySelector('#df-b9ceb1fd-91a6-47d5-902e-f452eab496f8');\n",
              "          const dataTable =\n",
              "            await google.colab.kernel.invokeFunction('convertToInteractive',\n",
              "                                                     [key], {});\n",
              "          if (!dataTable) return;\n",
              "\n",
              "          const docLinkHtml = 'Like what you see? Visit the ' +\n",
              "            '<a target=\"_blank\" href=https://colab.research.google.com/notebooks/data_table.ipynb>data table notebook</a>'\n",
              "            + ' to learn more about interactive tables.';\n",
              "          element.innerHTML = '';\n",
              "          dataTable['output_type'] = 'display_data';\n",
              "          await google.colab.output.renderOutput(dataTable, element);\n",
              "          const docLink = document.createElement('div');\n",
              "          docLink.innerHTML = docLinkHtml;\n",
              "          element.appendChild(docLink);\n",
              "        }\n",
              "      </script>\n",
              "    </div>\n",
              "  </div>\n",
              "  "
            ]
          },
          "metadata": {},
          "execution_count": 8
        }
      ]
    },
    {
      "cell_type": "markdown",
      "source": [
        "Here we can see that people who accumulates a bigger cost in the public health care is more likely to show up at the doctor appointment."
      ],
      "metadata": {
        "id": "uNS8is2ddJBS"
      }
    },
    {
      "cell_type": "code",
      "source": [
        "#age - no_show\n",
        "age = df_train[['age','no_show']]\n",
        "age['age'] = pd.qcut(age['age'], q=4)\n",
        "\n",
        "age[[\"age\",\"no_show\"]].groupby([\"age\"], as_index = False).mean().sort_values(by=\"age\",ascending = True)"
      ],
      "metadata": {
        "colab": {
          "base_uri": "https://localhost:8080/",
          "height": 265
        },
        "id": "CmGU3jN1dKcg",
        "outputId": "e1b3b623-6ad0-4ee9-db9b-dc325818e667"
      },
      "execution_count": 9,
      "outputs": [
        {
          "output_type": "stream",
          "name": "stderr",
          "text": [
            "\n",
            "A value is trying to be set on a copy of a slice from a DataFrame.\n",
            "Try using .loc[row_indexer,col_indexer] = value instead\n",
            "\n",
            "See the caveats in the documentation: https://pandas.pydata.org/pandas-docs/stable/user_guide/indexing.html#returning-a-view-versus-a-copy\n"
          ]
        },
        {
          "output_type": "execute_result",
          "data": {
            "text/plain": [
              "              age   no_show\n",
              "0  (-1.001, 18.0]  0.221437\n",
              "1    (18.0, 37.0]  0.235039\n",
              "2    (37.0, 56.0]  0.193760\n",
              "3   (56.0, 115.0]  0.157105"
            ],
            "text/html": [
              "\n",
              "  <div id=\"df-e3dfbb12-cffb-479c-9c63-84cbca087718\">\n",
              "    <div class=\"colab-df-container\">\n",
              "      <div>\n",
              "<style scoped>\n",
              "    .dataframe tbody tr th:only-of-type {\n",
              "        vertical-align: middle;\n",
              "    }\n",
              "\n",
              "    .dataframe tbody tr th {\n",
              "        vertical-align: top;\n",
              "    }\n",
              "\n",
              "    .dataframe thead th {\n",
              "        text-align: right;\n",
              "    }\n",
              "</style>\n",
              "<table border=\"1\" class=\"dataframe\">\n",
              "  <thead>\n",
              "    <tr style=\"text-align: right;\">\n",
              "      <th></th>\n",
              "      <th>age</th>\n",
              "      <th>no_show</th>\n",
              "    </tr>\n",
              "  </thead>\n",
              "  <tbody>\n",
              "    <tr>\n",
              "      <th>0</th>\n",
              "      <td>(-1.001, 18.0]</td>\n",
              "      <td>0.221437</td>\n",
              "    </tr>\n",
              "    <tr>\n",
              "      <th>1</th>\n",
              "      <td>(18.0, 37.0]</td>\n",
              "      <td>0.235039</td>\n",
              "    </tr>\n",
              "    <tr>\n",
              "      <th>2</th>\n",
              "      <td>(37.0, 56.0]</td>\n",
              "      <td>0.193760</td>\n",
              "    </tr>\n",
              "    <tr>\n",
              "      <th>3</th>\n",
              "      <td>(56.0, 115.0]</td>\n",
              "      <td>0.157105</td>\n",
              "    </tr>\n",
              "  </tbody>\n",
              "</table>\n",
              "</div>\n",
              "      <button class=\"colab-df-convert\" onclick=\"convertToInteractive('df-e3dfbb12-cffb-479c-9c63-84cbca087718')\"\n",
              "              title=\"Convert this dataframe to an interactive table.\"\n",
              "              style=\"display:none;\">\n",
              "        \n",
              "  <svg xmlns=\"http://www.w3.org/2000/svg\" height=\"24px\"viewBox=\"0 0 24 24\"\n",
              "       width=\"24px\">\n",
              "    <path d=\"M0 0h24v24H0V0z\" fill=\"none\"/>\n",
              "    <path d=\"M18.56 5.44l.94 2.06.94-2.06 2.06-.94-2.06-.94-.94-2.06-.94 2.06-2.06.94zm-11 1L8.5 8.5l.94-2.06 2.06-.94-2.06-.94L8.5 2.5l-.94 2.06-2.06.94zm10 10l.94 2.06.94-2.06 2.06-.94-2.06-.94-.94-2.06-.94 2.06-2.06.94z\"/><path d=\"M17.41 7.96l-1.37-1.37c-.4-.4-.92-.59-1.43-.59-.52 0-1.04.2-1.43.59L10.3 9.45l-7.72 7.72c-.78.78-.78 2.05 0 2.83L4 21.41c.39.39.9.59 1.41.59.51 0 1.02-.2 1.41-.59l7.78-7.78 2.81-2.81c.8-.78.8-2.07 0-2.86zM5.41 20L4 18.59l7.72-7.72 1.47 1.35L5.41 20z\"/>\n",
              "  </svg>\n",
              "      </button>\n",
              "      \n",
              "  <style>\n",
              "    .colab-df-container {\n",
              "      display:flex;\n",
              "      flex-wrap:wrap;\n",
              "      gap: 12px;\n",
              "    }\n",
              "\n",
              "    .colab-df-convert {\n",
              "      background-color: #E8F0FE;\n",
              "      border: none;\n",
              "      border-radius: 50%;\n",
              "      cursor: pointer;\n",
              "      display: none;\n",
              "      fill: #1967D2;\n",
              "      height: 32px;\n",
              "      padding: 0 0 0 0;\n",
              "      width: 32px;\n",
              "    }\n",
              "\n",
              "    .colab-df-convert:hover {\n",
              "      background-color: #E2EBFA;\n",
              "      box-shadow: 0px 1px 2px rgba(60, 64, 67, 0.3), 0px 1px 3px 1px rgba(60, 64, 67, 0.15);\n",
              "      fill: #174EA6;\n",
              "    }\n",
              "\n",
              "    [theme=dark] .colab-df-convert {\n",
              "      background-color: #3B4455;\n",
              "      fill: #D2E3FC;\n",
              "    }\n",
              "\n",
              "    [theme=dark] .colab-df-convert:hover {\n",
              "      background-color: #434B5C;\n",
              "      box-shadow: 0px 1px 3px 1px rgba(0, 0, 0, 0.15);\n",
              "      filter: drop-shadow(0px 1px 2px rgba(0, 0, 0, 0.3));\n",
              "      fill: #FFFFFF;\n",
              "    }\n",
              "  </style>\n",
              "\n",
              "      <script>\n",
              "        const buttonEl =\n",
              "          document.querySelector('#df-e3dfbb12-cffb-479c-9c63-84cbca087718 button.colab-df-convert');\n",
              "        buttonEl.style.display =\n",
              "          google.colab.kernel.accessAllowed ? 'block' : 'none';\n",
              "\n",
              "        async function convertToInteractive(key) {\n",
              "          const element = document.querySelector('#df-e3dfbb12-cffb-479c-9c63-84cbca087718');\n",
              "          const dataTable =\n",
              "            await google.colab.kernel.invokeFunction('convertToInteractive',\n",
              "                                                     [key], {});\n",
              "          if (!dataTable) return;\n",
              "\n",
              "          const docLinkHtml = 'Like what you see? Visit the ' +\n",
              "            '<a target=\"_blank\" href=https://colab.research.google.com/notebooks/data_table.ipynb>data table notebook</a>'\n",
              "            + ' to learn more about interactive tables.';\n",
              "          element.innerHTML = '';\n",
              "          dataTable['output_type'] = 'display_data';\n",
              "          await google.colab.output.renderOutput(dataTable, element);\n",
              "          const docLink = document.createElement('div');\n",
              "          docLink.innerHTML = docLinkHtml;\n",
              "          element.appendChild(docLink);\n",
              "        }\n",
              "      </script>\n",
              "    </div>\n",
              "  </div>\n",
              "  "
            ]
          },
          "metadata": {},
          "execution_count": 9
        }
      ]
    },
    {
      "cell_type": "markdown",
      "source": [
        "Younger people are more likley not to show up at the appointment."
      ],
      "metadata": {
        "id": "slpVvGp3dMK4"
      }
    },
    {
      "cell_type": "code",
      "source": [
        "sns.boxplot(x=\"no_show\", y=\"total_cost_public_health\", data=df_train)"
      ],
      "metadata": {
        "colab": {
          "base_uri": "https://localhost:8080/",
          "height": 298
        },
        "id": "0Y73cBzgdN7V",
        "outputId": "267907dc-ab27-41f2-e4ae-50818445d592"
      },
      "execution_count": 10,
      "outputs": [
        {
          "output_type": "execute_result",
          "data": {
            "text/plain": [
              "<matplotlib.axes._subplots.AxesSubplot at 0x7f5cbe5e1fd0>"
            ]
          },
          "metadata": {},
          "execution_count": 10
        },
        {
          "output_type": "display_data",
          "data": {
            "text/plain": [
              "<Figure size 432x288 with 1 Axes>"
            ],
            "image/png": "[encoded data removed]"
          },
          "metadata": {
            "needs_background": "light"
          }
        }
      ]
    },
    {
      "cell_type": "code",
      "source": [
        "sns.boxplot(x=\"no_show\", y=\"num_prior_appointments\", data=df_train)"
      ],
      "metadata": {
        "colab": {
          "base_uri": "https://localhost:8080/",
          "height": 298
        },
        "id": "Jqy0Nct4dQCR",
        "outputId": "f802630c-f6b7-4a6b-ff54-ed838f9a11d6"
      },
      "execution_count": 11,
      "outputs": [
        {
          "output_type": "execute_result",
          "data": {
            "text/plain": [
              "<matplotlib.axes._subplots.AxesSubplot at 0x7f5ca4582050>"
            ]
          },
          "metadata": {},
          "execution_count": 11
        },
        {
          "output_type": "display_data",
          "data": {
            "text/plain": [
              "<Figure size 432x288 with 1 Axes>"
            ],
            "image/png": "[encoded data removed]"
          },
          "metadata": {
            "needs_background": "light"
          }
        }
      ]
    },
    {
      "cell_type": "code",
      "source": [
        "sns.boxplot(x=\"no_show\", y=\"age\", data=df_train)"
      ],
      "metadata": {
        "colab": {
          "base_uri": "https://localhost:8080/",
          "height": 301
        },
        "id": "YdTM8kugdRWy",
        "outputId": "f617ceaf-f94d-4dc0-e3a9-fe6cced5c410"
      },
      "execution_count": 12,
      "outputs": [
        {
          "output_type": "execute_result",
          "data": {
            "text/plain": [
              "<matplotlib.axes._subplots.AxesSubplot at 0x7f5ca486e8d0>"
            ]
          },
          "metadata": {},
          "execution_count": 12
        },
        {
          "output_type": "display_data",
          "data": {
            "text/plain": [
              "<Figure size 432x288 with 1 Axes>"
            ],
            "image/png": "[encoded data removed]"
          },
          "metadata": {
            "needs_background": "light"
          }
        }
      ]
    },
    {
      "cell_type": "markdown",
      "source": [
        "**Conclusions from the EDA:**\n",
        "- No_show variable is negatively correlated with the number of prior appointments and the total cost spent in public health.\n",
        "\n",
        "- Having downloaded the app and having received the sms are also correlated with no_show.\n",
        "\n",
        "- It could be that younger people are more likely not to show up.\n",
        "\n",
        "- No_show seems similarly distributed among the other variables.\n"
      ],
      "metadata": {
        "id": "oj8uxiPtdS-x"
      }
    },
    {
      "cell_type": "markdown",
      "source": [
        "## Outlier detection\n",
        "Machine learning algorithms are sensitive to the range and distribution of attribute values. Outliers are points in our data that have a different underlying behavior than the rest of the data.\n",
        "\n",
        "To have more accurate models we should always identify if we have outliers in our data.\n",
        "\n",
        "There are different ways of detecting outliers, in this case we will consider outliers those observations that are above or below 1.5 times the interquartile range of the numeric variable."
      ],
      "metadata": {
        "id": "-4Rl1KHcdVYJ"
      }
    },
    {
      "cell_type": "code",
      "source": [
        "def detect_outliers(df,features):\n",
        "  \"\"\"\n",
        "  This function returns possible outliers according to the IQR\n",
        "  \"\"\"\n",
        "  outlier_indices = []\n",
        "  for c in features:\n",
        "        # 1st quartile\n",
        "        Q1 = np.percentile(df[c],25)\n",
        "        # 3rd quartile\n",
        "        Q3 = np.percentile(df[c],75)\n",
        "        # IQR\n",
        "        IQR = Q3 - Q1\n",
        "        # Outlier step\n",
        "        outlier_step = IQR * 1.5\n",
        "        # detect outlier and their indeces\n",
        "        outlier_list_col = df[(df[c] < Q1 - outlier_step) | (df[c] > Q3 + outlier_step)].index\n",
        "        # store indeces\n",
        "        outlier_indices.extend(outlier_list_col)\n",
        "        \n",
        "        outlier_indices = Counter(outlier_indices)\n",
        "        multiple_outliers = list(i for i, v in outlier_indices.items() if v > 2)\n",
        "        return multiple_outliers"
      ],
      "metadata": {
        "id": "3ABGbgRidalJ"
      },
      "execution_count": 13,
      "outputs": []
    },
    {
      "cell_type": "markdown",
      "source": [
        "We see how many outliers our function found for our numeric variabes. "
      ],
      "metadata": {
        "id": "EKdINnG6dce6"
      }
    },
    {
      "cell_type": "code",
      "source": [
        "df_train.loc[detect_outliers(df_train,[\"age\", \"total_cost_public_health\", \"num_prior_appointments\"])]"
      ],
      "metadata": {
        "colab": {
          "base_uri": "https://localhost:8080/",
          "height": 113
        },
        "id": "oBF7_JvKdd0b",
        "outputId": "4eac4458-0ad2-41ff-e078-0d34a969e49e"
      },
      "execution_count": 14,
      "outputs": [
        {
          "output_type": "execute_result",
          "data": {
            "text/plain": [
              "Empty DataFrame\n",
              "Columns: [appointment_id, gender, scheduled_day, appointment_day, age, neighbourhood, has_insurance, hipertension, diabetes, alcoholism, non_specialized_visit, sms_received, no_show, num_prior_appointments, total_cost_public_health, has_health_app]\n",
              "Index: []"
            ],
            "text/html": [
              "\n",
              "  <div id=\"df-2019ce8e-e074-463e-b99d-91896f63cda3\">\n",
              "    <div class=\"colab-df-container\">\n",
              "      <div>\n",
              "<style scoped>\n",
              "    .dataframe tbody tr th:only-of-type {\n",
              "        vertical-align: middle;\n",
              "    }\n",
              "\n",
              "    .dataframe tbody tr th {\n",
              "        vertical-align: top;\n",
              "    }\n",
              "\n",
              "    .dataframe thead th {\n",
              "        text-align: right;\n",
              "    }\n",
              "</style>\n",
              "<table border=\"1\" class=\"dataframe\">\n",
              "  <thead>\n",
              "    <tr style=\"text-align: right;\">\n",
              "      <th></th>\n",
              "      <th>appointment_id</th>\n",
              "      <th>gender</th>\n",
              "      <th>scheduled_day</th>\n",
              "      <th>appointment_day</th>\n",
              "      <th>age</th>\n",
              "      <th>neighbourhood</th>\n",
              "      <th>has_insurance</th>\n",
              "      <th>hipertension</th>\n",
              "      <th>diabetes</th>\n",
              "      <th>alcoholism</th>\n",
              "      <th>non_specialized_visit</th>\n",
              "      <th>sms_received</th>\n",
              "      <th>no_show</th>\n",
              "      <th>num_prior_appointments</th>\n",
              "      <th>total_cost_public_health</th>\n",
              "      <th>has_health_app</th>\n",
              "    </tr>\n",
              "  </thead>\n",
              "  <tbody>\n",
              "  </tbody>\n",
              "</table>\n",
              "</div>\n",
              "      <button class=\"colab-df-convert\" onclick=\"convertToInteractive('df-2019ce8e-e074-463e-b99d-91896f63cda3')\"\n",
              "              title=\"Convert this dataframe to an interactive table.\"\n",
              "              style=\"display:none;\">\n",
              "        \n",
              "  <svg xmlns=\"http://www.w3.org/2000/svg\" height=\"24px\"viewBox=\"0 0 24 24\"\n",
              "       width=\"24px\">\n",
              "    <path d=\"M0 0h24v24H0V0z\" fill=\"none\"/>\n",
              "    <path d=\"M18.56 5.44l.94 2.06.94-2.06 2.06-.94-2.06-.94-.94-2.06-.94 2.06-2.06.94zm-11 1L8.5 8.5l.94-2.06 2.06-.94-2.06-.94L8.5 2.5l-.94 2.06-2.06.94zm10 10l.94 2.06.94-2.06 2.06-.94-2.06-.94-.94-2.06-.94 2.06-2.06.94z\"/><path d=\"M17.41 7.96l-1.37-1.37c-.4-.4-.92-.59-1.43-.59-.52 0-1.04.2-1.43.59L10.3 9.45l-7.72 7.72c-.78.78-.78 2.05 0 2.83L4 21.41c.39.39.9.59 1.41.59.51 0 1.02-.2 1.41-.59l7.78-7.78 2.81-2.81c.8-.78.8-2.07 0-2.86zM5.41 20L4 18.59l7.72-7.72 1.47 1.35L5.41 20z\"/>\n",
              "  </svg>\n",
              "      </button>\n",
              "      \n",
              "  <style>\n",
              "    .colab-df-container {\n",
              "      display:flex;\n",
              "      flex-wrap:wrap;\n",
              "      gap: 12px;\n",
              "    }\n",
              "\n",
              "    .colab-df-convert {\n",
              "      background-color: #E8F0FE;\n",
              "      border: none;\n",
              "      border-radius: 50%;\n",
              "      cursor: pointer;\n",
              "      display: none;\n",
              "      fill: #1967D2;\n",
              "      height: 32px;\n",
              "      padding: 0 0 0 0;\n",
              "      width: 32px;\n",
              "    }\n",
              "\n",
              "    .colab-df-convert:hover {\n",
              "      background-color: #E2EBFA;\n",
              "      box-shadow: 0px 1px 2px rgba(60, 64, 67, 0.3), 0px 1px 3px 1px rgba(60, 64, 67, 0.15);\n",
              "      fill: #174EA6;\n",
              "    }\n",
              "\n",
              "    [theme=dark] .colab-df-convert {\n",
              "      background-color: #3B4455;\n",
              "      fill: #D2E3FC;\n",
              "    }\n",
              "\n",
              "    [theme=dark] .colab-df-convert:hover {\n",
              "      background-color: #434B5C;\n",
              "      box-shadow: 0px 1px 3px 1px rgba(0, 0, 0, 0.15);\n",
              "      filter: drop-shadow(0px 1px 2px rgba(0, 0, 0, 0.3));\n",
              "      fill: #FFFFFF;\n",
              "    }\n",
              "  </style>\n",
              "\n",
              "      <script>\n",
              "        const buttonEl =\n",
              "          document.querySelector('#df-2019ce8e-e074-463e-b99d-91896f63cda3 button.colab-df-convert');\n",
              "        buttonEl.style.display =\n",
              "          google.colab.kernel.accessAllowed ? 'block' : 'none';\n",
              "\n",
              "        async function convertToInteractive(key) {\n",
              "          const element = document.querySelector('#df-2019ce8e-e074-463e-b99d-91896f63cda3');\n",
              "          const dataTable =\n",
              "            await google.colab.kernel.invokeFunction('convertToInteractive',\n",
              "                                                     [key], {});\n",
              "          if (!dataTable) return;\n",
              "\n",
              "          const docLinkHtml = 'Like what you see? Visit the ' +\n",
              "            '<a target=\"_blank\" href=https://colab.research.google.com/notebooks/data_table.ipynb>data table notebook</a>'\n",
              "            + ' to learn more about interactive tables.';\n",
              "          element.innerHTML = '';\n",
              "          dataTable['output_type'] = 'display_data';\n",
              "          await google.colab.output.renderOutput(dataTable, element);\n",
              "          const docLink = document.createElement('div');\n",
              "          docLink.innerHTML = docLinkHtml;\n",
              "          element.appendChild(docLink);\n",
              "        }\n",
              "      </script>\n",
              "    </div>\n",
              "  </div>\n",
              "  "
            ]
          },
          "metadata": {},
          "execution_count": 14
        }
      ]
    },
    {
      "cell_type": "markdown",
      "source": [
        "We see that according to this outlier criteria we don't have outliers."
      ],
      "metadata": {
        "id": "z9qvjhl1df8O"
      }
    },
    {
      "cell_type": "markdown",
      "source": [
        "## 3.3 Feature Engineering\n",
        "Feature engineering is a machine learning technique that leverages data to create new variables that aren’t in the training set. It can produce new with the goal of simplifying and speeding up data transformations while also enhancing model accuracy. Feature engineering is required when working with machine learning models.\n",
        "\n",
        "Feature Egineering from dates\n",
        "Even though dates can not be directly processed and understood by most algorithms, this that not mean that they do not contain powerful information. In our problem we have two dates: the date when the appointment was scheduled and the date when the appointment took place. Let's see what new features we can extract from these two dates.\n",
        "\n",
        "Let's have a look at these features:"
      ],
      "metadata": {
        "id": "djYQsYDrdhpD"
      }
    },
    {
      "cell_type": "code",
      "source": [
        "df_train[['scheduled_day', 'appointment_day']].head()"
      ],
      "metadata": {
        "colab": {
          "base_uri": "https://localhost:8080/",
          "height": 206
        },
        "id": "8aLWiBVhdfQb",
        "outputId": "3a014304-7893-4db1-9ad0-12c1ec496b21"
      },
      "execution_count": 15,
      "outputs": [
        {
          "output_type": "execute_result",
          "data": {
            "text/plain": [
              "          scheduled_day       appointment_day\n",
              "0  2016-06-03T06:44:55Z  2016-06-08T00:00:00Z\n",
              "1  2016-05-05T10:41:35Z  2016-05-18T00:00:00Z\n",
              "2  2016-05-05T09:25:43Z  2016-05-20T00:00:00Z\n",
              "3  2016-05-06T17:39:08Z  2016-05-10T00:00:00Z\n",
              "4  2016-05-12T17:57:58Z  2016-05-16T00:00:00Z"
            ],
            "text/html": [
              "\n",
              "  <div id=\"df-110a9a1b-6ed6-41bc-88b1-f82abbe392f3\">\n",
              "    <div class=\"colab-df-container\">\n",
              "      <div>\n",
              "<style scoped>\n",
              "    .dataframe tbody tr th:only-of-type {\n",
              "        vertical-align: middle;\n",
              "    }\n",
              "\n",
              "    .dataframe tbody tr th {\n",
              "        vertical-align: top;\n",
              "    }\n",
              "\n",
              "    .dataframe thead th {\n",
              "        text-align: right;\n",
              "    }\n",
              "</style>\n",
              "<table border=\"1\" class=\"dataframe\">\n",
              "  <thead>\n",
              "    <tr style=\"text-align: right;\">\n",
              "      <th></th>\n",
              "      <th>scheduled_day</th>\n",
              "      <th>appointment_day</th>\n",
              "    </tr>\n",
              "  </thead>\n",
              "  <tbody>\n",
              "    <tr>\n",
              "      <th>0</th>\n",
              "      <td>2016-06-03T06:44:55Z</td>\n",
              "      <td>2016-06-08T00:00:00Z</td>\n",
              "    </tr>\n",
              "    <tr>\n",
              "      <th>1</th>\n",
              "      <td>2016-05-05T10:41:35Z</td>\n",
              "      <td>2016-05-18T00:00:00Z</td>\n",
              "    </tr>\n",
              "    <tr>\n",
              "      <th>2</th>\n",
              "      <td>2016-05-05T09:25:43Z</td>\n",
              "      <td>2016-05-20T00:00:00Z</td>\n",
              "    </tr>\n",
              "    <tr>\n",
              "      <th>3</th>\n",
              "      <td>2016-05-06T17:39:08Z</td>\n",
              "      <td>2016-05-10T00:00:00Z</td>\n",
              "    </tr>\n",
              "    <tr>\n",
              "      <th>4</th>\n",
              "      <td>2016-05-12T17:57:58Z</td>\n",
              "      <td>2016-05-16T00:00:00Z</td>\n",
              "    </tr>\n",
              "  </tbody>\n",
              "</table>\n",
              "</div>\n",
              "      <button class=\"colab-df-convert\" onclick=\"convertToInteractive('df-110a9a1b-6ed6-41bc-88b1-f82abbe392f3')\"\n",
              "              title=\"Convert this dataframe to an interactive table.\"\n",
              "              style=\"display:none;\">\n",
              "        \n",
              "  <svg xmlns=\"http://www.w3.org/2000/svg\" height=\"24px\"viewBox=\"0 0 24 24\"\n",
              "       width=\"24px\">\n",
              "    <path d=\"M0 0h24v24H0V0z\" fill=\"none\"/>\n",
              "    <path d=\"M18.56 5.44l.94 2.06.94-2.06 2.06-.94-2.06-.94-.94-2.06-.94 2.06-2.06.94zm-11 1L8.5 8.5l.94-2.06 2.06-.94-2.06-.94L8.5 2.5l-.94 2.06-2.06.94zm10 10l.94 2.06.94-2.06 2.06-.94-2.06-.94-.94-2.06-.94 2.06-2.06.94z\"/><path d=\"M17.41 7.96l-1.37-1.37c-.4-.4-.92-.59-1.43-.59-.52 0-1.04.2-1.43.59L10.3 9.45l-7.72 7.72c-.78.78-.78 2.05 0 2.83L4 21.41c.39.39.9.59 1.41.59.51 0 1.02-.2 1.41-.59l7.78-7.78 2.81-2.81c.8-.78.8-2.07 0-2.86zM5.41 20L4 18.59l7.72-7.72 1.47 1.35L5.41 20z\"/>\n",
              "  </svg>\n",
              "      </button>\n",
              "      \n",
              "  <style>\n",
              "    .colab-df-container {\n",
              "      display:flex;\n",
              "      flex-wrap:wrap;\n",
              "      gap: 12px;\n",
              "    }\n",
              "\n",
              "    .colab-df-convert {\n",
              "      background-color: #E8F0FE;\n",
              "      border: none;\n",
              "      border-radius: 50%;\n",
              "      cursor: pointer;\n",
              "      display: none;\n",
              "      fill: #1967D2;\n",
              "      height: 32px;\n",
              "      padding: 0 0 0 0;\n",
              "      width: 32px;\n",
              "    }\n",
              "\n",
              "    .colab-df-convert:hover {\n",
              "      background-color: #E2EBFA;\n",
              "      box-shadow: 0px 1px 2px rgba(60, 64, 67, 0.3), 0px 1px 3px 1px rgba(60, 64, 67, 0.15);\n",
              "      fill: #174EA6;\n",
              "    }\n",
              "\n",
              "    [theme=dark] .colab-df-convert {\n",
              "      background-color: #3B4455;\n",
              "      fill: #D2E3FC;\n",
              "    }\n",
              "\n",
              "    [theme=dark] .colab-df-convert:hover {\n",
              "      background-color: #434B5C;\n",
              "      box-shadow: 0px 1px 3px 1px rgba(0, 0, 0, 0.15);\n",
              "      filter: drop-shadow(0px 1px 2px rgba(0, 0, 0, 0.3));\n",
              "      fill: #FFFFFF;\n",
              "    }\n",
              "  </style>\n",
              "\n",
              "      <script>\n",
              "        const buttonEl =\n",
              "          document.querySelector('#df-110a9a1b-6ed6-41bc-88b1-f82abbe392f3 button.colab-df-convert');\n",
              "        buttonEl.style.display =\n",
              "          google.colab.kernel.accessAllowed ? 'block' : 'none';\n",
              "\n",
              "        async function convertToInteractive(key) {\n",
              "          const element = document.querySelector('#df-110a9a1b-6ed6-41bc-88b1-f82abbe392f3');\n",
              "          const dataTable =\n",
              "            await google.colab.kernel.invokeFunction('convertToInteractive',\n",
              "                                                     [key], {});\n",
              "          if (!dataTable) return;\n",
              "\n",
              "          const docLinkHtml = 'Like what you see? Visit the ' +\n",
              "            '<a target=\"_blank\" href=https://colab.research.google.com/notebooks/data_table.ipynb>data table notebook</a>'\n",
              "            + ' to learn more about interactive tables.';\n",
              "          element.innerHTML = '';\n",
              "          dataTable['output_type'] = 'display_data';\n",
              "          await google.colab.output.renderOutput(dataTable, element);\n",
              "          const docLink = document.createElement('div');\n",
              "          docLink.innerHTML = docLinkHtml;\n",
              "          element.appendChild(docLink);\n",
              "        }\n",
              "      </script>\n",
              "    </div>\n",
              "  </div>\n",
              "  "
            ]
          },
          "metadata": {},
          "execution_count": 15
        }
      ]
    },
    {
      "cell_type": "markdown",
      "source": [
        "The dates are in fact a timestamp that contains both date and hour. Let's split each of them into date and hour."
      ],
      "metadata": {
        "id": "t7uBOJ4jdogK"
      }
    },
    {
      "cell_type": "code",
      "source": [
        "df_train['scheduled_day'] = df_train['scheduled_day'].astype('str')\n",
        "df_train['appointment_day'] = df_train['appointment_day'].astype('str')\n",
        "# Define a lambda functions that will extract substrings from the dates\n",
        "extract_date = lambda x: x[:10]\n",
        "extract_hour = lambda x: x[11:19]\n",
        "\n",
        "# Extract dates\n",
        "df_train['scheduled_date'] = df_train['scheduled_day'].apply(extract_date)\n",
        "df_train['appointment_date'] = df_train['appointment_day'].apply(extract_date)\n",
        "\n",
        "# Extract hours\n",
        "df_train['scheduled_hour'] = df_train['scheduled_day'].apply(extract_hour)\n",
        "df_train['appointment_hour'] = df_train['appointment_day'].apply(extract_hour)"
      ],
      "metadata": {
        "id": "C5FSCXHBdpsD"
      },
      "execution_count": 16,
      "outputs": []
    },
    {
      "cell_type": "markdown",
      "source": [
        "Now we have date and hours separatedly. What new features can we come up with?\n",
        "\n",
        "For example, we can compute the days between the schedule date and the appointment date. We could hypotesize that those appointments with larger number of dates between scheduling and appointment could be more prone to a no-show, as the patient is more likely to forget about the appointment."
      ],
      "metadata": {
        "id": "tQ-GJcFHdrVX"
      }
    },
    {
      "cell_type": "code",
      "source": [
        "# to operate between dates we first need to convert them to a date format\n",
        "# to do so, we'll use datetime library\n",
        "day1 = '2021-05-07'\n",
        "df_train['scheduled_date_2'] = pd.to_datetime(df_train['scheduled_date'], \n",
        "                                              format='%Y-%m-%d')\n",
        "df_train['appointment_date_2'] = pd.to_datetime(df_train['appointment_date'], \n",
        "                                              format='%Y-%m-%d')\n",
        "\n",
        "# Now we can compute the difference between dates\n",
        "df_train['num_dayes_between_sch_and_ap'] = (df_train['appointment_date_2'] - \n",
        "                                            df_train['scheduled_date_2']).dt.days\n",
        "df_train[['scheduled_date_2','appointment_date_2','num_dayes_between_sch_and_ap']].head()\n",
        "\n",
        "# We can drop now the appointment and schedule dates\n",
        "to_drop = ['scheduled_date', 'appointment_date', 'scheduled_date_2',\n",
        "           'appointment_date_2','scheduled_day','appointment_day']\n",
        "df_train = df_train.drop(to_drop, axis=1)\n"
      ],
      "metadata": {
        "id": "Wv5YQER1duO9"
      },
      "execution_count": 17,
      "outputs": []
    },
    {
      "cell_type": "markdown",
      "source": [
        "Next, let's se what can we do with the hours."
      ],
      "metadata": {
        "id": "ZimeUvT0dwED"
      }
    },
    {
      "cell_type": "code",
      "source": [
        "# for some reason appointment hours are constant at 0am, thus they are usless\n",
        "print(df_train['appointment_hour'].unique())\n",
        "df_train = df_train.drop('appointment_hour', axis=1)"
      ],
      "metadata": {
        "colab": {
          "base_uri": "https://localhost:8080/"
        },
        "id": "3SC_vfBhdxMs",
        "outputId": "b3954e9f-635e-4eee-dc08-de72d6de29d7"
      },
      "execution_count": 18,
      "outputs": [
        {
          "output_type": "stream",
          "name": "stdout",
          "text": [
            "['00:00:00' '']\n"
          ]
        }
      ]
    },
    {
      "cell_type": "markdown",
      "source": [
        "We do have, however, information for the scheduling hours. We will extract the hour and, we will define a categorical feature that will indicate when the appointment was shceduled (morning, afternoon or night)."
      ],
      "metadata": {
        "id": "JO6fpO3tdzSn"
      }
    },
    {
      "cell_type": "code",
      "source": [
        "df_train['scheduled_just_hour'] = df_train['scheduled_hour'].apply(lambda x: pd.to_numeric(x[:2]) )\n",
        "\n",
        "# Now categorize the hours into morning, afternoon and night\n",
        "# Start with night and then relevel those values with either morning or afternoon\n",
        "df_train['scheduled_moment_cat'] = 'night'\n",
        "df_train.loc[(df_train['scheduled_just_hour'] > 6)  &\n",
        "             (df_train['scheduled_just_hour'] <= 14),\n",
        "             'scheduled_moment_cat'] = 'morning'\n",
        "\n",
        "df_train.loc[(df_train['scheduled_just_hour'] > 14)  &\n",
        "             (df_train['scheduled_just_hour'] <= 21),\n",
        "             'scheduled_moment_cat'] = 'afternoon'\n",
        "             \n",
        "\n",
        "# Let's drop the hours columns, but we'll keep the \"scheduled_just_hour\", who knows\n",
        "# it might be useful after all\n",
        "\n",
        "if 'scheduled_hour' in df_train.columns:\n",
        "  df_train = df_train.drop('scheduled_hour', axis=1)\n",
        "if 'appointment_hour' in df_train.columns:\n",
        "  df_train = df_train.drop('appointment_hour', axis=1)\n"
      ],
      "metadata": {
        "id": "6tUYZIond04E"
      },
      "execution_count": 19,
      "outputs": []
    },
    {
      "cell_type": "markdown",
      "source": [
        "### Other features with business-like sense\n",
        "\n",
        "Sometimes, we can combine variables to yield new variables with that can have sense from the use case prespective. For example, in our data we have available the cost of the patient for the health system, as well as the number of prior appointments. Thus, we can compute the ratio between these two to obtain the avreage cost per visit for each patient."
      ],
      "metadata": {
        "id": "UlcZ7G5fd2gd"
      }
    },
    {
      "cell_type": "code",
      "source": [
        "df_train['cost_per_visit'] = df_train['total_cost_public_health']/df_train['num_prior_appointments']\n",
        "\n",
        "# Fill infinite values with 0's\n",
        "df_train = df_train.replace([np.inf, -np.inf], 0)"
      ],
      "metadata": {
        "id": "tCcM-A4ld4KM"
      },
      "execution_count": 20,
      "outputs": []
    },
    {
      "cell_type": "markdown",
      "source": [
        "## 3.2 Preprocessing\n",
        "\n",
        "A real-world data generally contains noises, missing values, and maybe in an unusable format which cannot be directly used for machine learning models. Data preprocessing is required tasks for cleaning the data and making it suitable for a machine learning model.\n"
      ],
      "metadata": {
        "id": "1TMeZLEJd5pj"
      }
    },
    {
      "cell_type": "markdown",
      "source": [
        "### 3.2.1 Missing data handling\n",
        "Missing data is a typical problem that must be dealed with when doing data anaylsis. First, we can visualize how the missing data is distributed among the variables."
      ],
      "metadata": {
        "id": "EWuu5Xxud7tg"
      }
    },
    {
      "cell_type": "code",
      "source": [
        "msno.matrix(df_train, figsize=(10, 6))"
      ],
      "metadata": {
        "colab": {
          "base_uri": "https://localhost:8080/",
          "height": 597
        },
        "id": "MmliOV73d-xu",
        "outputId": "b0684dca-5121-4926-f59c-94f957cb4898"
      },
      "execution_count": 21,
      "outputs": [
        {
          "output_type": "execute_result",
          "data": {
            "text/plain": [
              "<matplotlib.axes._subplots.AxesSubplot at 0x7f5c9fa00f10>"
            ]
          },
          "metadata": {},
          "execution_count": 21
        },
        {
          "output_type": "display_data",
          "data": {
            "text/plain": [
              "<Figure size 720x432 with 2 Axes>"
            ],
            "image/png": "[encoded data removed]"
          },
          "metadata": {
            "needs_background": "light"
          }
        }
      ]
    },
    {
      "cell_type": "code",
      "source": [
        "msno.bar(df_train, figsize=(10, 6))"
      ],
      "metadata": {
        "colab": {
          "base_uri": "https://localhost:8080/",
          "height": 639
        },
        "id": "H5Sn4zoDeAG-",
        "outputId": "144caade-d284-4df1-c30c-987c06a5ec95"
      },
      "execution_count": 22,
      "outputs": [
        {
          "output_type": "execute_result",
          "data": {
            "text/plain": [
              "<matplotlib.axes._subplots.AxesSubplot at 0x7f5ca08c2490>"
            ]
          },
          "metadata": {},
          "execution_count": 22
        },
        {
          "output_type": "display_data",
          "data": {
            "text/plain": [
              "<Figure size 720x432 with 3 Axes>"
            ],
            "image/png": "[encoded data removed]"
          },
          "metadata": {
            "needs_background": "light"
          }
        }
      ]
    },
    {
      "cell_type": "markdown",
      "source": [
        "**Imputation of the missing values**\n",
        "Missing values could be removed, but this would mean losing a big amount of information. Another soultion is the imputation of these values, which incorporates the information that is already in the data to complete the missings."
      ],
      "metadata": {
        "id": "JboiKz8UeC_N"
      }
    },
    {
      "cell_type": "code",
      "source": [
        "df_train.isnull().sum()/len(df_train)"
      ],
      "metadata": {
        "colab": {
          "base_uri": "https://localhost:8080/"
        },
        "id": "ndSWHi7jeKr-",
        "outputId": "135900c2-f10e-48af-90fc-d870a7afdd33"
      },
      "execution_count": 23,
      "outputs": [
        {
          "output_type": "execute_result",
          "data": {
            "text/plain": [
              "appointment_id                  0.000000\n",
              "gender                          0.080656\n",
              "age                             0.072055\n",
              "neighbourhood                   0.054334\n",
              "has_insurance                   0.075662\n",
              "hipertension                    0.072634\n",
              "diabetes                        0.088811\n",
              "alcoholism                      0.072525\n",
              "non_specialized_visit           0.083346\n",
              "sms_received                    0.062127\n",
              "no_show                         0.000000\n",
              "num_prior_appointments          0.075831\n",
              "total_cost_public_health        0.062211\n",
              "has_health_app                  0.051065\n",
              "num_dayes_between_sch_and_ap    0.058001\n",
              "scheduled_just_hour             0.000000\n",
              "scheduled_moment_cat            0.000000\n",
              "cost_per_visit                  0.133410\n",
              "dtype: float64"
            ]
          },
          "metadata": {},
          "execution_count": 23
        }
      ]
    },
    {
      "cell_type": "markdown",
      "source": [
        "#### Simple Imputer"
      ],
      "metadata": {
        "id": "1CJwTEgGk-1X"
      }
    },
    {
      "cell_type": "code",
      "source": [
        "# #SimpleImputer for numeric variables, we use median imputation\n",
        "# numeric_cols = df_train.select_dtypes(include=np.number).columns.tolist()\n",
        "# categorical_cols = df_train.select_dtypes('object').columns.tolist()\n",
        "# # we remove the target\n",
        "# numeric_cols.remove(\"no_show\")\n",
        "\n",
        "# imputer = SimpleImputer(strategy ='median')\n",
        "# imputer.fit(df_train[numeric_cols])\n",
        "# df_train[numeric_cols] = imputer.transform(df_train[numeric_cols])\n",
        "\n",
        "# #For categorical we use most frequent value (mode)\n",
        "# df_train = df_train.fillna(df_train.mode().iloc[0])"
      ],
      "metadata": {
        "id": "byqa1fzZeITs"
      },
      "execution_count": 24,
      "outputs": []
    },
    {
      "cell_type": "markdown",
      "source": [
        "#### KNN Imputer"
      ],
      "metadata": {
        "id": "0ZhANRS0lF60"
      }
    },
    {
      "cell_type": "code",
      "source": [
        "#KNNImputer for numeric variables, we use median imputation\n",
        "numeric_cols = df_train.select_dtypes(include=np.number).columns.tolist()\n",
        "categorical_cols = df_train.select_dtypes('object').columns.tolist()\n",
        "# we remove the target\n",
        "numeric_cols.remove(\"no_show\")\n",
        "\n",
        "imputer = KNNImputer(n_neighbors=5)\n",
        "df_train[numeric_cols] = imputer.fit_transform(df_train[numeric_cols])\n",
        "\n",
        "#For categorical we use most frequent value (mode)\n",
        "df_train = df_train.fillna(df_train.mode().iloc[0])"
      ],
      "metadata": {
        "id": "Y4u8t84vlEsd"
      },
      "execution_count": 25,
      "outputs": []
    },
    {
      "cell_type": "code",
      "source": [
        "df_train.isnull().sum()"
      ],
      "metadata": {
        "colab": {
          "base_uri": "https://localhost:8080/"
        },
        "id": "gnrS6QddeS-X",
        "outputId": "a43d2aa2-a138-4e38-d97c-6355e2bc9fce"
      },
      "execution_count": 26,
      "outputs": [
        {
          "output_type": "execute_result",
          "data": {
            "text/plain": [
              "appointment_id                  0\n",
              "gender                          0\n",
              "age                             0\n",
              "neighbourhood                   0\n",
              "has_insurance                   0\n",
              "hipertension                    0\n",
              "diabetes                        0\n",
              "alcoholism                      0\n",
              "non_specialized_visit           0\n",
              "sms_received                    0\n",
              "no_show                         0\n",
              "num_prior_appointments          0\n",
              "total_cost_public_health        0\n",
              "has_health_app                  0\n",
              "num_dayes_between_sch_and_ap    0\n",
              "scheduled_just_hour             0\n",
              "scheduled_moment_cat            0\n",
              "cost_per_visit                  0\n",
              "dtype: int64"
            ]
          },
          "metadata": {},
          "execution_count": 26
        }
      ]
    },
    {
      "cell_type": "markdown",
      "source": [
        "### 3.3.3 Standarizing numerical features\n",
        "Standarization is scaling technique where the values are centered around the mean with a unit standard deviation The goal os scaling is having all numeric features in a similar scale. This can help the gradient descent, and other optimization algorithms to converge more quickly towards the minima.\n",
        "\n",
        "\n",
        "To to the standarization, we will use the scikit-learn library"
      ],
      "metadata": {
        "id": "rpWn3BeOeW8m"
      }
    },
    {
      "cell_type": "code",
      "source": [
        "ss = sklearn.preprocessing.StandardScaler()\n",
        "\n",
        "# Split data intro numerical features and categorical features\n",
        "num_features = ['num_dayes_between_sch_and_ap','cost_per_visit', 'total_cost_public_health',\n",
        "                'scheduled_just_hour','age']\n",
        "\n",
        "df_num = df_train[num_features]\n",
        "df_num_scaled = ss.fit_transform(df_num)\n",
        "\n",
        "# Convert it back to a pandas Data Frame\n",
        "df_num_scaled = pd.DataFrame(df_num_scaled, columns=df_num.columns)\n",
        "\n",
        "# Concatenate numeric with categorical into a whole dataset again\n",
        "\n",
        "# extract cat columns\n",
        "cat_features = [col for col in df_train.columns if col not in num_features]\n",
        "df_cat = df_train[cat_features]\n",
        "\n",
        "# Concatenate categorical and numerical back together\n",
        "df_train = pd.concat([df_cat, df_num_scaled], axis=1)\n",
        "df_train.head()"
      ],
      "metadata": {
        "id": "7NeQcm_aeYsA",
        "colab": {
          "base_uri": "https://localhost:8080/",
          "height": 288
        },
        "outputId": "ba51b515-fa94-4688-9be2-b170138d1fce"
      },
      "execution_count": 27,
      "outputs": [
        {
          "output_type": "execute_result",
          "data": {
            "text/plain": [
              "   appointment_id gender      neighbourhood  has_insurance  hipertension  \\\n",
              "0       5767698.0      F              OTHER            0.0           1.0   \n",
              "1       5663873.0      F              OTHER            1.0           0.0   \n",
              "2       5663052.0      M              OTHER            0.0           0.0   \n",
              "3       5671513.0      F              OTHER            0.0           0.0   \n",
              "4       5693146.0      F  JESUS DE NAZARETH            1.0           1.0   \n",
              "\n",
              "   diabetes  alcoholism  non_specialized_visit  sms_received  no_show  \\\n",
              "0       0.0         0.0                    0.0           0.0        0   \n",
              "1       0.0         0.0                    0.0           0.0        1   \n",
              "2       0.0         0.0                    0.0           0.0        0   \n",
              "3       0.0         0.0                    0.0           0.0        1   \n",
              "4       0.0         0.0                    0.0           1.0        0   \n",
              "\n",
              "   num_prior_appointments  has_health_app scheduled_moment_cat  \\\n",
              "0                     3.0             1.0                night   \n",
              "1                     2.0             0.0              morning   \n",
              "2                     6.0             1.0              morning   \n",
              "3                     0.0             0.0            afternoon   \n",
              "4                     2.0             0.0            afternoon   \n",
              "\n",
              "   num_dayes_between_sch_and_ap  cost_per_visit  total_cost_public_health  \\\n",
              "0                     -0.343335       -0.297367                  0.428560   \n",
              "1                      0.184740        0.177462                  0.270596   \n",
              "2                      0.316759       -0.536227                  2.692152   \n",
              "3                     -0.409344       -0.142625                  0.284670   \n",
              "4                     -0.409344       -0.043004                 -0.286778   \n",
              "\n",
              "   scheduled_just_hour       age  \n",
              "0            -1.484732  0.526924  \n",
              "1            -0.241063  0.348972  \n",
              "2            -0.551981 -0.051422  \n",
              "3             1.935356  0.615901  \n",
              "4             1.935356  0.704877  "
            ],
            "text/html": [
              "\n",
              "  <div id=\"df-19f2dad9-8ed5-42d8-88b1-124218a66026\">\n",
              "    <div class=\"colab-df-container\">\n",
              "      <div>\n",
              "<style scoped>\n",
              "    .dataframe tbody tr th:only-of-type {\n",
              "        vertical-align: middle;\n",
              "    }\n",
              "\n",
              "    .dataframe tbody tr th {\n",
              "        vertical-align: top;\n",
              "    }\n",
              "\n",
              "    .dataframe thead th {\n",
              "        text-align: right;\n",
              "    }\n",
              "</style>\n",
              "<table border=\"1\" class=\"dataframe\">\n",
              "  <thead>\n",
              "    <tr style=\"text-align: right;\">\n",
              "      <th></th>\n",
              "      <th>appointment_id</th>\n",
              "      <th>gender</th>\n",
              "      <th>neighbourhood</th>\n",
              "      <th>has_insurance</th>\n",
              "      <th>hipertension</th>\n",
              "      <th>diabetes</th>\n",
              "      <th>alcoholism</th>\n",
              "      <th>non_specialized_visit</th>\n",
              "      <th>sms_received</th>\n",
              "      <th>no_show</th>\n",
              "      <th>num_prior_appointments</th>\n",
              "      <th>has_health_app</th>\n",
              "      <th>scheduled_moment_cat</th>\n",
              "      <th>num_dayes_between_sch_and_ap</th>\n",
              "      <th>cost_per_visit</th>\n",
              "      <th>total_cost_public_health</th>\n",
              "      <th>scheduled_just_hour</th>\n",
              "      <th>age</th>\n",
              "    </tr>\n",
              "  </thead>\n",
              "  <tbody>\n",
              "    <tr>\n",
              "      <th>0</th>\n",
              "      <td>5767698.0</td>\n",
              "      <td>F</td>\n",
              "      <td>OTHER</td>\n",
              "      <td>0.0</td>\n",
              "      <td>1.0</td>\n",
              "      <td>0.0</td>\n",
              "      <td>0.0</td>\n",
              "      <td>0.0</td>\n",
              "      <td>0.0</td>\n",
              "      <td>0</td>\n",
              "      <td>3.0</td>\n",
              "      <td>1.0</td>\n",
              "      <td>night</td>\n",
              "      <td>-0.343335</td>\n",
              "      <td>-0.297367</td>\n",
              "      <td>0.428560</td>\n",
              "      <td>-1.484732</td>\n",
              "      <td>0.526924</td>\n",
              "    </tr>\n",
              "    <tr>\n",
              "      <th>1</th>\n",
              "      <td>5663873.0</td>\n",
              "      <td>F</td>\n",
              "      <td>OTHER</td>\n",
              "      <td>1.0</td>\n",
              "      <td>0.0</td>\n",
              "      <td>0.0</td>\n",
              "      <td>0.0</td>\n",
              "      <td>0.0</td>\n",
              "      <td>0.0</td>\n",
              "      <td>1</td>\n",
              "      <td>2.0</td>\n",
              "      <td>0.0</td>\n",
              "      <td>morning</td>\n",
              "      <td>0.184740</td>\n",
              "      <td>0.177462</td>\n",
              "      <td>0.270596</td>\n",
              "      <td>-0.241063</td>\n",
              "      <td>0.348972</td>\n",
              "    </tr>\n",
              "    <tr>\n",
              "      <th>2</th>\n",
              "      <td>5663052.0</td>\n",
              "      <td>M</td>\n",
              "      <td>OTHER</td>\n",
              "      <td>0.0</td>\n",
              "      <td>0.0</td>\n",
              "      <td>0.0</td>\n",
              "      <td>0.0</td>\n",
              "      <td>0.0</td>\n",
              "      <td>0.0</td>\n",
              "      <td>0</td>\n",
              "      <td>6.0</td>\n",
              "      <td>1.0</td>\n",
              "      <td>morning</td>\n",
              "      <td>0.316759</td>\n",
              "      <td>-0.536227</td>\n",
              "      <td>2.692152</td>\n",
              "      <td>-0.551981</td>\n",
              "      <td>-0.051422</td>\n",
              "    </tr>\n",
              "    <tr>\n",
              "      <th>3</th>\n",
              "      <td>5671513.0</td>\n",
              "      <td>F</td>\n",
              "      <td>OTHER</td>\n",
              "      <td>0.0</td>\n",
              "      <td>0.0</td>\n",
              "      <td>0.0</td>\n",
              "      <td>0.0</td>\n",
              "      <td>0.0</td>\n",
              "      <td>0.0</td>\n",
              "      <td>1</td>\n",
              "      <td>0.0</td>\n",
              "      <td>0.0</td>\n",
              "      <td>afternoon</td>\n",
              "      <td>-0.409344</td>\n",
              "      <td>-0.142625</td>\n",
              "      <td>0.284670</td>\n",
              "      <td>1.935356</td>\n",
              "      <td>0.615901</td>\n",
              "    </tr>\n",
              "    <tr>\n",
              "      <th>4</th>\n",
              "      <td>5693146.0</td>\n",
              "      <td>F</td>\n",
              "      <td>JESUS DE NAZARETH</td>\n",
              "      <td>1.0</td>\n",
              "      <td>1.0</td>\n",
              "      <td>0.0</td>\n",
              "      <td>0.0</td>\n",
              "      <td>0.0</td>\n",
              "      <td>1.0</td>\n",
              "      <td>0</td>\n",
              "      <td>2.0</td>\n",
              "      <td>0.0</td>\n",
              "      <td>afternoon</td>\n",
              "      <td>-0.409344</td>\n",
              "      <td>-0.043004</td>\n",
              "      <td>-0.286778</td>\n",
              "      <td>1.935356</td>\n",
              "      <td>0.704877</td>\n",
              "    </tr>\n",
              "  </tbody>\n",
              "</table>\n",
              "</div>\n",
              "      <button class=\"colab-df-convert\" onclick=\"convertToInteractive('df-19f2dad9-8ed5-42d8-88b1-124218a66026')\"\n",
              "              title=\"Convert this dataframe to an interactive table.\"\n",
              "              style=\"display:none;\">\n",
              "        \n",
              "  <svg xmlns=\"http://www.w3.org/2000/svg\" height=\"24px\"viewBox=\"0 0 24 24\"\n",
              "       width=\"24px\">\n",
              "    <path d=\"M0 0h24v24H0V0z\" fill=\"none\"/>\n",
              "    <path d=\"M18.56 5.44l.94 2.06.94-2.06 2.06-.94-2.06-.94-.94-2.06-.94 2.06-2.06.94zm-11 1L8.5 8.5l.94-2.06 2.06-.94-2.06-.94L8.5 2.5l-.94 2.06-2.06.94zm10 10l.94 2.06.94-2.06 2.06-.94-2.06-.94-.94-2.06-.94 2.06-2.06.94z\"/><path d=\"M17.41 7.96l-1.37-1.37c-.4-.4-.92-.59-1.43-.59-.52 0-1.04.2-1.43.59L10.3 9.45l-7.72 7.72c-.78.78-.78 2.05 0 2.83L4 21.41c.39.39.9.59 1.41.59.51 0 1.02-.2 1.41-.59l7.78-7.78 2.81-2.81c.8-.78.8-2.07 0-2.86zM5.41 20L4 18.59l7.72-7.72 1.47 1.35L5.41 20z\"/>\n",
              "  </svg>\n",
              "      </button>\n",
              "      \n",
              "  <style>\n",
              "    .colab-df-container {\n",
              "      display:flex;\n",
              "      flex-wrap:wrap;\n",
              "      gap: 12px;\n",
              "    }\n",
              "\n",
              "    .colab-df-convert {\n",
              "      background-color: #E8F0FE;\n",
              "      border: none;\n",
              "      border-radius: 50%;\n",
              "      cursor: pointer;\n",
              "      display: none;\n",
              "      fill: #1967D2;\n",
              "      height: 32px;\n",
              "      padding: 0 0 0 0;\n",
              "      width: 32px;\n",
              "    }\n",
              "\n",
              "    .colab-df-convert:hover {\n",
              "      background-color: #E2EBFA;\n",
              "      box-shadow: 0px 1px 2px rgba(60, 64, 67, 0.3), 0px 1px 3px 1px rgba(60, 64, 67, 0.15);\n",
              "      fill: #174EA6;\n",
              "    }\n",
              "\n",
              "    [theme=dark] .colab-df-convert {\n",
              "      background-color: #3B4455;\n",
              "      fill: #D2E3FC;\n",
              "    }\n",
              "\n",
              "    [theme=dark] .colab-df-convert:hover {\n",
              "      background-color: #434B5C;\n",
              "      box-shadow: 0px 1px 3px 1px rgba(0, 0, 0, 0.15);\n",
              "      filter: drop-shadow(0px 1px 2px rgba(0, 0, 0, 0.3));\n",
              "      fill: #FFFFFF;\n",
              "    }\n",
              "  </style>\n",
              "\n",
              "      <script>\n",
              "        const buttonEl =\n",
              "          document.querySelector('#df-19f2dad9-8ed5-42d8-88b1-124218a66026 button.colab-df-convert');\n",
              "        buttonEl.style.display =\n",
              "          google.colab.kernel.accessAllowed ? 'block' : 'none';\n",
              "\n",
              "        async function convertToInteractive(key) {\n",
              "          const element = document.querySelector('#df-19f2dad9-8ed5-42d8-88b1-124218a66026');\n",
              "          const dataTable =\n",
              "            await google.colab.kernel.invokeFunction('convertToInteractive',\n",
              "                                                     [key], {});\n",
              "          if (!dataTable) return;\n",
              "\n",
              "          const docLinkHtml = 'Like what you see? Visit the ' +\n",
              "            '<a target=\"_blank\" href=https://colab.research.google.com/notebooks/data_table.ipynb>data table notebook</a>'\n",
              "            + ' to learn more about interactive tables.';\n",
              "          element.innerHTML = '';\n",
              "          dataTable['output_type'] = 'display_data';\n",
              "          await google.colab.output.renderOutput(dataTable, element);\n",
              "          const docLink = document.createElement('div');\n",
              "          docLink.innerHTML = docLinkHtml;\n",
              "          element.appendChild(docLink);\n",
              "        }\n",
              "      </script>\n",
              "    </div>\n",
              "  </div>\n",
              "  "
            ]
          },
          "metadata": {},
          "execution_count": 27
        }
      ]
    },
    {
      "cell_type": "markdown",
      "source": [
        "\n",
        "### 3.2.4 Encoding of Categorical Features\n",
        "Since most machine learning models only accept numerical variables, preprocessing the categorical variables becomes a necessary step. We need to convert these categorical variables to numbers such that the model is able to understand and extract valuable information.\n",
        "\n",
        "There are several approaches to tackle this task. We will discuss three of them on the variable `neighbourhood`. \n",
        "\n",
        "Label encoding or ordinal encoding\n",
        "\n",
        "The easiest way to do this is to assign a number (or label) to each of these categories.\n",
        "\n",
        "For example, if we had a variable height, which can take values tall, medium and short, then we could encode each of these categories as 3, 2, 1, respectively; because there is an intrinsic order.\n",
        "\n",
        "* **One-hot encoding**\n",
        "\n",
        "    A trivial approach for nominal variables (as our case) is to split the categorical variables into many binary variables (those that can only take 0 or 1).\n",
        "    \n",
        "    For example, we could have a nominal variable `color` that takes values `red`, `yellow` or `green`. Then we can split the original variable `color` into two new ones: `is_red` and `is_yellow`. Note that it is unncessary to create `is_green` because its value can be infereced from the previous pair of variables.\n",
        "    \n",
        "    This means that we will have to add nearly as much variables as the number of categories. This is sometimes a problem, but we will ignore it for now.\n",
        "\n",
        "    The code below shows how to split the variable `neighbourhood`.\n",
        "\n",
        "    * **Mean encoding**\n",
        "\n",
        "    This is the encoding that takes into account the target variable (in our case, `not_show`). It labels each category of the variable as the mean of the target conditioned to the category. In our case, it estimates the probability of observing `no_show`=1 conditioned to the categorical variable's value:\n",
        "$$\\text{Pr}(\\text{no show}| \\text{neighbourhood = category}) = \\frac{\\text{Pr}(\\text{no show and neighbourhood = category})}{\\text{Pr}(\\text{neighbourhood = category})}$$\n",
        "\n",
        "    Sometimes, learning with mean encoding may lead to **overfitting** (the model is \"memorizing\" the training dataset but not generalizing). In that case, we have to apply regularisation techniques that will not be discussed here.\n",
        "\n",
        "\n",
        "Now that we have seen some basic encodings, we will proceed to encode all the categorical variables that we have in our dataset.\n",
        "\n",
        "Specifically, we will use one hot encoding\n",
        "You can try other encodings for each variable."
      ],
      "metadata": {
        "id": "73kk--5WfDnp"
      }
    },
    {
      "cell_type": "markdown",
      "source": [
        "#### OneHot Encoding"
      ],
      "metadata": {
        "id": "UGas8G7PqtYH"
      }
    },
    {
      "cell_type": "code",
      "source": [
        "# df_train.head()\n",
        "# to_onehot = ['gender','neighbourhood','scheduled_moment_cat']\n",
        "# df_to_onehot = df_train[to_onehot]\n",
        "# df_encoded = pd.get_dummies(df_to_onehot, drop_first = True)\n",
        "\n",
        "# # Drop non encodded variabes from dataset\n",
        "# df_train = df_train.drop(to_onehot, axis=1)\n",
        "\n",
        "# # Add the encoded dataset to the train dataset\n",
        "# df_train = pd.concat([df_train, df_encoded], axis=1)\n",
        "# df_train.head()"
      ],
      "metadata": {
        "id": "98D31bupow3x"
      },
      "execution_count": 28,
      "outputs": []
    },
    {
      "cell_type": "markdown",
      "source": [
        "Mean Encoding"
      ],
      "metadata": {
        "id": "HjNlvWe1qtkB"
      }
    },
    {
      "cell_type": "code",
      "source": [
        "df_train.head()"
      ],
      "metadata": {
        "colab": {
          "base_uri": "https://localhost:8080/",
          "height": 288
        },
        "id": "fZVb45tes_Oq",
        "outputId": "e314f90c-c015-4668-924e-18290e6e040e"
      },
      "execution_count": 29,
      "outputs": [
        {
          "output_type": "execute_result",
          "data": {
            "text/plain": [
              "   appointment_id gender      neighbourhood  has_insurance  hipertension  \\\n",
              "0       5767698.0      F              OTHER            0.0           1.0   \n",
              "1       5663873.0      F              OTHER            1.0           0.0   \n",
              "2       5663052.0      M              OTHER            0.0           0.0   \n",
              "3       5671513.0      F              OTHER            0.0           0.0   \n",
              "4       5693146.0      F  JESUS DE NAZARETH            1.0           1.0   \n",
              "\n",
              "   diabetes  alcoholism  non_specialized_visit  sms_received  no_show  \\\n",
              "0       0.0         0.0                    0.0           0.0        0   \n",
              "1       0.0         0.0                    0.0           0.0        1   \n",
              "2       0.0         0.0                    0.0           0.0        0   \n",
              "3       0.0         0.0                    0.0           0.0        1   \n",
              "4       0.0         0.0                    0.0           1.0        0   \n",
              "\n",
              "   num_prior_appointments  has_health_app scheduled_moment_cat  \\\n",
              "0                     3.0             1.0                night   \n",
              "1                     2.0             0.0              morning   \n",
              "2                     6.0             1.0              morning   \n",
              "3                     0.0             0.0            afternoon   \n",
              "4                     2.0             0.0            afternoon   \n",
              "\n",
              "   num_dayes_between_sch_and_ap  cost_per_visit  total_cost_public_health  \\\n",
              "0                     -0.343335       -0.297367                  0.428560   \n",
              "1                      0.184740        0.177462                  0.270596   \n",
              "2                      0.316759       -0.536227                  2.692152   \n",
              "3                     -0.409344       -0.142625                  0.284670   \n",
              "4                     -0.409344       -0.043004                 -0.286778   \n",
              "\n",
              "   scheduled_just_hour       age  \n",
              "0            -1.484732  0.526924  \n",
              "1            -0.241063  0.348972  \n",
              "2            -0.551981 -0.051422  \n",
              "3             1.935356  0.615901  \n",
              "4             1.935356  0.704877  "
            ],
            "text/html": [
              "\n",
              "  <div id=\"df-3422b6dd-e590-413d-8eda-b61adeaed224\">\n",
              "    <div class=\"colab-df-container\">\n",
              "      <div>\n",
              "<style scoped>\n",
              "    .dataframe tbody tr th:only-of-type {\n",
              "        vertical-align: middle;\n",
              "    }\n",
              "\n",
              "    .dataframe tbody tr th {\n",
              "        vertical-align: top;\n",
              "    }\n",
              "\n",
              "    .dataframe thead th {\n",
              "        text-align: right;\n",
              "    }\n",
              "</style>\n",
              "<table border=\"1\" class=\"dataframe\">\n",
              "  <thead>\n",
              "    <tr style=\"text-align: right;\">\n",
              "      <th></th>\n",
              "      <th>appointment_id</th>\n",
              "      <th>gender</th>\n",
              "      <th>neighbourhood</th>\n",
              "      <th>has_insurance</th>\n",
              "      <th>hipertension</th>\n",
              "      <th>diabetes</th>\n",
              "      <th>alcoholism</th>\n",
              "      <th>non_specialized_visit</th>\n",
              "      <th>sms_received</th>\n",
              "      <th>no_show</th>\n",
              "      <th>num_prior_appointments</th>\n",
              "      <th>has_health_app</th>\n",
              "      <th>scheduled_moment_cat</th>\n",
              "      <th>num_dayes_between_sch_and_ap</th>\n",
              "      <th>cost_per_visit</th>\n",
              "      <th>total_cost_public_health</th>\n",
              "      <th>scheduled_just_hour</th>\n",
              "      <th>age</th>\n",
              "    </tr>\n",
              "  </thead>\n",
              "  <tbody>\n",
              "    <tr>\n",
              "      <th>0</th>\n",
              "      <td>5767698.0</td>\n",
              "      <td>F</td>\n",
              "      <td>OTHER</td>\n",
              "      <td>0.0</td>\n",
              "      <td>1.0</td>\n",
              "      <td>0.0</td>\n",
              "      <td>0.0</td>\n",
              "      <td>0.0</td>\n",
              "      <td>0.0</td>\n",
              "      <td>0</td>\n",
              "      <td>3.0</td>\n",
              "      <td>1.0</td>\n",
              "      <td>night</td>\n",
              "      <td>-0.343335</td>\n",
              "      <td>-0.297367</td>\n",
              "      <td>0.428560</td>\n",
              "      <td>-1.484732</td>\n",
              "      <td>0.526924</td>\n",
              "    </tr>\n",
              "    <tr>\n",
              "      <th>1</th>\n",
              "      <td>5663873.0</td>\n",
              "      <td>F</td>\n",
              "      <td>OTHER</td>\n",
              "      <td>1.0</td>\n",
              "      <td>0.0</td>\n",
              "      <td>0.0</td>\n",
              "      <td>0.0</td>\n",
              "      <td>0.0</td>\n",
              "      <td>0.0</td>\n",
              "      <td>1</td>\n",
              "      <td>2.0</td>\n",
              "      <td>0.0</td>\n",
              "      <td>morning</td>\n",
              "      <td>0.184740</td>\n",
              "      <td>0.177462</td>\n",
              "      <td>0.270596</td>\n",
              "      <td>-0.241063</td>\n",
              "      <td>0.348972</td>\n",
              "    </tr>\n",
              "    <tr>\n",
              "      <th>2</th>\n",
              "      <td>5663052.0</td>\n",
              "      <td>M</td>\n",
              "      <td>OTHER</td>\n",
              "      <td>0.0</td>\n",
              "      <td>0.0</td>\n",
              "      <td>0.0</td>\n",
              "      <td>0.0</td>\n",
              "      <td>0.0</td>\n",
              "      <td>0.0</td>\n",
              "      <td>0</td>\n",
              "      <td>6.0</td>\n",
              "      <td>1.0</td>\n",
              "      <td>morning</td>\n",
              "      <td>0.316759</td>\n",
              "      <td>-0.536227</td>\n",
              "      <td>2.692152</td>\n",
              "      <td>-0.551981</td>\n",
              "      <td>-0.051422</td>\n",
              "    </tr>\n",
              "    <tr>\n",
              "      <th>3</th>\n",
              "      <td>5671513.0</td>\n",
              "      <td>F</td>\n",
              "      <td>OTHER</td>\n",
              "      <td>0.0</td>\n",
              "      <td>0.0</td>\n",
              "      <td>0.0</td>\n",
              "      <td>0.0</td>\n",
              "      <td>0.0</td>\n",
              "      <td>0.0</td>\n",
              "      <td>1</td>\n",
              "      <td>0.0</td>\n",
              "      <td>0.0</td>\n",
              "      <td>afternoon</td>\n",
              "      <td>-0.409344</td>\n",
              "      <td>-0.142625</td>\n",
              "      <td>0.284670</td>\n",
              "      <td>1.935356</td>\n",
              "      <td>0.615901</td>\n",
              "    </tr>\n",
              "    <tr>\n",
              "      <th>4</th>\n",
              "      <td>5693146.0</td>\n",
              "      <td>F</td>\n",
              "      <td>JESUS DE NAZARETH</td>\n",
              "      <td>1.0</td>\n",
              "      <td>1.0</td>\n",
              "      <td>0.0</td>\n",
              "      <td>0.0</td>\n",
              "      <td>0.0</td>\n",
              "      <td>1.0</td>\n",
              "      <td>0</td>\n",
              "      <td>2.0</td>\n",
              "      <td>0.0</td>\n",
              "      <td>afternoon</td>\n",
              "      <td>-0.409344</td>\n",
              "      <td>-0.043004</td>\n",
              "      <td>-0.286778</td>\n",
              "      <td>1.935356</td>\n",
              "      <td>0.704877</td>\n",
              "    </tr>\n",
              "  </tbody>\n",
              "</table>\n",
              "</div>\n",
              "      <button class=\"colab-df-convert\" onclick=\"convertToInteractive('df-3422b6dd-e590-413d-8eda-b61adeaed224')\"\n",
              "              title=\"Convert this dataframe to an interactive table.\"\n",
              "              style=\"display:none;\">\n",
              "        \n",
              "  <svg xmlns=\"http://www.w3.org/2000/svg\" height=\"24px\"viewBox=\"0 0 24 24\"\n",
              "       width=\"24px\">\n",
              "    <path d=\"M0 0h24v24H0V0z\" fill=\"none\"/>\n",
              "    <path d=\"M18.56 5.44l.94 2.06.94-2.06 2.06-.94-2.06-.94-.94-2.06-.94 2.06-2.06.94zm-11 1L8.5 8.5l.94-2.06 2.06-.94-2.06-.94L8.5 2.5l-.94 2.06-2.06.94zm10 10l.94 2.06.94-2.06 2.06-.94-2.06-.94-.94-2.06-.94 2.06-2.06.94z\"/><path d=\"M17.41 7.96l-1.37-1.37c-.4-.4-.92-.59-1.43-.59-.52 0-1.04.2-1.43.59L10.3 9.45l-7.72 7.72c-.78.78-.78 2.05 0 2.83L4 21.41c.39.39.9.59 1.41.59.51 0 1.02-.2 1.41-.59l7.78-7.78 2.81-2.81c.8-.78.8-2.07 0-2.86zM5.41 20L4 18.59l7.72-7.72 1.47 1.35L5.41 20z\"/>\n",
              "  </svg>\n",
              "      </button>\n",
              "      \n",
              "  <style>\n",
              "    .colab-df-container {\n",
              "      display:flex;\n",
              "      flex-wrap:wrap;\n",
              "      gap: 12px;\n",
              "    }\n",
              "\n",
              "    .colab-df-convert {\n",
              "      background-color: #E8F0FE;\n",
              "      border: none;\n",
              "      border-radius: 50%;\n",
              "      cursor: pointer;\n",
              "      display: none;\n",
              "      fill: #1967D2;\n",
              "      height: 32px;\n",
              "      padding: 0 0 0 0;\n",
              "      width: 32px;\n",
              "    }\n",
              "\n",
              "    .colab-df-convert:hover {\n",
              "      background-color: #E2EBFA;\n",
              "      box-shadow: 0px 1px 2px rgba(60, 64, 67, 0.3), 0px 1px 3px 1px rgba(60, 64, 67, 0.15);\n",
              "      fill: #174EA6;\n",
              "    }\n",
              "\n",
              "    [theme=dark] .colab-df-convert {\n",
              "      background-color: #3B4455;\n",
              "      fill: #D2E3FC;\n",
              "    }\n",
              "\n",
              "    [theme=dark] .colab-df-convert:hover {\n",
              "      background-color: #434B5C;\n",
              "      box-shadow: 0px 1px 3px 1px rgba(0, 0, 0, 0.15);\n",
              "      filter: drop-shadow(0px 1px 2px rgba(0, 0, 0, 0.3));\n",
              "      fill: #FFFFFF;\n",
              "    }\n",
              "  </style>\n",
              "\n",
              "      <script>\n",
              "        const buttonEl =\n",
              "          document.querySelector('#df-3422b6dd-e590-413d-8eda-b61adeaed224 button.colab-df-convert');\n",
              "        buttonEl.style.display =\n",
              "          google.colab.kernel.accessAllowed ? 'block' : 'none';\n",
              "\n",
              "        async function convertToInteractive(key) {\n",
              "          const element = document.querySelector('#df-3422b6dd-e590-413d-8eda-b61adeaed224');\n",
              "          const dataTable =\n",
              "            await google.colab.kernel.invokeFunction('convertToInteractive',\n",
              "                                                     [key], {});\n",
              "          if (!dataTable) return;\n",
              "\n",
              "          const docLinkHtml = 'Like what you see? Visit the ' +\n",
              "            '<a target=\"_blank\" href=https://colab.research.google.com/notebooks/data_table.ipynb>data table notebook</a>'\n",
              "            + ' to learn more about interactive tables.';\n",
              "          element.innerHTML = '';\n",
              "          dataTable['output_type'] = 'display_data';\n",
              "          await google.colab.output.renderOutput(dataTable, element);\n",
              "          const docLink = document.createElement('div');\n",
              "          docLink.innerHTML = docLinkHtml;\n",
              "          element.appendChild(docLink);\n",
              "        }\n",
              "      </script>\n",
              "    </div>\n",
              "  </div>\n",
              "  "
            ]
          },
          "metadata": {},
          "execution_count": 29
        }
      ]
    },
    {
      "cell_type": "code",
      "source": [
        "mean_encode = df_train.groupby('scheduled_moment_cat')['no_show'].mean()\n",
        "\n",
        "df_train.loc[:, 'scheduled_moment_cat'] = df_train.loc[:, 'scheduled_moment_cat'].map(mean_encode)\n",
        "df_train.head()"
      ],
      "metadata": {
        "colab": {
          "base_uri": "https://localhost:8080/",
          "height": 288
        },
        "id": "OFOnYI49qrrG",
        "outputId": "0eedecdf-8b7b-4742-8b15-d832da632afc"
      },
      "execution_count": 30,
      "outputs": [
        {
          "output_type": "execute_result",
          "data": {
            "text/plain": [
              "   appointment_id gender      neighbourhood  has_insurance  hipertension  \\\n",
              "0       5767698.0      F              OTHER            0.0           1.0   \n",
              "1       5663873.0      F              OTHER            1.0           0.0   \n",
              "2       5663052.0      M              OTHER            0.0           0.0   \n",
              "3       5671513.0      F              OTHER            0.0           0.0   \n",
              "4       5693146.0      F  JESUS DE NAZARETH            1.0           1.0   \n",
              "\n",
              "   diabetes  alcoholism  non_specialized_visit  sms_received  no_show  \\\n",
              "0       0.0         0.0                    0.0           0.0        0   \n",
              "1       0.0         0.0                    0.0           0.0        1   \n",
              "2       0.0         0.0                    0.0           0.0        0   \n",
              "3       0.0         0.0                    0.0           0.0        1   \n",
              "4       0.0         0.0                    0.0           1.0        0   \n",
              "\n",
              "   num_prior_appointments  has_health_app  scheduled_moment_cat  \\\n",
              "0                     3.0             1.0              0.193522   \n",
              "1                     2.0             0.0              0.196590   \n",
              "2                     6.0             1.0              0.196590   \n",
              "3                     0.0             0.0              0.234269   \n",
              "4                     2.0             0.0              0.234269   \n",
              "\n",
              "   num_dayes_between_sch_and_ap  cost_per_visit  total_cost_public_health  \\\n",
              "0                     -0.343335       -0.297367                  0.428560   \n",
              "1                      0.184740        0.177462                  0.270596   \n",
              "2                      0.316759       -0.536227                  2.692152   \n",
              "3                     -0.409344       -0.142625                  0.284670   \n",
              "4                     -0.409344       -0.043004                 -0.286778   \n",
              "\n",
              "   scheduled_just_hour       age  \n",
              "0            -1.484732  0.526924  \n",
              "1            -0.241063  0.348972  \n",
              "2            -0.551981 -0.051422  \n",
              "3             1.935356  0.615901  \n",
              "4             1.935356  0.704877  "
            ],
            "text/html": [
              "\n",
              "  <div id=\"df-e8e72760-c4d2-4377-a1d7-1456d3778212\">\n",
              "    <div class=\"colab-df-container\">\n",
              "      <div>\n",
              "<style scoped>\n",
              "    .dataframe tbody tr th:only-of-type {\n",
              "        vertical-align: middle;\n",
              "    }\n",
              "\n",
              "    .dataframe tbody tr th {\n",
              "        vertical-align: top;\n",
              "    }\n",
              "\n",
              "    .dataframe thead th {\n",
              "        text-align: right;\n",
              "    }\n",
              "</style>\n",
              "<table border=\"1\" class=\"dataframe\">\n",
              "  <thead>\n",
              "    <tr style=\"text-align: right;\">\n",
              "      <th></th>\n",
              "      <th>appointment_id</th>\n",
              "      <th>gender</th>\n",
              "      <th>neighbourhood</th>\n",
              "      <th>has_insurance</th>\n",
              "      <th>hipertension</th>\n",
              "      <th>diabetes</th>\n",
              "      <th>alcoholism</th>\n",
              "      <th>non_specialized_visit</th>\n",
              "      <th>sms_received</th>\n",
              "      <th>no_show</th>\n",
              "      <th>num_prior_appointments</th>\n",
              "      <th>has_health_app</th>\n",
              "      <th>scheduled_moment_cat</th>\n",
              "      <th>num_dayes_between_sch_and_ap</th>\n",
              "      <th>cost_per_visit</th>\n",
              "      <th>total_cost_public_health</th>\n",
              "      <th>scheduled_just_hour</th>\n",
              "      <th>age</th>\n",
              "    </tr>\n",
              "  </thead>\n",
              "  <tbody>\n",
              "    <tr>\n",
              "      <th>0</th>\n",
              "      <td>5767698.0</td>\n",
              "      <td>F</td>\n",
              "      <td>OTHER</td>\n",
              "      <td>0.0</td>\n",
              "      <td>1.0</td>\n",
              "      <td>0.0</td>\n",
              "      <td>0.0</td>\n",
              "      <td>0.0</td>\n",
              "      <td>0.0</td>\n",
              "      <td>0</td>\n",
              "      <td>3.0</td>\n",
              "      <td>1.0</td>\n",
              "      <td>0.193522</td>\n",
              "      <td>-0.343335</td>\n",
              "      <td>-0.297367</td>\n",
              "      <td>0.428560</td>\n",
              "      <td>-1.484732</td>\n",
              "      <td>0.526924</td>\n",
              "    </tr>\n",
              "    <tr>\n",
              "      <th>1</th>\n",
              "      <td>5663873.0</td>\n",
              "      <td>F</td>\n",
              "      <td>OTHER</td>\n",
              "      <td>1.0</td>\n",
              "      <td>0.0</td>\n",
              "      <td>0.0</td>\n",
              "      <td>0.0</td>\n",
              "      <td>0.0</td>\n",
              "      <td>0.0</td>\n",
              "      <td>1</td>\n",
              "      <td>2.0</td>\n",
              "      <td>0.0</td>\n",
              "      <td>0.196590</td>\n",
              "      <td>0.184740</td>\n",
              "      <td>0.177462</td>\n",
              "      <td>0.270596</td>\n",
              "      <td>-0.241063</td>\n",
              "      <td>0.348972</td>\n",
              "    </tr>\n",
              "    <tr>\n",
              "      <th>2</th>\n",
              "      <td>5663052.0</td>\n",
              "      <td>M</td>\n",
              "      <td>OTHER</td>\n",
              "      <td>0.0</td>\n",
              "      <td>0.0</td>\n",
              "      <td>0.0</td>\n",
              "      <td>0.0</td>\n",
              "      <td>0.0</td>\n",
              "      <td>0.0</td>\n",
              "      <td>0</td>\n",
              "      <td>6.0</td>\n",
              "      <td>1.0</td>\n",
              "      <td>0.196590</td>\n",
              "      <td>0.316759</td>\n",
              "      <td>-0.536227</td>\n",
              "      <td>2.692152</td>\n",
              "      <td>-0.551981</td>\n",
              "      <td>-0.051422</td>\n",
              "    </tr>\n",
              "    <tr>\n",
              "      <th>3</th>\n",
              "      <td>5671513.0</td>\n",
              "      <td>F</td>\n",
              "      <td>OTHER</td>\n",
              "      <td>0.0</td>\n",
              "      <td>0.0</td>\n",
              "      <td>0.0</td>\n",
              "      <td>0.0</td>\n",
              "      <td>0.0</td>\n",
              "      <td>0.0</td>\n",
              "      <td>1</td>\n",
              "      <td>0.0</td>\n",
              "      <td>0.0</td>\n",
              "      <td>0.234269</td>\n",
              "      <td>-0.409344</td>\n",
              "      <td>-0.142625</td>\n",
              "      <td>0.284670</td>\n",
              "      <td>1.935356</td>\n",
              "      <td>0.615901</td>\n",
              "    </tr>\n",
              "    <tr>\n",
              "      <th>4</th>\n",
              "      <td>5693146.0</td>\n",
              "      <td>F</td>\n",
              "      <td>JESUS DE NAZARETH</td>\n",
              "      <td>1.0</td>\n",
              "      <td>1.0</td>\n",
              "      <td>0.0</td>\n",
              "      <td>0.0</td>\n",
              "      <td>0.0</td>\n",
              "      <td>1.0</td>\n",
              "      <td>0</td>\n",
              "      <td>2.0</td>\n",
              "      <td>0.0</td>\n",
              "      <td>0.234269</td>\n",
              "      <td>-0.409344</td>\n",
              "      <td>-0.043004</td>\n",
              "      <td>-0.286778</td>\n",
              "      <td>1.935356</td>\n",
              "      <td>0.704877</td>\n",
              "    </tr>\n",
              "  </tbody>\n",
              "</table>\n",
              "</div>\n",
              "      <button class=\"colab-df-convert\" onclick=\"convertToInteractive('df-e8e72760-c4d2-4377-a1d7-1456d3778212')\"\n",
              "              title=\"Convert this dataframe to an interactive table.\"\n",
              "              style=\"display:none;\">\n",
              "        \n",
              "  <svg xmlns=\"http://www.w3.org/2000/svg\" height=\"24px\"viewBox=\"0 0 24 24\"\n",
              "       width=\"24px\">\n",
              "    <path d=\"M0 0h24v24H0V0z\" fill=\"none\"/>\n",
              "    <path d=\"M18.56 5.44l.94 2.06.94-2.06 2.06-.94-2.06-.94-.94-2.06-.94 2.06-2.06.94zm-11 1L8.5 8.5l.94-2.06 2.06-.94-2.06-.94L8.5 2.5l-.94 2.06-2.06.94zm10 10l.94 2.06.94-2.06 2.06-.94-2.06-.94-.94-2.06-.94 2.06-2.06.94z\"/><path d=\"M17.41 7.96l-1.37-1.37c-.4-.4-.92-.59-1.43-.59-.52 0-1.04.2-1.43.59L10.3 9.45l-7.72 7.72c-.78.78-.78 2.05 0 2.83L4 21.41c.39.39.9.59 1.41.59.51 0 1.02-.2 1.41-.59l7.78-7.78 2.81-2.81c.8-.78.8-2.07 0-2.86zM5.41 20L4 18.59l7.72-7.72 1.47 1.35L5.41 20z\"/>\n",
              "  </svg>\n",
              "      </button>\n",
              "      \n",
              "  <style>\n",
              "    .colab-df-container {\n",
              "      display:flex;\n",
              "      flex-wrap:wrap;\n",
              "      gap: 12px;\n",
              "    }\n",
              "\n",
              "    .colab-df-convert {\n",
              "      background-color: #E8F0FE;\n",
              "      border: none;\n",
              "      border-radius: 50%;\n",
              "      cursor: pointer;\n",
              "      display: none;\n",
              "      fill: #1967D2;\n",
              "      height: 32px;\n",
              "      padding: 0 0 0 0;\n",
              "      width: 32px;\n",
              "    }\n",
              "\n",
              "    .colab-df-convert:hover {\n",
              "      background-color: #E2EBFA;\n",
              "      box-shadow: 0px 1px 2px rgba(60, 64, 67, 0.3), 0px 1px 3px 1px rgba(60, 64, 67, 0.15);\n",
              "      fill: #174EA6;\n",
              "    }\n",
              "\n",
              "    [theme=dark] .colab-df-convert {\n",
              "      background-color: #3B4455;\n",
              "      fill: #D2E3FC;\n",
              "    }\n",
              "\n",
              "    [theme=dark] .colab-df-convert:hover {\n",
              "      background-color: #434B5C;\n",
              "      box-shadow: 0px 1px 3px 1px rgba(0, 0, 0, 0.15);\n",
              "      filter: drop-shadow(0px 1px 2px rgba(0, 0, 0, 0.3));\n",
              "      fill: #FFFFFF;\n",
              "    }\n",
              "  </style>\n",
              "\n",
              "      <script>\n",
              "        const buttonEl =\n",
              "          document.querySelector('#df-e8e72760-c4d2-4377-a1d7-1456d3778212 button.colab-df-convert');\n",
              "        buttonEl.style.display =\n",
              "          google.colab.kernel.accessAllowed ? 'block' : 'none';\n",
              "\n",
              "        async function convertToInteractive(key) {\n",
              "          const element = document.querySelector('#df-e8e72760-c4d2-4377-a1d7-1456d3778212');\n",
              "          const dataTable =\n",
              "            await google.colab.kernel.invokeFunction('convertToInteractive',\n",
              "                                                     [key], {});\n",
              "          if (!dataTable) return;\n",
              "\n",
              "          const docLinkHtml = 'Like what you see? Visit the ' +\n",
              "            '<a target=\"_blank\" href=https://colab.research.google.com/notebooks/data_table.ipynb>data table notebook</a>'\n",
              "            + ' to learn more about interactive tables.';\n",
              "          element.innerHTML = '';\n",
              "          dataTable['output_type'] = 'display_data';\n",
              "          await google.colab.output.renderOutput(dataTable, element);\n",
              "          const docLink = document.createElement('div');\n",
              "          docLink.innerHTML = docLinkHtml;\n",
              "          element.appendChild(docLink);\n",
              "        }\n",
              "      </script>\n",
              "    </div>\n",
              "  </div>\n",
              "  "
            ]
          },
          "metadata": {},
          "execution_count": 30
        }
      ]
    },
    {
      "cell_type": "code",
      "source": [
        "mean_encode = df_train.groupby('neighbourhood')['no_show'].mean()\n",
        "\n",
        "df_train.loc[:, 'neighbourhood'] = df_train.loc[:, 'neighbourhood'].map(mean_encode)\n",
        "df_train.head()"
      ],
      "metadata": {
        "colab": {
          "base_uri": "https://localhost:8080/",
          "height": 270
        },
        "id": "rJ3hPJVutXkO",
        "outputId": "08e8eac6-2d1e-4205-c33d-0003df1394bc"
      },
      "execution_count": 31,
      "outputs": [
        {
          "output_type": "execute_result",
          "data": {
            "text/plain": [
              "   appointment_id gender  neighbourhood  has_insurance  hipertension  \\\n",
              "0       5767698.0      F       0.201672            0.0           1.0   \n",
              "1       5663873.0      F       0.201672            1.0           0.0   \n",
              "2       5663052.0      M       0.201672            0.0           0.0   \n",
              "3       5671513.0      F       0.201672            0.0           0.0   \n",
              "4       5693146.0      F       0.252725            1.0           1.0   \n",
              "\n",
              "   diabetes  alcoholism  non_specialized_visit  sms_received  no_show  \\\n",
              "0       0.0         0.0                    0.0           0.0        0   \n",
              "1       0.0         0.0                    0.0           0.0        1   \n",
              "2       0.0         0.0                    0.0           0.0        0   \n",
              "3       0.0         0.0                    0.0           0.0        1   \n",
              "4       0.0         0.0                    0.0           1.0        0   \n",
              "\n",
              "   num_prior_appointments  has_health_app  scheduled_moment_cat  \\\n",
              "0                     3.0             1.0              0.193522   \n",
              "1                     2.0             0.0              0.196590   \n",
              "2                     6.0             1.0              0.196590   \n",
              "3                     0.0             0.0              0.234269   \n",
              "4                     2.0             0.0              0.234269   \n",
              "\n",
              "   num_dayes_between_sch_and_ap  cost_per_visit  total_cost_public_health  \\\n",
              "0                     -0.343335       -0.297367                  0.428560   \n",
              "1                      0.184740        0.177462                  0.270596   \n",
              "2                      0.316759       -0.536227                  2.692152   \n",
              "3                     -0.409344       -0.142625                  0.284670   \n",
              "4                     -0.409344       -0.043004                 -0.286778   \n",
              "\n",
              "   scheduled_just_hour       age  \n",
              "0            -1.484732  0.526924  \n",
              "1            -0.241063  0.348972  \n",
              "2            -0.551981 -0.051422  \n",
              "3             1.935356  0.615901  \n",
              "4             1.935356  0.704877  "
            ],
            "text/html": [
              "\n",
              "  <div id=\"df-1fabff97-72ca-4665-9098-ee1169afa0c6\">\n",
              "    <div class=\"colab-df-container\">\n",
              "      <div>\n",
              "<style scoped>\n",
              "    .dataframe tbody tr th:only-of-type {\n",
              "        vertical-align: middle;\n",
              "    }\n",
              "\n",
              "    .dataframe tbody tr th {\n",
              "        vertical-align: top;\n",
              "    }\n",
              "\n",
              "    .dataframe thead th {\n",
              "        text-align: right;\n",
              "    }\n",
              "</style>\n",
              "<table border=\"1\" class=\"dataframe\">\n",
              "  <thead>\n",
              "    <tr style=\"text-align: right;\">\n",
              "      <th></th>\n",
              "      <th>appointment_id</th>\n",
              "      <th>gender</th>\n",
              "      <th>neighbourhood</th>\n",
              "      <th>has_insurance</th>\n",
              "      <th>hipertension</th>\n",
              "      <th>diabetes</th>\n",
              "      <th>alcoholism</th>\n",
              "      <th>non_specialized_visit</th>\n",
              "      <th>sms_received</th>\n",
              "      <th>no_show</th>\n",
              "      <th>num_prior_appointments</th>\n",
              "      <th>has_health_app</th>\n",
              "      <th>scheduled_moment_cat</th>\n",
              "      <th>num_dayes_between_sch_and_ap</th>\n",
              "      <th>cost_per_visit</th>\n",
              "      <th>total_cost_public_health</th>\n",
              "      <th>scheduled_just_hour</th>\n",
              "      <th>age</th>\n",
              "    </tr>\n",
              "  </thead>\n",
              "  <tbody>\n",
              "    <tr>\n",
              "      <th>0</th>\n",
              "      <td>5767698.0</td>\n",
              "      <td>F</td>\n",
              "      <td>0.201672</td>\n",
              "      <td>0.0</td>\n",
              "      <td>1.0</td>\n",
              "      <td>0.0</td>\n",
              "      <td>0.0</td>\n",
              "      <td>0.0</td>\n",
              "      <td>0.0</td>\n",
              "      <td>0</td>\n",
              "      <td>3.0</td>\n",
              "      <td>1.0</td>\n",
              "      <td>0.193522</td>\n",
              "      <td>-0.343335</td>\n",
              "      <td>-0.297367</td>\n",
              "      <td>0.428560</td>\n",
              "      <td>-1.484732</td>\n",
              "      <td>0.526924</td>\n",
              "    </tr>\n",
              "    <tr>\n",
              "      <th>1</th>\n",
              "      <td>5663873.0</td>\n",
              "      <td>F</td>\n",
              "      <td>0.201672</td>\n",
              "      <td>1.0</td>\n",
              "      <td>0.0</td>\n",
              "      <td>0.0</td>\n",
              "      <td>0.0</td>\n",
              "      <td>0.0</td>\n",
              "      <td>0.0</td>\n",
              "      <td>1</td>\n",
              "      <td>2.0</td>\n",
              "      <td>0.0</td>\n",
              "      <td>0.196590</td>\n",
              "      <td>0.184740</td>\n",
              "      <td>0.177462</td>\n",
              "      <td>0.270596</td>\n",
              "      <td>-0.241063</td>\n",
              "      <td>0.348972</td>\n",
              "    </tr>\n",
              "    <tr>\n",
              "      <th>2</th>\n",
              "      <td>5663052.0</td>\n",
              "      <td>M</td>\n",
              "      <td>0.201672</td>\n",
              "      <td>0.0</td>\n",
              "      <td>0.0</td>\n",
              "      <td>0.0</td>\n",
              "      <td>0.0</td>\n",
              "      <td>0.0</td>\n",
              "      <td>0.0</td>\n",
              "      <td>0</td>\n",
              "      <td>6.0</td>\n",
              "      <td>1.0</td>\n",
              "      <td>0.196590</td>\n",
              "      <td>0.316759</td>\n",
              "      <td>-0.536227</td>\n",
              "      <td>2.692152</td>\n",
              "      <td>-0.551981</td>\n",
              "      <td>-0.051422</td>\n",
              "    </tr>\n",
              "    <tr>\n",
              "      <th>3</th>\n",
              "      <td>5671513.0</td>\n",
              "      <td>F</td>\n",
              "      <td>0.201672</td>\n",
              "      <td>0.0</td>\n",
              "      <td>0.0</td>\n",
              "      <td>0.0</td>\n",
              "      <td>0.0</td>\n",
              "      <td>0.0</td>\n",
              "      <td>0.0</td>\n",
              "      <td>1</td>\n",
              "      <td>0.0</td>\n",
              "      <td>0.0</td>\n",
              "      <td>0.234269</td>\n",
              "      <td>-0.409344</td>\n",
              "      <td>-0.142625</td>\n",
              "      <td>0.284670</td>\n",
              "      <td>1.935356</td>\n",
              "      <td>0.615901</td>\n",
              "    </tr>\n",
              "    <tr>\n",
              "      <th>4</th>\n",
              "      <td>5693146.0</td>\n",
              "      <td>F</td>\n",
              "      <td>0.252725</td>\n",
              "      <td>1.0</td>\n",
              "      <td>1.0</td>\n",
              "      <td>0.0</td>\n",
              "      <td>0.0</td>\n",
              "      <td>0.0</td>\n",
              "      <td>1.0</td>\n",
              "      <td>0</td>\n",
              "      <td>2.0</td>\n",
              "      <td>0.0</td>\n",
              "      <td>0.234269</td>\n",
              "      <td>-0.409344</td>\n",
              "      <td>-0.043004</td>\n",
              "      <td>-0.286778</td>\n",
              "      <td>1.935356</td>\n",
              "      <td>0.704877</td>\n",
              "    </tr>\n",
              "  </tbody>\n",
              "</table>\n",
              "</div>\n",
              "      <button class=\"colab-df-convert\" onclick=\"convertToInteractive('df-1fabff97-72ca-4665-9098-ee1169afa0c6')\"\n",
              "              title=\"Convert this dataframe to an interactive table.\"\n",
              "              style=\"display:none;\">\n",
              "        \n",
              "  <svg xmlns=\"http://www.w3.org/2000/svg\" height=\"24px\"viewBox=\"0 0 24 24\"\n",
              "       width=\"24px\">\n",
              "    <path d=\"M0 0h24v24H0V0z\" fill=\"none\"/>\n",
              "    <path d=\"M18.56 5.44l.94 2.06.94-2.06 2.06-.94-2.06-.94-.94-2.06-.94 2.06-2.06.94zm-11 1L8.5 8.5l.94-2.06 2.06-.94-2.06-.94L8.5 2.5l-.94 2.06-2.06.94zm10 10l.94 2.06.94-2.06 2.06-.94-2.06-.94-.94-2.06-.94 2.06-2.06.94z\"/><path d=\"M17.41 7.96l-1.37-1.37c-.4-.4-.92-.59-1.43-.59-.52 0-1.04.2-1.43.59L10.3 9.45l-7.72 7.72c-.78.78-.78 2.05 0 2.83L4 21.41c.39.39.9.59 1.41.59.51 0 1.02-.2 1.41-.59l7.78-7.78 2.81-2.81c.8-.78.8-2.07 0-2.86zM5.41 20L4 18.59l7.72-7.72 1.47 1.35L5.41 20z\"/>\n",
              "  </svg>\n",
              "      </button>\n",
              "      \n",
              "  <style>\n",
              "    .colab-df-container {\n",
              "      display:flex;\n",
              "      flex-wrap:wrap;\n",
              "      gap: 12px;\n",
              "    }\n",
              "\n",
              "    .colab-df-convert {\n",
              "      background-color: #E8F0FE;\n",
              "      border: none;\n",
              "      border-radius: 50%;\n",
              "      cursor: pointer;\n",
              "      display: none;\n",
              "      fill: #1967D2;\n",
              "      height: 32px;\n",
              "      padding: 0 0 0 0;\n",
              "      width: 32px;\n",
              "    }\n",
              "\n",
              "    .colab-df-convert:hover {\n",
              "      background-color: #E2EBFA;\n",
              "      box-shadow: 0px 1px 2px rgba(60, 64, 67, 0.3), 0px 1px 3px 1px rgba(60, 64, 67, 0.15);\n",
              "      fill: #174EA6;\n",
              "    }\n",
              "\n",
              "    [theme=dark] .colab-df-convert {\n",
              "      background-color: #3B4455;\n",
              "      fill: #D2E3FC;\n",
              "    }\n",
              "\n",
              "    [theme=dark] .colab-df-convert:hover {\n",
              "      background-color: #434B5C;\n",
              "      box-shadow: 0px 1px 3px 1px rgba(0, 0, 0, 0.15);\n",
              "      filter: drop-shadow(0px 1px 2px rgba(0, 0, 0, 0.3));\n",
              "      fill: #FFFFFF;\n",
              "    }\n",
              "  </style>\n",
              "\n",
              "      <script>\n",
              "        const buttonEl =\n",
              "          document.querySelector('#df-1fabff97-72ca-4665-9098-ee1169afa0c6 button.colab-df-convert');\n",
              "        buttonEl.style.display =\n",
              "          google.colab.kernel.accessAllowed ? 'block' : 'none';\n",
              "\n",
              "        async function convertToInteractive(key) {\n",
              "          const element = document.querySelector('#df-1fabff97-72ca-4665-9098-ee1169afa0c6');\n",
              "          const dataTable =\n",
              "            await google.colab.kernel.invokeFunction('convertToInteractive',\n",
              "                                                     [key], {});\n",
              "          if (!dataTable) return;\n",
              "\n",
              "          const docLinkHtml = 'Like what you see? Visit the ' +\n",
              "            '<a target=\"_blank\" href=https://colab.research.google.com/notebooks/data_table.ipynb>data table notebook</a>'\n",
              "            + ' to learn more about interactive tables.';\n",
              "          element.innerHTML = '';\n",
              "          dataTable['output_type'] = 'display_data';\n",
              "          await google.colab.output.renderOutput(dataTable, element);\n",
              "          const docLink = document.createElement('div');\n",
              "          docLink.innerHTML = docLinkHtml;\n",
              "          element.appendChild(docLink);\n",
              "        }\n",
              "      </script>\n",
              "    </div>\n",
              "  </div>\n",
              "  "
            ]
          },
          "metadata": {},
          "execution_count": 31
        }
      ]
    },
    {
      "cell_type": "code",
      "source": [
        "df_train.head()\n",
        "df_encoded = pd.get_dummies(df_train['gender'], drop_first = True)\n",
        "\n",
        "df_train['gender'] = df_encoded\n",
        "df_train.head()"
      ],
      "metadata": {
        "colab": {
          "base_uri": "https://localhost:8080/",
          "height": 270
        },
        "id": "ErioAZ47uXuj",
        "outputId": "bb3a3546-436a-4fc8-cdf3-5253a3933e77"
      },
      "execution_count": 32,
      "outputs": [
        {
          "output_type": "execute_result",
          "data": {
            "text/plain": [
              "   appointment_id  gender  neighbourhood  has_insurance  hipertension  \\\n",
              "0       5767698.0       0       0.201672            0.0           1.0   \n",
              "1       5663873.0       0       0.201672            1.0           0.0   \n",
              "2       5663052.0       1       0.201672            0.0           0.0   \n",
              "3       5671513.0       0       0.201672            0.0           0.0   \n",
              "4       5693146.0       0       0.252725            1.0           1.0   \n",
              "\n",
              "   diabetes  alcoholism  non_specialized_visit  sms_received  no_show  \\\n",
              "0       0.0         0.0                    0.0           0.0        0   \n",
              "1       0.0         0.0                    0.0           0.0        1   \n",
              "2       0.0         0.0                    0.0           0.0        0   \n",
              "3       0.0         0.0                    0.0           0.0        1   \n",
              "4       0.0         0.0                    0.0           1.0        0   \n",
              "\n",
              "   num_prior_appointments  has_health_app  scheduled_moment_cat  \\\n",
              "0                     3.0             1.0              0.193522   \n",
              "1                     2.0             0.0              0.196590   \n",
              "2                     6.0             1.0              0.196590   \n",
              "3                     0.0             0.0              0.234269   \n",
              "4                     2.0             0.0              0.234269   \n",
              "\n",
              "   num_dayes_between_sch_and_ap  cost_per_visit  total_cost_public_health  \\\n",
              "0                     -0.343335       -0.297367                  0.428560   \n",
              "1                      0.184740        0.177462                  0.270596   \n",
              "2                      0.316759       -0.536227                  2.692152   \n",
              "3                     -0.409344       -0.142625                  0.284670   \n",
              "4                     -0.409344       -0.043004                 -0.286778   \n",
              "\n",
              "   scheduled_just_hour       age  \n",
              "0            -1.484732  0.526924  \n",
              "1            -0.241063  0.348972  \n",
              "2            -0.551981 -0.051422  \n",
              "3             1.935356  0.615901  \n",
              "4             1.935356  0.704877  "
            ],
            "text/html": [
              "\n",
              "  <div id=\"df-53bea8ef-a22e-4b22-a29b-93537573be8f\">\n",
              "    <div class=\"colab-df-container\">\n",
              "      <div>\n",
              "<style scoped>\n",
              "    .dataframe tbody tr th:only-of-type {\n",
              "        vertical-align: middle;\n",
              "    }\n",
              "\n",
              "    .dataframe tbody tr th {\n",
              "        vertical-align: top;\n",
              "    }\n",
              "\n",
              "    .dataframe thead th {\n",
              "        text-align: right;\n",
              "    }\n",
              "</style>\n",
              "<table border=\"1\" class=\"dataframe\">\n",
              "  <thead>\n",
              "    <tr style=\"text-align: right;\">\n",
              "      <th></th>\n",
              "      <th>appointment_id</th>\n",
              "      <th>gender</th>\n",
              "      <th>neighbourhood</th>\n",
              "      <th>has_insurance</th>\n",
              "      <th>hipertension</th>\n",
              "      <th>diabetes</th>\n",
              "      <th>alcoholism</th>\n",
              "      <th>non_specialized_visit</th>\n",
              "      <th>sms_received</th>\n",
              "      <th>no_show</th>\n",
              "      <th>num_prior_appointments</th>\n",
              "      <th>has_health_app</th>\n",
              "      <th>scheduled_moment_cat</th>\n",
              "      <th>num_dayes_between_sch_and_ap</th>\n",
              "      <th>cost_per_visit</th>\n",
              "      <th>total_cost_public_health</th>\n",
              "      <th>scheduled_just_hour</th>\n",
              "      <th>age</th>\n",
              "    </tr>\n",
              "  </thead>\n",
              "  <tbody>\n",
              "    <tr>\n",
              "      <th>0</th>\n",
              "      <td>5767698.0</td>\n",
              "      <td>0</td>\n",
              "      <td>0.201672</td>\n",
              "      <td>0.0</td>\n",
              "      <td>1.0</td>\n",
              "      <td>0.0</td>\n",
              "      <td>0.0</td>\n",
              "      <td>0.0</td>\n",
              "      <td>0.0</td>\n",
              "      <td>0</td>\n",
              "      <td>3.0</td>\n",
              "      <td>1.0</td>\n",
              "      <td>0.193522</td>\n",
              "      <td>-0.343335</td>\n",
              "      <td>-0.297367</td>\n",
              "      <td>0.428560</td>\n",
              "      <td>-1.484732</td>\n",
              "      <td>0.526924</td>\n",
              "    </tr>\n",
              "    <tr>\n",
              "      <th>1</th>\n",
              "      <td>5663873.0</td>\n",
              "      <td>0</td>\n",
              "      <td>0.201672</td>\n",
              "      <td>1.0</td>\n",
              "      <td>0.0</td>\n",
              "      <td>0.0</td>\n",
              "      <td>0.0</td>\n",
              "      <td>0.0</td>\n",
              "      <td>0.0</td>\n",
              "      <td>1</td>\n",
              "      <td>2.0</td>\n",
              "      <td>0.0</td>\n",
              "      <td>0.196590</td>\n",
              "      <td>0.184740</td>\n",
              "      <td>0.177462</td>\n",
              "      <td>0.270596</td>\n",
              "      <td>-0.241063</td>\n",
              "      <td>0.348972</td>\n",
              "    </tr>\n",
              "    <tr>\n",
              "      <th>2</th>\n",
              "      <td>5663052.0</td>\n",
              "      <td>1</td>\n",
              "      <td>0.201672</td>\n",
              "      <td>0.0</td>\n",
              "      <td>0.0</td>\n",
              "      <td>0.0</td>\n",
              "      <td>0.0</td>\n",
              "      <td>0.0</td>\n",
              "      <td>0.0</td>\n",
              "      <td>0</td>\n",
              "      <td>6.0</td>\n",
              "      <td>1.0</td>\n",
              "      <td>0.196590</td>\n",
              "      <td>0.316759</td>\n",
              "      <td>-0.536227</td>\n",
              "      <td>2.692152</td>\n",
              "      <td>-0.551981</td>\n",
              "      <td>-0.051422</td>\n",
              "    </tr>\n",
              "    <tr>\n",
              "      <th>3</th>\n",
              "      <td>5671513.0</td>\n",
              "      <td>0</td>\n",
              "      <td>0.201672</td>\n",
              "      <td>0.0</td>\n",
              "      <td>0.0</td>\n",
              "      <td>0.0</td>\n",
              "      <td>0.0</td>\n",
              "      <td>0.0</td>\n",
              "      <td>0.0</td>\n",
              "      <td>1</td>\n",
              "      <td>0.0</td>\n",
              "      <td>0.0</td>\n",
              "      <td>0.234269</td>\n",
              "      <td>-0.409344</td>\n",
              "      <td>-0.142625</td>\n",
              "      <td>0.284670</td>\n",
              "      <td>1.935356</td>\n",
              "      <td>0.615901</td>\n",
              "    </tr>\n",
              "    <tr>\n",
              "      <th>4</th>\n",
              "      <td>5693146.0</td>\n",
              "      <td>0</td>\n",
              "      <td>0.252725</td>\n",
              "      <td>1.0</td>\n",
              "      <td>1.0</td>\n",
              "      <td>0.0</td>\n",
              "      <td>0.0</td>\n",
              "      <td>0.0</td>\n",
              "      <td>1.0</td>\n",
              "      <td>0</td>\n",
              "      <td>2.0</td>\n",
              "      <td>0.0</td>\n",
              "      <td>0.234269</td>\n",
              "      <td>-0.409344</td>\n",
              "      <td>-0.043004</td>\n",
              "      <td>-0.286778</td>\n",
              "      <td>1.935356</td>\n",
              "      <td>0.704877</td>\n",
              "    </tr>\n",
              "  </tbody>\n",
              "</table>\n",
              "</div>\n",
              "      <button class=\"colab-df-convert\" onclick=\"convertToInteractive('df-53bea8ef-a22e-4b22-a29b-93537573be8f')\"\n",
              "              title=\"Convert this dataframe to an interactive table.\"\n",
              "              style=\"display:none;\">\n",
              "        \n",
              "  <svg xmlns=\"http://www.w3.org/2000/svg\" height=\"24px\"viewBox=\"0 0 24 24\"\n",
              "       width=\"24px\">\n",
              "    <path d=\"M0 0h24v24H0V0z\" fill=\"none\"/>\n",
              "    <path d=\"M18.56 5.44l.94 2.06.94-2.06 2.06-.94-2.06-.94-.94-2.06-.94 2.06-2.06.94zm-11 1L8.5 8.5l.94-2.06 2.06-.94-2.06-.94L8.5 2.5l-.94 2.06-2.06.94zm10 10l.94 2.06.94-2.06 2.06-.94-2.06-.94-.94-2.06-.94 2.06-2.06.94z\"/><path d=\"M17.41 7.96l-1.37-1.37c-.4-.4-.92-.59-1.43-.59-.52 0-1.04.2-1.43.59L10.3 9.45l-7.72 7.72c-.78.78-.78 2.05 0 2.83L4 21.41c.39.39.9.59 1.41.59.51 0 1.02-.2 1.41-.59l7.78-7.78 2.81-2.81c.8-.78.8-2.07 0-2.86zM5.41 20L4 18.59l7.72-7.72 1.47 1.35L5.41 20z\"/>\n",
              "  </svg>\n",
              "      </button>\n",
              "      \n",
              "  <style>\n",
              "    .colab-df-container {\n",
              "      display:flex;\n",
              "      flex-wrap:wrap;\n",
              "      gap: 12px;\n",
              "    }\n",
              "\n",
              "    .colab-df-convert {\n",
              "      background-color: #E8F0FE;\n",
              "      border: none;\n",
              "      border-radius: 50%;\n",
              "      cursor: pointer;\n",
              "      display: none;\n",
              "      fill: #1967D2;\n",
              "      height: 32px;\n",
              "      padding: 0 0 0 0;\n",
              "      width: 32px;\n",
              "    }\n",
              "\n",
              "    .colab-df-convert:hover {\n",
              "      background-color: #E2EBFA;\n",
              "      box-shadow: 0px 1px 2px rgba(60, 64, 67, 0.3), 0px 1px 3px 1px rgba(60, 64, 67, 0.15);\n",
              "      fill: #174EA6;\n",
              "    }\n",
              "\n",
              "    [theme=dark] .colab-df-convert {\n",
              "      background-color: #3B4455;\n",
              "      fill: #D2E3FC;\n",
              "    }\n",
              "\n",
              "    [theme=dark] .colab-df-convert:hover {\n",
              "      background-color: #434B5C;\n",
              "      box-shadow: 0px 1px 3px 1px rgba(0, 0, 0, 0.15);\n",
              "      filter: drop-shadow(0px 1px 2px rgba(0, 0, 0, 0.3));\n",
              "      fill: #FFFFFF;\n",
              "    }\n",
              "  </style>\n",
              "\n",
              "      <script>\n",
              "        const buttonEl =\n",
              "          document.querySelector('#df-53bea8ef-a22e-4b22-a29b-93537573be8f button.colab-df-convert');\n",
              "        buttonEl.style.display =\n",
              "          google.colab.kernel.accessAllowed ? 'block' : 'none';\n",
              "\n",
              "        async function convertToInteractive(key) {\n",
              "          const element = document.querySelector('#df-53bea8ef-a22e-4b22-a29b-93537573be8f');\n",
              "          const dataTable =\n",
              "            await google.colab.kernel.invokeFunction('convertToInteractive',\n",
              "                                                     [key], {});\n",
              "          if (!dataTable) return;\n",
              "\n",
              "          const docLinkHtml = 'Like what you see? Visit the ' +\n",
              "            '<a target=\"_blank\" href=https://colab.research.google.com/notebooks/data_table.ipynb>data table notebook</a>'\n",
              "            + ' to learn more about interactive tables.';\n",
              "          element.innerHTML = '';\n",
              "          dataTable['output_type'] = 'display_data';\n",
              "          await google.colab.output.renderOutput(dataTable, element);\n",
              "          const docLink = document.createElement('div');\n",
              "          docLink.innerHTML = docLinkHtml;\n",
              "          element.appendChild(docLink);\n",
              "        }\n",
              "      </script>\n",
              "    </div>\n",
              "  </div>\n",
              "  "
            ]
          },
          "metadata": {},
          "execution_count": 32
        }
      ]
    },
    {
      "cell_type": "markdown",
      "source": [
        "## 3.3 Modelling\n",
        "Finally, after getting a first insight of the dataset with the EDA and doing the proper preprocessing, is time for the modelling. As we have previously stated, we want to classify if a certain patient will attend a doctor's appointment she or he has scheduled.  \n",
        "\n",
        "3.3.1 Splitting data intro train and validation\n",
        "Firstly, we need to divide our dataset in the train and validation subset. We will use the train dataset to train our model and the validation dataset to evaluate and compare the models properly. For this, we will select randomly 80% of the rows for the train dataset and the rest for the validation."
      ],
      "metadata": {
        "id": "d4-DOFNvf2OR"
      }
    },
    {
      "cell_type": "code",
      "source": [
        "if 'appointment_id' in df_train.columns:  \n",
        "  df_train = df_train.drop('appointment_id', axis=1)\n",
        "train = df_train.sample(frac=0.8, random_state=123) \n",
        "valid = df_train.drop(train.index)"
      ],
      "metadata": {
        "id": "7ExZjJq8fHuw"
      },
      "execution_count": 33,
      "outputs": []
    },
    {
      "cell_type": "markdown",
      "source": [
        "### 3.3.2 Fitting different classifiers"
      ],
      "metadata": {
        "id": "9twQv_PGf7Li"
      }
    },
    {
      "cell_type": "code",
      "source": [
        "classifiers = [\n",
        "    KNeighborsClassifier(n_neighbors=25),\n",
        "    DecisionTreeClassifier(max_depth=5, criterion='gini'),\n",
        "    RandomForestClassifier(n_estimators=100, max_depth=7, min_samples_leaf=20, n_jobs=4),\n",
        "    MLPClassifier(max_iter=100),\n",
        "    AdaBoostClassifier(n_estimators=100, learning_rate=1),\n",
        "    GaussianNB(),\n",
        "    QuadraticDiscriminantAnalysis(),\n",
        "]"
      ],
      "metadata": {
        "id": "vik792Xq7mph"
      },
      "execution_count": 34,
      "outputs": []
    },
    {
      "cell_type": "code",
      "source": [
        "scores = []\n",
        "\n",
        "for clf in classifiers:\n",
        "  clf.fit(train.drop('no_show', axis=1), train.no_show)\n",
        "  score = clf.score(valid.drop('no_show', axis=1), valid.no_show)\n",
        "  scores.append(score)"
      ],
      "metadata": {
        "colab": {
          "base_uri": "https://localhost:8080/"
        },
        "id": "QxgDYmEI7yGa",
        "outputId": "dfe2a0cb-afb3-404c-db08-cdb9cdde9ad0"
      },
      "execution_count": 35,
      "outputs": [
        {
          "output_type": "stream",
          "name": "stderr",
          "text": [
            "Stochastic Optimizer: Maximum iterations (100) reached and the optimization hasn't converged yet.\n"
          ]
        }
      ]
    },
    {
      "cell_type": "code",
      "source": [
        "best_model = classifiers[np.argmax(scores)]\n",
        "best_model.fit(train.drop('no_show', axis=1), train.no_show)\n",
        "best_model"
      ],
      "metadata": {
        "colab": {
          "base_uri": "https://localhost:8080/"
        },
        "id": "pMZpbXy24KT7",
        "outputId": "19b6d81f-f095-40be-b44b-45c19d405fd8"
      },
      "execution_count": 36,
      "outputs": [
        {
          "output_type": "execute_result",
          "data": {
            "text/plain": [
              "AdaBoostClassifier(learning_rate=1, n_estimators=100)"
            ]
          },
          "metadata": {},
          "execution_count": 36
        }
      ]
    },
    {
      "cell_type": "markdown",
      "source": [
        "### 3.3.3 Fitting an XGBoost"
      ],
      "metadata": {
        "id": "vEWBdXxvf9sz"
      }
    },
    {
      "cell_type": "code",
      "source": [
        "import xgboost as xgb\n",
        "\n",
        "dtrain = xgb.DMatrix(train.drop('no_show', axis=1), label=train.no_show)\n",
        "dvalid = xgb.DMatrix(valid.drop('no_show', axis=1), label=valid.no_show)\n",
        "\n",
        "param = {\n",
        "    # 'booster': 'dart',\n",
        "    # 'normalize_type': 'forest',\n",
        "    'eta': 1, \n",
        "    'nthread': 4,\n",
        "    'max_depth': 5, \n",
        "    'objective': 'binary:logistic',\n",
        "    'eval_metric' : ['auc', 'aucpr', 'error'],\n",
        "}\n",
        "\n",
        "evallist = [(dvalid, 'eval'), (dtrain, 'train')]\n",
        "\n",
        "num_round = 15\n",
        "xgb_model = xgb.train(param, dtrain, num_round, evallist, verbose_eval = 25)\n"
      ],
      "metadata": {
        "id": "9OMXMChvf_Nd",
        "colab": {
          "base_uri": "https://localhost:8080/"
        },
        "outputId": "375aadbd-14a9-4d12-f01a-984535a7aaed"
      },
      "execution_count": 46,
      "outputs": [
        {
          "output_type": "stream",
          "name": "stdout",
          "text": [
            "[0]\teval-auc:0.790787\teval-aucpr:0.465753\teval-error:0.192895\ttrain-auc:0.797326\ttrain-aucpr:0.473169\ttrain-error:0.189261\n",
            "[14]\teval-auc:0.806149\teval-aucpr:0.505729\teval-error:0.185415\ttrain-auc:0.835311\ttrain-aucpr:0.558177\ttrain-error:0.174528\n"
          ]
        }
      ]
    },
    {
      "cell_type": "markdown",
      "source": [
        "### 3.3.4 Evaluating the performance of our models\n",
        "After training our models, we should evaluate their performance so we keep the one that gives better results on predicting the target variable. This evaluation should be done on the validation dataset so we make sure the model is generalizing correctly to new data; the model could be memorizing the dataset giving perfect accuracy for the train dataset but horrible predictions for new data!\n",
        "\n",
        "For classification tasks there are many metrics that can be used to make the evaluation. We start with the simplest metric, accuracy: the % of correctly classified items:"
      ],
      "metadata": {
        "id": "TpqMLiADgBcm"
      }
    },
    {
      "cell_type": "code",
      "source": [
        "# predictions for validation\n",
        "pred_best_valid = best_model.predict(valid.drop('no_show', axis=1))\n",
        "prob_best_valid = best_model.predict_proba(valid.drop('no_show', axis=1))[:,1]\n",
        "prob_xg_valid = xgb_model.predict(dvalid)\n",
        "\n",
        "pred_xg_valid = [1 if prob >= 0.5 else 0 for prob in prob_xg_valid]"
      ],
      "metadata": {
        "id": "FnGfwtHcgDDb"
      },
      "execution_count": 47,
      "outputs": []
    },
    {
      "cell_type": "code",
      "source": [
        "# Accuracy RF\n",
        "errors_best = abs(valid.no_show - pred_best_valid)\n",
        "errors_xg = abs(valid.no_show - pred_xg_valid)\n",
        "acc_best = float(1-errors_best.sum()/errors_best.shape)\n",
        "acc_xg = float(1-errors_xg.sum()/errors_xg.shape)\n",
        "\n",
        "baseline_rate = df_train['no_show'].sum()/len(df_train)\n",
        "print(f\"% of no shows : {100*baseline_rate:.1f}%\")\n",
        "print(f'Accuracy Best model: {acc_best*100:.1f}%')\n",
        "print(f'Accuracy XGBoost:       {acc_xg*100:.1f}%')"
      ],
      "metadata": {
        "id": "7KuFKk7lgEnD",
        "colab": {
          "base_uri": "https://localhost:8080/"
        },
        "outputId": "378426ee-e8f1-472b-a0c2-ec47da2489e8"
      },
      "execution_count": 48,
      "outputs": [
        {
          "output_type": "stream",
          "name": "stdout",
          "text": [
            "% of no shows : 20.3%\n",
            "Accuracy Best model: 81.5%\n",
            "Accuracy XGBoost:       81.5%\n"
          ]
        }
      ]
    },
    {
      "cell_type": "markdown",
      "source": [
        "From this, we could move to more complex and meaningful metrics. \n",
        "\n",
        "\n",
        "One of them is the AUC. The AUC computes the Area Under the Curve of the ROC curve. The ROC curve evaluates with different classification thresholds the [Recall](https://en.wikipedia.org/wiki/Precision_and_recall#Recall) and the [False Positive Rate (FPR)](https://en.wikipedia.org/wiki/False_positive_rate) from our [confusion matrix](https://en.wikipedia.org/wiki/Confusion_matrix) created with the real values and the predictions; then creates the curve with the Recall on the y-axis and the FPR on the x-axis. Higher AUC values indicates a better model. \n",
        "\n",
        "Moreover, as we can see below, our dataset is not balanced. In this situation, there are better metrics to evaluate our results. One of them is the Area Under the Curve of the Precision-Recall curve, equivalent to the ROC curve but now the x-axis is the [Precision](https://en.wikipedia.org/wiki/Precision_and_recall#Recall). Let's evaluate using these metrics:"
      ],
      "metadata": {
        "id": "qEpnS6YdgG5c"
      }
    },
    {
      "cell_type": "code",
      "source": [
        "print(\"% of shows\", 100*df_train['no_show'].value_counts()[0]/df_train.no_show.size)\n",
        "\n",
        "prob_best_valid = best_model.predict_proba(valid.drop('no_show', axis=1))[:,1]\n",
        "ROC_AUC_best = roc_auc_score(valid.no_show, prob_best_valid)\n",
        "ROC_AUC_xg = roc_auc_score(valid.no_show, prob_xg_valid)\n",
        "print(\"------------------------------------\")\n",
        "print(\"Metrics on validation dataset\")\n",
        "print(\"------------------------------------\")\n",
        "\n",
        "print(f'AUC Best Model: {ROC_AUC_best:.3f}')\n",
        "print(f'AUC XGBoost:       {ROC_AUC_xg:.3f}')\n",
        "\n",
        "precision_best_valid, recall_best_valid, _ = precision_recall_curve(valid.no_show, prob_best_valid)\n",
        "PR_AUC_best = auc(recall_best_valid, precision_best_valid)\n",
        "precision_xg_valid, recall_xg_valid, _ = precision_recall_curve(valid.no_show, prob_xg_valid)\n",
        "PR_AUC_xg = auc(recall_xg_valid, precision_xg_valid)\n",
        "\n",
        "print(f'AUC-PR Best Model: {PR_AUC_best:.3f}')\n",
        "print(f'AUC-PR XGBoost      : {PR_AUC_xg:.3f}')\n",
        "print(\"------------------------------------\")"
      ],
      "metadata": {
        "id": "KAgQwxEngIO0",
        "colab": {
          "base_uri": "https://localhost:8080/"
        },
        "outputId": "920f4760-69dd-413d-e838-206e5b187f67"
      },
      "execution_count": 49,
      "outputs": [
        {
          "output_type": "stream",
          "name": "stdout",
          "text": [
            "% of shows 79.71409614572651\n",
            "------------------------------------\n",
            "Metrics on validation dataset\n",
            "------------------------------------\n",
            "AUC Best Model: 0.813\n",
            "AUC XGBoost:       0.806\n",
            "AUC-PR Best Model: 0.516\n",
            "AUC-PR XGBoost      : 0.506\n",
            "------------------------------------\n"
          ]
        }
      ]
    },
    {
      "cell_type": "markdown",
      "source": [
        "Plotting the ROC Curves"
      ],
      "metadata": {
        "id": "fsEu8SAVgKds"
      }
    },
    {
      "cell_type": "code",
      "source": [
        "\n",
        "pred_best_train = best_model.predict(train.drop('no_show', axis=1))\n",
        "prob_best_train = best_model.predict_proba(train.drop('no_show', axis=1))[:,1]\n",
        "prob_xg_train = xgb_model.predict(dtrain)\n",
        "pred_xg_train = [1 if prob >= 0.5 else 0 for prob in prob_xg_train]\n",
        "\n",
        "precision_best_train, recall_best_train, _ = precision_recall_curve(train.no_show, prob_best_train)\n",
        "precision_xg_train, recall_xg_train, _ = precision_recall_curve(train.no_show, prob_xg_train)\n",
        "fp_rates_best_valid, tp_rates_best_valid, _ = roc_curve(valid.no_show, prob_best_valid)\n",
        "fp_rates_best_train, tp_rates_best_train, _ = roc_curve(train.no_show, prob_best_train)\n",
        "fp_rates_xg_valid, tp_rates_xg_valid, _ = roc_curve(valid.no_show, prob_xg_valid)\n",
        "fp_rates_xg_train, tp_rates_xg_train, _ = roc_curve(train.no_show, prob_xg_train)\n",
        "\n",
        "fig, axs = plt.subplots(2,2)\n",
        "fig.set_size_inches(10,8)\n",
        "fig.subplots_adjust(left=None, bottom=None, right=None, top=None, wspace=None, hspace=0.5)\n",
        "\n",
        "def plotROC(model, i, j,  fp_rates_valid, tp_rates_valid,\n",
        "                          fp_rates_train, tp_rates_train):\n",
        "  axs[i,j].plot(fp_rates_valid, tp_rates_valid, label='validation')\n",
        "  axs[i,j].plot(fp_rates_train, tp_rates_train, label='training')\n",
        "  axs[i,j].set(title = 'Receiver Operational Characteristic (ROC)'+'\\n'+model,\n",
        "               xlabel = 'False-Positive rates', ylabel = 'True-Positive rates',\n",
        "               ylim = (-0.05,1.05), xlim = (-0.05,1.05))\n",
        "  axs[i,j].legend()\n",
        "  axs[i,j].grid()\n",
        "\n",
        "def plotPR(model, i, j,  recall_valid, precision_valid,\n",
        "                         recall_train, precision_train):\n",
        "  axs[i,j].plot(recall_valid, precision_valid, label='validation')\n",
        "  axs[i,j].plot(recall_train, precision_train, label='training')\n",
        "  axs[i,j].set(title = 'Precision-Recall'+'\\n'+model,\n",
        "               xlabel = 'Recall', ylabel = 'Precision',\n",
        "               ylim = (-0.05,1.05), xlim = (-0.05,1.05))\n",
        "  axs[i,j].legend()\n",
        "  axs[i,j].grid()\n",
        "\n",
        "plotROC('Best Model', 0, 0, fp_rates_best_valid, tp_rates_best_valid , \n",
        "                               fp_rates_best_train, tp_rates_best_train )\n",
        "plotPR('Best Model' , 0, 1, recall_best_valid  , precision_best_valid, \n",
        "                               recall_best_train  , precision_best_train)\n",
        "plotROC('XGBoost'      , 1, 0, fp_rates_xg_valid, tp_rates_xg_valid , \n",
        "                               fp_rates_xg_train, tp_rates_xg_train )\n",
        "plotPR('XGBoost'       , 1, 1, recall_xg_valid  , precision_xg_valid, \n",
        "                               recall_xg_train  , precision_xg_train)\n",
        "pass"
      ],
      "metadata": {
        "id": "UMKROOu8gMHl",
        "colab": {
          "base_uri": "https://localhost:8080/",
          "height": 528
        },
        "outputId": "52b2b2c3-8899-4e3a-b5b7-1df0f42a57bd"
      },
      "execution_count": 50,
      "outputs": [
        {
          "output_type": "display_data",
          "data": {
            "text/plain": [
              "<Figure size 720x576 with 4 Axes>"
            ],
            "image/png": "[encoded data removed]"
          },
          "metadata": {
            "needs_background": "light"
          }
        }
      ]
    },
    {
      "cell_type": "markdown",
      "source": [
        "Comparing the training results with the validation, we can see that Random Forest heavily overfits while XGBoost gives much more similar results between training and validation."
      ],
      "metadata": {
        "id": "0X12ftIkgOyc"
      }
    },
    {
      "cell_type": "code",
      "source": [
        "\n",
        "print(tabulate([['Best Model', acc_best, ROC_AUC_best, PR_AUC_best],\n",
        "                ['XGBoost', acc_xg, ROC_AUC_xg, PR_AUC_xg]],\n",
        "                headers=['Accuracy', 'AUC', 'AUC-PR']))"
      ],
      "metadata": {
        "id": "OCmo5AjIgOOc",
        "colab": {
          "base_uri": "https://localhost:8080/"
        },
        "outputId": "1706498b-5f44-495d-c85e-470f839449bf"
      },
      "execution_count": 51,
      "outputs": [
        {
          "output_type": "stream",
          "name": "stdout",
          "text": [
            "              Accuracy       AUC    AUC-PR\n",
            "----------  ----------  --------  --------\n",
            "Best Model    0.815369  0.813363  0.515698\n",
            "XGBoost       0.814585  0.806149  0.505724\n"
          ]
        }
      ]
    },
    {
      "cell_type": "markdown",
      "source": [
        "As we can see, in all the metrics the XGBoost performs better than the random forest, obtaining higher values. Thus, we will use the XGBoost as our final model! We encourage you to explore new models and to optimize the hyperparameters they have. "
      ],
      "metadata": {
        "id": "JpAmbyR4gSkG"
      }
    },
    {
      "cell_type": "markdown",
      "source": [
        "### 3.3.5 Feature Importance\n",
        "It can be insightful to analyze which variables are more significant to our model, that is to say, which are the features that allow the model to predict the target variable. We will analyze this using feature importance metrics from XGBoost and Random Forest models. For example, we could measure the number of times a feature is used to split the data across all trees as a feature importance metric. Luckily, `sklearn` and `xgboost` already provides these metrics.\n",
        "\n",
        "\n",
        "Despite being similar to the correlation already analyzed in the EDA section, now we are exploring which are the variables that were more relevant for the model itself, thus the results can be somewhat different."
      ],
      "metadata": {
        "id": "ijOe9H6tgUud"
      }
    },
    {
      "cell_type": "code",
      "source": [
        "# Feature Importances\n",
        "\n",
        "# weight as the importance type (number of times a feature appears in a tree)\n",
        "plt.rcParams[\"figure.figsize\"] = (8,5)\n",
        "plot_importance(xgb_model, height=0.7, grid=False, title=\"XGBoost feature importance\")\n",
        "plt.rcParams[\"figure.figsize\"] = plt.rcParamsDefault[\"figure.figsize\"]"
      ],
      "metadata": {
        "id": "3gb4NVSCgUV0",
        "colab": {
          "base_uri": "https://localhost:8080/",
          "height": 350
        },
        "outputId": "1d2ec6e2-578e-46cf-9d5a-100d572f856a"
      },
      "execution_count": 52,
      "outputs": [
        {
          "output_type": "display_data",
          "data": {
            "text/plain": [
              "<Figure size 576x360 with 1 Axes>"
            ],
            "image/png": "[encoded data removed]"
          },
          "metadata": {
            "needs_background": "light"
          }
        }
      ]
    },
    {
      "cell_type": "markdown",
      "source": [
        "As we can see, `total_cost_public_health` is the most relevant feature for our XGBoost model, followed by `cost_per_visit` and `num_days_between_sch_and_ap`, a feature we previously engineered! For the Random Forest:"
      ],
      "metadata": {
        "id": "VBeNfdA2gY51"
      }
    },
    {
      "cell_type": "code",
      "source": [
        "plt.rcParams[\"figure.figsize\"] = (8.25,5)\n",
        "sorted_index = best_model.feature_importances_.argsort()\n",
        "parameters = list(train.drop('no_show', axis=1).columns)\n",
        "plt.barh([parameters[i] for i in sorted_index], best_model.feature_importances_[sorted_index], height=.7)\n",
        "plt.title('Random Forest feature importance')\n",
        "for x, y in zip(best_model.feature_importances_[sorted_index], np.arange(len(parameters))):\n",
        "  plt.text(x + .001, y, f'{x:.3f}', va='center')\n",
        "plt.rcParams[\"figure.figsize\"] = plt.rcParamsDefault[\"figure.figsize\"]"
      ],
      "metadata": {
        "id": "5rwhFxTHgaXV",
        "colab": {
          "base_uri": "https://localhost:8080/",
          "height": 336
        },
        "outputId": "9313f20e-cd94-461a-e8bd-a1b96add50da"
      },
      "execution_count": 44,
      "outputs": [
        {
          "output_type": "display_data",
          "data": {
            "text/plain": [
              "<Figure size 594x360 with 1 Axes>"
            ],
            "image/png": "[encoded data removed]"
          },
          "metadata": {
            "needs_background": "light"
          }
        }
      ]
    },
    {
      "cell_type": "markdown",
      "source": [
        "As before, `num_days_between_sch_and_ap` is the most relevant feature followed by `total_cost_public_health`.\n",
        "\n",
        "As we have seen, there are variables that really stand out for our models, as `total_cost_public_health`. Still, could we have a more insightful analysis for these features? Do more `total_cost_public_health` translates in `no_show` being more probable or viceversa? Let's explore other feature importance metrics, as SHAP."
      ],
      "metadata": {
        "id": "XE0NjF6cgcxG"
      }
    },
    {
      "cell_type": "code",
      "source": [
        "explainer = shap.Explainer(xgb_model)\n",
        "shap_values = explainer(train.drop('no_show', axis=1).sample(frac=0.01, random_state=123) )\n",
        "\n",
        "#X_test\n",
        "shap.summary_plot(shap_values, train.drop('no_show', axis=1).sample(frac=0.01, random_state=123))"
      ],
      "metadata": {
        "id": "BnpkGGS6gcBN",
        "colab": {
          "base_uri": "https://localhost:8080/",
          "height": 367
        },
        "outputId": "9efb0631-2eb4-4aad-dc16-db61f1ef6482"
      },
      "execution_count": 45,
      "outputs": [
        {
          "output_type": "error",
          "ename": "Exception",
          "evalue": "ignored",
          "traceback": [
            "\u001b[0;31m---------------------------------------------------------------------------\u001b[0m",
            "\u001b[0;31mException\u001b[0m                                 Traceback (most recent call last)",
            "\u001b[0;32m<ipython-input-45-6c5ebbd730f3>\u001b[0m in \u001b[0;36m<module>\u001b[0;34m()\u001b[0m\n\u001b[0;32m----> 1\u001b[0;31m \u001b[0mexplainer\u001b[0m \u001b[0;34m=\u001b[0m \u001b[0mshap\u001b[0m\u001b[0;34m.\u001b[0m\u001b[0mExplainer\u001b[0m\u001b[0;34m(\u001b[0m\u001b[0mxgb_model\u001b[0m\u001b[0;34m)\u001b[0m\u001b[0;34m\u001b[0m\u001b[0;34m\u001b[0m\u001b[0m\n\u001b[0m\u001b[1;32m      2\u001b[0m \u001b[0mshap_values\u001b[0m \u001b[0;34m=\u001b[0m \u001b[0mexplainer\u001b[0m\u001b[0;34m(\u001b[0m\u001b[0mtrain\u001b[0m\u001b[0;34m.\u001b[0m\u001b[0mdrop\u001b[0m\u001b[0;34m(\u001b[0m\u001b[0;34m'no_show'\u001b[0m\u001b[0;34m,\u001b[0m \u001b[0maxis\u001b[0m\u001b[0;34m=\u001b[0m\u001b[0;36m1\u001b[0m\u001b[0;34m)\u001b[0m\u001b[0;34m.\u001b[0m\u001b[0msample\u001b[0m\u001b[0;34m(\u001b[0m\u001b[0mfrac\u001b[0m\u001b[0;34m=\u001b[0m\u001b[0;36m0.01\u001b[0m\u001b[0;34m,\u001b[0m \u001b[0mrandom_state\u001b[0m\u001b[0;34m=\u001b[0m\u001b[0;36m123\u001b[0m\u001b[0;34m)\u001b[0m \u001b[0;34m)\u001b[0m\u001b[0;34m\u001b[0m\u001b[0;34m\u001b[0m\u001b[0m\n\u001b[1;32m      3\u001b[0m \u001b[0;34m\u001b[0m\u001b[0m\n\u001b[1;32m      4\u001b[0m \u001b[0;31m#X_test\u001b[0m\u001b[0;34m\u001b[0m\u001b[0;34m\u001b[0m\u001b[0;34m\u001b[0m\u001b[0m\n\u001b[1;32m      5\u001b[0m \u001b[0mshap\u001b[0m\u001b[0;34m.\u001b[0m\u001b[0msummary_plot\u001b[0m\u001b[0;34m(\u001b[0m\u001b[0mshap_values\u001b[0m\u001b[0;34m,\u001b[0m \u001b[0mtrain\u001b[0m\u001b[0;34m.\u001b[0m\u001b[0mdrop\u001b[0m\u001b[0;34m(\u001b[0m\u001b[0;34m'no_show'\u001b[0m\u001b[0;34m,\u001b[0m \u001b[0maxis\u001b[0m\u001b[0;34m=\u001b[0m\u001b[0;36m1\u001b[0m\u001b[0;34m)\u001b[0m\u001b[0;34m.\u001b[0m\u001b[0msample\u001b[0m\u001b[0;34m(\u001b[0m\u001b[0mfrac\u001b[0m\u001b[0;34m=\u001b[0m\u001b[0;36m0.01\u001b[0m\u001b[0;34m,\u001b[0m \u001b[0mrandom_state\u001b[0m\u001b[0;34m=\u001b[0m\u001b[0;36m123\u001b[0m\u001b[0;34m)\u001b[0m\u001b[0;34m)\u001b[0m\u001b[0;34m\u001b[0m\u001b[0;34m\u001b[0m\u001b[0m\n",
            "\u001b[0;32m/usr/local/lib/python3.7/dist-packages/shap/explainers/_explainer.py\u001b[0m in \u001b[0;36m__init__\u001b[0;34m(self, model, masker, link, algorithm, output_names, feature_names, linearize_link, **kwargs)\u001b[0m\n\u001b[1;32m    166\u001b[0m                 \u001b[0;31m# if we get here then we don't know how to handle what was given to us\u001b[0m\u001b[0;34m\u001b[0m\u001b[0;34m\u001b[0m\u001b[0;34m\u001b[0m\u001b[0m\n\u001b[1;32m    167\u001b[0m                 \u001b[0;32melse\u001b[0m\u001b[0;34m:\u001b[0m\u001b[0;34m\u001b[0m\u001b[0;34m\u001b[0m\u001b[0m\n\u001b[0;32m--> 168\u001b[0;31m                     \u001b[0;32mraise\u001b[0m \u001b[0mException\u001b[0m\u001b[0;34m(\u001b[0m\u001b[0;34m\"The passed model is not callable and cannot be analyzed directly with the given masker! Model: \"\u001b[0m \u001b[0;34m+\u001b[0m \u001b[0mstr\u001b[0m\u001b[0;34m(\u001b[0m\u001b[0mmodel\u001b[0m\u001b[0;34m)\u001b[0m\u001b[0;34m)\u001b[0m\u001b[0;34m\u001b[0m\u001b[0;34m\u001b[0m\u001b[0m\n\u001b[0m\u001b[1;32m    169\u001b[0m \u001b[0;34m\u001b[0m\u001b[0m\n\u001b[1;32m    170\u001b[0m             \u001b[0;31m# build the right subclass\u001b[0m\u001b[0;34m\u001b[0m\u001b[0;34m\u001b[0m\u001b[0;34m\u001b[0m\u001b[0m\n",
            "\u001b[0;31mException\u001b[0m: The passed model is not callable and cannot be analyzed directly with the given masker! Model: <xgboost.core.Booster object at 0x7f5ca4773250>"
          ]
        }
      ]
    },
    {
      "cell_type": "markdown",
      "source": [
        "From the chart above, we can see (among others):\n",
        "- The number of days between scheduling date and appointment date is positively associated with the target. This means that the more time elapses between shceduling an appointment, the more likely is a no show.\n",
        "\n",
        "- Those appointments for which the patient received a sms before are less likely to end as a no show.\n",
        "\n"
      ],
      "metadata": {
        "id": "h1UP2wCbgue_"
      }
    },
    {
      "cell_type": "markdown",
      "source": [
        "# 3.5 Submission\n",
        "\n",
        "The submission dataset is the dataset that will be used to measure the performance of the model.\n",
        "\n",
        "This data is just a subset of the train dataset, whose target has been reserved. The goal is to apply the same transformations that were applied on training, and then use the model to make predictions over this new dataset.\n",
        "\n",
        "We (the organizers) have the real 0's and 1's of each appointment in the test. Our task is to give a prediction between 0 and 1 (no need to cut the prediction into 0's and 1's) for each row. Later, we will compare your predictions with the real targets.\n",
        "\n",
        "The metric we will use is the ROC AUC.\n",
        "\n",
        "**Note**: it is very important that you provide not only the predictions, but also the appointment ID of each row. Otherwise, we won't be able to relate your prediction with the real targets. "
      ],
      "metadata": {
        "id": "rgh3S-5Jgwb5"
      }
    },
    {
      "cell_type": "code",
      "source": [
        "\n",
        "def imputation(dataset, verbose=True):\n",
        "  print('—'*60, 'IMPUTATION')\n",
        "  if verbose:\n",
        "\n",
        "    n_rows, n_cols = dataset.shape\n",
        "    n_cells_na = dataset.isnull().sum().sum()\n",
        "    n_rows_na = n_rows - dataset.dropna().shape[0]\n",
        "    n_cells = n_rows * n_cols\n",
        "\n",
        "    print(\n",
        "        f\"\"\"\n",
        "        Number of missing cells:     {n_cells_na} cells ({100*n_cells_na/n_cells:.2f} % of total)\n",
        "        Number of rows with missing: {n_rows_na} rows ({100*n_rows_na/n_rows:.2f} % of total)\n",
        "        \"\"\"\n",
        "    )\n",
        "\n",
        "    print('Attribute name \\t\\t Missing values (%)')\n",
        "    print('—'*45)\n",
        "    print(dataset.isnull().sum() / dataset.shape[0] * 100)\n",
        "    print()\n",
        "\n",
        "\n",
        "  public_health_cost_mean = dataset['total_cost_public_health'].mean()\n",
        "  age_mean = dataset['age'].mean()\n",
        "\n",
        "  if verbose:\n",
        "    print(f'public_health_cost_mean: {public_health_cost_mean}')\n",
        "    print(f'age_mean: {age_mean}')\n",
        "\n",
        "  dataset['total_cost_public_health'].fillna(public_health_cost_mean, inplace=True)\n",
        "  dataset['age'].fillna(age_mean, inplace=True)\n",
        "  dataset.fillna(dataset.mode().iloc[0], inplace=True)\n",
        "  \n",
        "  if verbose:\n",
        "    print(f\"Number of null cells after imputation: {dataset.isnull().sum().sum()}\")\n",
        "\n",
        "  return dataset\n",
        "\n",
        "def feature_engineering(dataset, verbose=True):\n",
        "  print('—'*60, 'FEATURE ENGINEERING')\n",
        "  # Define a lambda functions that will extract substrings from the dates\n",
        "  extract_date = lambda x: x[:10]\n",
        "  extract_hour = lambda x: x[11:19]\n",
        "\n",
        "  # Extract dates\n",
        "  if verbose: print('Extracting dates...', end='')\n",
        "  dataset['scheduled_date']   = dataset['scheduled_day'].apply(extract_date)\n",
        "  dataset['appointment_date'] = dataset['appointment_day'].apply(extract_date)\n",
        "  if verbose: print('OK.')\n",
        "\n",
        "  # Extract hours\n",
        "  if verbose: print('Extracting hours...', end='')\n",
        "  dataset['scheduled_hour'] = dataset['scheduled_day'].apply(extract_hour)\n",
        "  dataset['appointment_hour'] = dataset['appointment_day'].apply(extract_hour)\n",
        "  if verbose: print('OK.')\n",
        "\n",
        "  # to operate between dates we first need to convert them to a date format\n",
        "  # to do so, we'll use datetime library\n",
        "  if verbose: print('Converting to date format...', end='')\n",
        "  to_date_format = lambda x: datetime.datetime.strptime(x, '%Y-%m-%d').date()\n",
        "  dataset['scheduled_date_2'] = dataset['scheduled_date'].apply(to_date_format)\n",
        "  dataset['appointment_date_2'] = dataset['appointment_date'].apply(to_date_format)\n",
        "  if verbose: print('OK.')\n",
        "\n",
        "  # Now we can compute the difference between dates\n",
        "  if verbose: print('Computing the difference between dates...', end='')\n",
        "  dataset['num_dayes_between_sch_and_ap'] = (dataset['appointment_date_2'] - \n",
        "                                              dataset['scheduled_date_2']).dt.days\n",
        "  dataset[['scheduled_date_2','appointment_date_2','num_dayes_between_sch_and_ap']].head()\n",
        "  if verbose: print('OK.')\n",
        "\n",
        "  # We can drop now the appointment and schedule dates\n",
        "  if verbose: print('Droping useless attributes...', end='')\n",
        "  to_drop = ['scheduled_date', 'appointment_date', 'scheduled_date_2',\n",
        "            'appointment_date_2','scheduled_day','appointment_day']\n",
        "  dataset = dataset.drop(to_drop, axis=1)\n",
        "  if verbose: print('OK.')\n",
        "\n",
        "  # for some reason appointment hours are constant at 0am, thus they are useless\n",
        "  dataset = dataset.drop('appointment_hour', axis=1)\n",
        "  dataset['scheduled_just_hour'] = dataset['scheduled_hour'].apply(lambda x: pd.to_numeric(x[:2]) )\n",
        "\n",
        "  # Now categorize the hours into morning, afternoon and night\n",
        "  # Start with night and then relevel those values with either morning or afternoon\n",
        "  if verbose: print('Categorizing hours into morning, afternoon and night.', end='')\n",
        "  dataset['scheduled_moment_cat'] = 'night'\n",
        "  dataset.loc[(dataset['scheduled_just_hour'] > 6)  &\n",
        "              (dataset['scheduled_just_hour'] <= 14),\n",
        "              'scheduled_moment_cat'] = 'morning'\n",
        "\n",
        "  dataset.loc[(dataset['scheduled_just_hour'] > 14)  &\n",
        "              (dataset['scheduled_just_hour'] <= 21),\n",
        "              'scheduled_moment_cat'] = 'afternoon'\n",
        "  if verbose: print('OK.')\n",
        "              \n",
        "  # Let's drop the hours columns, but we'll keep the \"scheduled_just_hour\", who knows\n",
        "  # it might be useful after all\n",
        "\n",
        "  if verbose: print('Droping useless attributes...', end='')\n",
        "  to_drop = ['scheduled_hour']#, 'appointment_hour']\n",
        "  dataset = dataset.drop(to_drop, axis=1)\n",
        "  if verbose: print('OK')\n",
        "\n",
        "  if verbose: print('Calculating cost per visit...', end='')\n",
        "  dataset['cost_per_visit'] = dataset['total_cost_public_health']/dataset['num_prior_appointments']\n",
        "  # Fill infinite values with 0's\n",
        "  dataset = dataset.replace([np.inf, -np.inf], 0)\n",
        "  dataset.fillna(0, inplace=True)\n",
        "  if verbose: print('OK')\n",
        "  \n",
        "  return dataset\n",
        "\n",
        "def standarization(dataset,scaler=None ,verbose=True):\n",
        "  print('—'*60, 'STANDARIZATION')\n",
        "\n",
        "  # Split data intro numerical features and categorical features\n",
        "\n",
        "  if verbose: print('Starting standarization...', end='')\n",
        "\n",
        "  num_features = ['num_dayes_between_sch_and_ap','cost_per_visit', 'total_cost_public_health',\n",
        "                'scheduled_just_hour','age']\n",
        "  df_num = dataset[num_features]\n",
        "  df_num_scaled = scaler.transform(df_num)\n",
        "\n",
        "  # Convert it back to a pandas Data Frame\n",
        "  df_num_scaled = pd.DataFrame(df_num_scaled, columns=df_num.columns)\n",
        "\n",
        "  # Concatenate numeric with categorical into a whole dataset again\n",
        "  # extract cat columns\n",
        "  cat_features = [col for col in dataset.columns if col not in num_features]\n",
        "  df_cat = dataset[cat_features]\n",
        "\n",
        "  # Concatenate categorical and numerical back together\n",
        "  dataset = pd.concat([df_cat, df_num_scaled], axis=1)\n",
        "\n",
        "  if verbose: print('OK.')\n",
        "\n",
        "  return dataset\n",
        "\n",
        "def encoding(dataset, vars_to_encode):\n",
        "  print('—'*60, 'ENCODING')\n",
        "  # We can use the function pd.get_dummies to generate binary variables automatically\n",
        "\n",
        "  df_to_encode= dataset[vars_to_encode]\n",
        "  df_encoded = pd.get_dummies(df_to_encode, drop_first = True)\n",
        "\n",
        "  # Drop non encodded variabes from dataset\n",
        "  dataset = dataset.drop(vars_to_encode, axis=1)\n",
        "\n",
        "  # Add the encoded dataset to the train dataset\n",
        "  dataset = pd.concat([dataset, df_encoded], axis=1)\n",
        "\n",
        "  return dataset\n",
        "\n",
        "def preprocess(dataset,scaler, verbose=True):\n",
        "  print(dataset.shape[0])\n",
        "  dataset = imputation(dataset, verbose)\n",
        "  print(dataset.shape[0])\n",
        "  dataset = feature_engineering(dataset, verbose)\n",
        "  print(dataset.shape[0])\n",
        "  dataset = standarization(dataset, scaler=scaler, verbose=verbose)\n",
        "  print(dataset.shape[0])\n",
        "  dataset = encoding(dataset, vars_to_encode=['gender','neighbourhood','scheduled_moment_cat'])\n",
        "  return dataset"
      ],
      "metadata": {
        "id": "Qij1Gv9xgyTn"
      },
      "execution_count": null,
      "outputs": []
    },
    {
      "cell_type": "code",
      "source": [
        "df_test = pd.read_csv('test.csv')\n",
        "\n",
        "# Separate the appointment_id in test, as we won't pass it to the model,\n",
        "# But we still need it to relate the predictions with the targets.\n",
        "app_ids_test = df_test['appointment_id']\n",
        "df_test = df_test.drop('appointment_id', axis=1)\n",
        "df_test = preprocess(df_test, verbose=True, scaler=ss)"
      ],
      "metadata": {
        "id": "BmPvUN0Agz3-"
      },
      "execution_count": null,
      "outputs": []
    },
    {
      "cell_type": "code",
      "source": [
        "# Last touches so the test data can be passed to the model\n",
        "cols_train = df_train.columns.tolist()\n",
        "cols_train.remove('no_show')\n",
        "df_test = df_test[cols_train] \n",
        "def sorted_columns(dataset):\n",
        "  return list(sorted(list(dataset.columns)))\n",
        "\n",
        "print('Check whether they have the same columns:')\n",
        "sorted_columns(df_train.drop('no_show', axis=1)) == sorted_columns(df_test)"
      ],
      "metadata": {
        "id": "4RUC18mDg1Gn"
      },
      "execution_count": null,
      "outputs": []
    },
    {
      "cell_type": "code",
      "source": [
        "prob_xg_test = xgb_model.predict(xgb.DMatrix(df_test))\n",
        "prob_xg_test =pd.Series(prob_xg_test)\n",
        "# Since the \n",
        "#pred_xg_test = [1 if prob >= 0.5 else 0 for prob in prob_xg_test]\n",
        "\n",
        "# Add the appointment id, so the predictions can be compared with the target\n",
        "prob_series = pd.Series(prob_xg_test)\n",
        "df_submission = pd.concat([app_ids_test,prob_xg_test], axis=1)\n",
        "df_submission.columns = ['appointment_id','prediction']\n",
        "df_submission.to_csv('submission.csv')\n"
      ],
      "metadata": {
        "id": "elOAzoJSg2fm"
      },
      "execution_count": null,
      "outputs": []
    },
    {
      "cell_type": "code",
      "source": [
        "# Only if you have the targets for the test data, which you won't\n",
        "have_test_targets = False\n",
        "if have_test_targets:\n",
        "  # Evaluate submission agains test targets\n",
        "  df_test_targets = pd.read_csv('test_with_target.csv')[['appointment_id','no_show']]\n",
        "  df_test_targets.head()\n",
        "\n",
        "  # Merge with the submissio and compare the AUC on test\n",
        "  df_sub_targets = pd.merge(df_submission, df_test_targets, on='appointment_id')\n",
        "  auc_test = roc_auc_score(df_sub_targets['no_show'], df_sub_targets['prediction'])\n",
        "  print(f'AUC over test = {auc_test}')"
      ],
      "metadata": {
        "id": "D3FiCw5gpafG"
      },
      "execution_count": null,
      "outputs": []
    },
    {
      "cell_type": "markdown",
      "source": [
        "# 3.6 Further ideas\n",
        "\n",
        "\n",
        "Here is a list of ideas you can use to improve the model\n",
        "\n",
        "\n",
        "*   **New features**: can you come up with other engineered features?\n",
        "*   **Other algorithms**: linear models, Support Vector Machines, Random Forest, etc\n",
        "*   **Tune the hyperparameters of the model**: Hyperparameters are parameters whose values control the learning process and determine the values of model parameters that a learning algorithm ends up learning. Hyperparameter tuning is the problem of choosing a set of optimal hyperparameters for a learning algorithm.\n",
        "\n",
        "*   Do your own research: The possibilities are unlimited\n",
        "\n",
        "\n",
        "\n"
      ],
      "metadata": {
        "id": "NVE5Btiug32x"
      }
    },
    {
      "cell_type": "markdown",
      "source": [
        "# References\n",
        "[1] Marbouh, D., Khaleel, I., Al Shanqiti, K., Al Tamimi, M., Simsekler, M., Ellahham, S., Alibazoglu, D., & Alibazoglu, H. (2020). *Evaluating the Impact of Patient No-Shows on Service Quality*. Risk management and healthcare policy, 13, 509–517. https://doi.org/10.2147/RMHP.S232114"
      ],
      "metadata": {
        "id": "blz6D6iig6dt"
      }
    }
  ]
}